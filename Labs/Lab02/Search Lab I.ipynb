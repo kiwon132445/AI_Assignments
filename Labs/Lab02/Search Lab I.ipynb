{
 "cells": [
  {
   "cell_type": "markdown",
   "metadata": {},
   "source": [
    "# Lab - Search #\n",
    "\n",
    "This notebook serves as the starter code and lab description covering **Chapter 3 - Solving Problems by Searching** and **Section 4.1 - Local Search and Optimization Problems** from the book *Artificial Intelligence: A Modern Approach.*"
   ]
  },
  {
   "cell_type": "code",
   "execution_count": 1,
   "metadata": {},
   "outputs": [],
   "source": [
    "from starter import *\n",
    "\n",
    "# This function is placed here to help you read through the source code of different classes, \n",
    "#  and debug what has been loaded into jupyter, \n",
    "#  make sure all the function calls to `psource` are commented in your submission\n",
    "def psource(*functions):\n",
    "    \"\"\"Print the source code for the given function(s).\"\"\"\n",
    "    from inspect import getsource\n",
    "    source_code = '\\n\\n'.join(getsource(fn) for fn in functions)\n",
    "    try:\n",
    "        from pygments.formatters import HtmlFormatter\n",
    "        from pygments.lexers import PythonLexer\n",
    "        from pygments import highlight\n",
    "\n",
    "        display(HTML(highlight(source_code, PythonLexer(), HtmlFormatter(full=True))))\n",
    "\n",
    "    except ImportError:\n",
    "        print(source_code)"
   ]
  },
  {
   "cell_type": "markdown",
   "metadata": {},
   "source": [
    "## OVERVIEW\n",
    "\n",
    "Here, we learn about a specific kind of problem solving - building goal-based agents that can plan ahead to solve problems. In particular, we examine navigation problem/route finding problem. We must begin by precisely defining **problems** and their **solutions**.\n",
    "\n",
    "Search algorithms can be classified into two types:\n",
    "\n",
    "* **Uninformed search algorithms**: Search algorithms which explore the search space without having any information about the problem other than its definition.\n",
    "    * Examples:\n",
    "        1. Breadth First Search\n",
    "        2. Depth First Search\n",
    "        3. Depth Limited Search\n",
    "        4. Iterative Deepening Search\n",
    "\n",
    "\n",
    "* **Informed search algorithms**: These type of algorithms leverage any information (heuristics, path cost) on the problem to search through the search space to find the solution efficiently.\n",
    "    * Examples:\n",
    "        1. Best First Search\n",
    "        2. Uniform Cost Search\n",
    "        3. A\\* Search\n",
    "        4. Recursive Best First Search"
   ]
  },
  {
   "cell_type": "markdown",
   "metadata": {},
   "source": [
    "# Problems and Nodes\n",
    "\n",
    "We start by defining the abstract class for a `Problem`; specific problem domains will subclass this. To make it easier for algorithms that use a heuristic evaluation function, `Problem` has a default `h` function (uniformly zero), and subclasses can define their own default `h` function.\n",
    "\n",
    "- `Problem` is the abstract class for a formal problem. A new domain subclasses this, overriding `actions` and `results`, and perhaps other methods. The default heuristic is 0 and the default action cost is 1 for all states. When you create an instance of a subclass, specify `initial`, and `goal` states (or give an `is_goal` method) and perhaps other keyword args for the subclass.\n",
    "\n",
    "We also define a `Node` in a search tree, and some functions on nodes: `expand` to generate successors; `path_actions` and `path_states`  to recover aspects of the path from the node.  \n",
    "\n",
    "In addition, we define a `PriorityQueue` in which the item with minimum `f(item)` score is always popped first."
   ]
  },
  {
   "cell_type": "code",
   "execution_count": 2,
   "metadata": {},
   "outputs": [],
   "source": [
    "# psource(Problem)\n",
    "# psource(Node)\n",
    "# psource(expand)\n",
    "# psource(path_actions)\n",
    "# psource(path_states)\n",
    "# psource(PriorityQueue)"
   ]
  },
  {
   "cell_type": "markdown",
   "metadata": {},
   "source": [
    "# Route Finding Problem\n",
    "\n",
    "In a `RouteProblem`, the states are names of \"cities\" (or other locations), like `'A'` for Arad. The actions are also city names; `'Z'` is the action to move to city `'Z'`. \n",
    "\n",
    "The layout of cities is given by a separate data structure, a `Map`, which is a graph where there are vertexes (cities), links between vertexes, distances (costs) of those links (if not specified, the default is 1 for every link), and optionally the 2D (x, y) location of each city can be specified. \n",
    "\n",
    "- A map of places in a 2D world: a graph with vertexes and links between them. In `Map(links, locations)`, `links` can be either \\[(v1, v2)...\\] pairs, or a {(v1, v2): distance...} dict. \n",
    "\n",
    "- Optional `locations` can be {v1: (x, y)} If `directed=False` then for every (v1, v2) link, we add a (v2, v1) link.\n",
    "\n",
    "A `RouteProblem` takes this `Map` as input and allows actions to move between linked cities. The default heuristic is straight-line distance to the goal, or is uniformly zero if locations were not given."
   ]
  },
  {
   "cell_type": "code",
   "execution_count": 3,
   "metadata": {},
   "outputs": [],
   "source": [
    "# psource(Map)"
   ]
  },
  {
   "cell_type": "code",
   "execution_count": 4,
   "metadata": {},
   "outputs": [],
   "source": [
    "# Here is our example defined map:\n",
    "romania = Map(\n",
    "    {('O', 'Z'):  71, ('O', 'S'): 151, ('A', 'Z'): 75, ('A', 'S'): 140, ('A', 'T'): 118, \n",
    "     ('L', 'T'): 111, ('L', 'M'):  70, ('D', 'M'): 75, ('C', 'D'): 120, ('C', 'R'): 146, \n",
    "     ('C', 'P'): 138, ('R', 'S'):  80, ('F', 'S'): 99, ('B', 'F'): 211, ('B', 'P'): 101, \n",
    "     ('B', 'G'):  90, ('B', 'U'):  85, ('H', 'U'): 98, ('E', 'H'):  86, ('U', 'V'): 142, \n",
    "     ('I', 'V'):  92, ('I', 'N'):  87, ('P', 'R'): 97},\n",
    "    {'A': ( 76, 497), 'B': (400, 327), 'C': (246, 285), 'D': (160, 296), 'E': (558, 294), \n",
    "     'F': (285, 460), 'G': (368, 257), 'H': (548, 355), 'I': (488, 535), 'L': (162, 379),\n",
    "     'M': (160, 343), 'N': (407, 561), 'O': (117, 580), 'P': (311, 372), 'R': (227, 412),\n",
    "     'S': (187, 463), 'T': ( 83, 414), 'U': (471, 363), 'V': (535, 473), 'Z': (92, 539)})"
   ]
  },
  {
   "cell_type": "markdown",
   "metadata": {},
   "source": [
    "In the following cell, I have defined `RouteProblem` as a problem to find a route between locations on an instance of a `Map` object in which states are the vertexes in the Map graph and actions are destination states.\n",
    "\n",
    "- Your job is to provide one-liner implementations for `action_cost` and `h` functions so this class works properly. \n",
    "- In your partial implementation try using `straight_line_distance` as a distance measure.\n",
    "    "
   ]
  },
  {
   "cell_type": "code",
   "execution_count": 5,
   "metadata": {},
   "outputs": [],
   "source": [
    "class RouteProblem(Problem):\n",
    "    \n",
    "    def actions(self, state): \n",
    "        \"\"\"The places neighboring `state`.\"\"\"\n",
    "        return self.map.neighbors[state]\n",
    "    \n",
    "    def result(self, state, action):\n",
    "        \"\"\"Go to the `action` place, if the map says that is possible.\"\"\"\n",
    "        return action if action in self.map.neighbors[state] else state\n",
    "    \n",
    "    def action_cost(self, s, action, s1):\n",
    "        \"\"\"The distance (cost) to go from s to s1.\"\"\"\n",
    "        # TODO return a proper value from the map\n",
    "        return 1\n",
    "    \n",
    "    def h(self, node):\n",
    "        \"Straight-line distance between state and the goal.\"\n",
    "        # TODO return a proper value using `straight_line_distance`\n",
    "        return 1.0\n",
    "    \n",
    "    \n",
    "def straight_line_distance(A, B):\n",
    "    \"Straight-line distance between two points.\"\n",
    "    return sum(abs(a - b)**2 for (a, b) in zip(A, B)) ** 0.5"
   ]
  },
  {
   "cell_type": "markdown",
   "metadata": {},
   "source": [
    "You can test route problem with `RouteProblem(start, goal, map=Map(...)})`."
   ]
  },
  {
   "cell_type": "code",
   "execution_count": 6,
   "metadata": {},
   "outputs": [],
   "source": [
    "r0 = RouteProblem('A', 'A', map=romania)\n",
    "r1 = RouteProblem('A', 'B', map=romania)\n",
    "r2 = RouteProblem('N', 'L', map=romania)\n",
    "r3 = RouteProblem('E', 'T', map=romania)\n",
    "r4 = RouteProblem('O', 'M', map=romania)"
   ]
  },
  {
   "cell_type": "markdown",
   "metadata": {},
   "source": [
    "Great, now that we have defined our problem, its time to implement the search algorithms we have learned in the lectures. As an example, I have already implemented BFS and used it to solve the problems we defined in the cell above."
   ]
  },
  {
   "cell_type": "code",
   "execution_count": 7,
   "metadata": {},
   "outputs": [
    {
     "name": "stdout",
     "output_type": "stream",
     "text": [
      "['A']\n",
      "['A', 'S', 'F', 'B']\n",
      "['N', 'I', 'V', 'U', 'B', 'F', 'S', 'A', 'T', 'L']\n",
      "['E', 'H', 'U', 'B', 'F', 'S', 'A', 'T']\n",
      "['O', 'Z', 'A', 'T', 'L', 'M']\n"
     ]
    }
   ],
   "source": [
    "def breadth_first_search(problem):\n",
    "    \"Search shallowest nodes in the search tree first.\"\n",
    "    node = Node(problem.initial)\n",
    "    if problem.is_goal(problem.initial):\n",
    "        return node\n",
    "    frontier = FIFOQueue([node])\n",
    "    reached = {problem.initial}\n",
    "    while frontier:\n",
    "        node = frontier.pop()\n",
    "        for child in expand(problem, node):\n",
    "            s = child.state\n",
    "            if problem.is_goal(s):\n",
    "                return child\n",
    "            if s not in reached:\n",
    "                reached.add(s)\n",
    "                frontier.appendleft(child)\n",
    "    return failure\n",
    "\n",
    "print(path_states(breadth_first_search(r0)))\n",
    "print(path_states(breadth_first_search(r1)))\n",
    "print(path_states(breadth_first_search(r2)))\n",
    "print(path_states(breadth_first_search(r3)))\n",
    "print(path_states(breadth_first_search(r4)))"
   ]
  },
  {
   "cell_type": "markdown",
   "metadata": {},
   "source": [
    "Using the example of `breadth_first_search` above, implement `depth_limited_search` and run the cell to print out the search results. You may use the `is_cycle` code to prevent your algorithm to get trapped in cycles."
   ]
  },
  {
   "cell_type": "code",
   "execution_count": 8,
   "metadata": {},
   "outputs": [
    {
     "name": "stdout",
     "output_type": "stream",
     "text": [
      "['A']\n",
      "['A', 'T', 'L', 'M', 'D', 'C', 'P', 'B']\n",
      "['N', 'I', 'V', 'U', 'B', 'P', 'C', 'D', 'M', 'L']\n",
      "['E', 'H', 'U', 'B', 'P', 'C', 'R', 'S', 'A', 'T']\n",
      "['O', 'S', 'F', 'B', 'P', 'C', 'D', 'M']\n"
     ]
    }
   ],
   "source": [
    "def is_cycle(node, k=30):\n",
    "    \"Does this node form a cycle of length k or less?\"\n",
    "    def find_cycle(ancestor, k):\n",
    "        return (ancestor is not None and k > 0 and\n",
    "                (ancestor.state == node.state or find_cycle(ancestor.parent, k - 1)))\n",
    "    return find_cycle(node.parent, k)\n",
    "\n",
    "def depth_limited_search(problem, limit=10):\n",
    "    \"Search deepest nodes in the search tree first.\"\n",
    "    # TODO\n",
    "    return failure\n",
    "\n",
    "\n",
    "print(path_states(depth_limited_search(r0)))\n",
    "print(path_states(depth_limited_search(r1)))\n",
    "print(path_states(depth_limited_search(r2)))\n",
    "print(path_states(depth_limited_search(r3)))\n",
    "print(path_states(depth_limited_search(r4)))"
   ]
  },
  {
   "cell_type": "markdown",
   "metadata": {},
   "source": [
    "Now using your `depth_limited_search` implementation, implement `iterative_deepening_search` and run the cell to print out the results. In your implementation widen the depth of the search from 1 to `sys.maxsize` and continue the search until you get `cutoff` as the `result`."
   ]
  },
  {
   "cell_type": "code",
   "execution_count": 9,
   "metadata": {},
   "outputs": [
    {
     "name": "stdout",
     "output_type": "stream",
     "text": [
      "['A']\n",
      "['A', 'S', 'F', 'B']\n",
      "['N', 'I', 'V', 'U', 'B', 'P', 'C', 'D', 'M', 'L']\n",
      "['E', 'H', 'U', 'B', 'F', 'S', 'A', 'T']\n",
      "['O', 'S', 'R', 'C', 'D', 'M']\n"
     ]
    }
   ],
   "source": [
    "def iterative_deepening_search(problem):\n",
    "    \"Do depth-limited search with increasing depth limits.\"\n",
    "    # TODO\n",
    "    return failure\n",
    "        \n",
    "print(path_states(iterative_deepening_search(r0)))\n",
    "print(path_states(iterative_deepening_search(r1)))\n",
    "print(path_states(iterative_deepening_search(r2)))\n",
    "print(path_states(iterative_deepening_search(r3)))\n",
    "print(path_states(iterative_deepening_search(r4)))"
   ]
  },
  {
   "cell_type": "markdown",
   "metadata": {},
   "source": [
    "As the last two search algorithms, implement `best_first_search` and using that implement `astar_search` and run the cell to print out the results."
   ]
  },
  {
   "cell_type": "code",
   "execution_count": 10,
   "metadata": {},
   "outputs": [
    {
     "name": "stdout",
     "output_type": "stream",
     "text": [
      "['A']\n",
      "['A', 'S', 'R', 'P', 'B']\n",
      "['N', 'I', 'V', 'U', 'B', 'P', 'C', 'D', 'M', 'L']\n",
      "['E', 'H', 'U', 'B', 'P', 'R', 'S', 'A', 'T']\n",
      "['O', 'Z', 'A', 'T', 'L', 'M']\n"
     ]
    }
   ],
   "source": [
    "def best_first_search(problem, f):\n",
    "    \"Search nodes with minimum f(node) value first.\"\n",
    "    # TODO\n",
    "    return failure\n",
    "\n",
    "def g(n): return n.path_cost\n",
    "\n",
    "def astar_search(problem, h=None):\n",
    "    \"\"\"Search nodes with minimum f(n) = g(n) + h(n).\"\"\"\n",
    "    # TODO\n",
    "    return failure\n",
    "\n",
    "print(path_states(astar_search(r0)))\n",
    "print(path_states(astar_search(r1)))\n",
    "print(path_states(astar_search(r2)))\n",
    "print(path_states(astar_search(r3)))\n",
    "print(path_states(astar_search(r4)))"
   ]
  },
  {
   "cell_type": "markdown",
   "metadata": {},
   "source": [
    "# 8 Puzzle Problem\n",
    "\n",
    "![](https://ece.uwaterloo.ca/~dwharder/aads/Algorithms/N_puzzles/images/puz3.png)\n",
    "\n",
    "A sliding tile puzzle where you can swap the blank with an adjacent piece, trying to reach a goal configuration. The cells are numbered 0 to 8, starting at the top left and going row by row left to right. The pieces are numebred 1 to 8, with 0 representing the blank. An action is the cell index number that is to be swapped with the blank (*not* the actual number to be swapped but the index into the state). So the diagram above left is the state `(5, 2, 7, 8, 4, 0, 1, 3, 6)`, and the action is `8`, because the cell number 8 (the 9th or last cell, the `6` in the bottom right) is swapped with the blank.\n",
    "\n",
    "There are two disjoint sets of states that cannot be reached from each other. One set has an even number of \"inversions\"; the other has an odd number. An inversion is when a piece in the state is larger than a piece that follows it.\n",
    "\n",
    "For this problem, we have already implemented a `Board` to contain the sliding cells and two helping functions `inversions` which checks the inversions in the board passed to it and `board8` which provides a strting representation of the 8-puzzle board."
   ]
  },
  {
   "cell_type": "code",
   "execution_count": 11,
   "metadata": {},
   "outputs": [],
   "source": [
    "#psource(inversions)\n",
    "#psource(board8)\n",
    "#psource(Board)"
   ]
  },
  {
   "cell_type": "markdown",
   "metadata": {},
   "source": [
    "Using the example problem of `RouteProblem` and considering the definition of the `EightPuzzle` problem, fill out the `EightPuzzle` class which extends `Problem`. In this class, A board state is represented as a tuple of length 9, where the element at index i represents the tile number at index i, or 0 if for the empty square, e.g. the goal: \n",
    "```\n",
    "        1 2 3\n",
    "        4 5 6 ==> (1, 2, 3, 4, 5, 6, 7, 8, 0)\n",
    "        7 8 _\n",
    "```\n",
    "Your job is to implement `h` function to use either `hamming_distance` or `manhattan distance`. Your implementation must contain both functions."
   ]
  },
  {
   "cell_type": "code",
   "execution_count": 12,
   "metadata": {},
   "outputs": [],
   "source": [
    "class EightPuzzle(Problem):\n",
    "    \"\"\" The problem of sliding tiles numbered from 1 to 8 on a 3x3 board,\n",
    "    where one of the squares is a blank, trying to reach a goal configuration. \n",
    "    \"\"\"\n",
    "\n",
    "    def __init__(self, initial, goal=(0, 1, 2, 3, 4, 5, 6, 7, 8)):\n",
    "        assert inversions(initial) % 2 == inversions(goal) % 2 # Parity check\n",
    "        self.initial, self.goal = initial, goal\n",
    "    \n",
    "    def actions(self, state):\n",
    "        \"\"\"The indexes of the squares that the blank can move to.\"\"\"\n",
    "        moves = ((1, 3),    (0, 2, 4),    (1, 5),\n",
    "                 (0, 4, 6), (1, 3, 5, 7), (2, 4, 8),\n",
    "                 (3, 7),    (4, 6, 8),    (7, 5))\n",
    "        blank = state.index(0)\n",
    "        return moves[blank]\n",
    "    \n",
    "    def result(self, state, action):\n",
    "        \"\"\"Swap the blank with the square numbered `action`.\"\"\"\n",
    "        s = list(state)\n",
    "        blank = state.index(0)\n",
    "        s[action], s[blank] = s[blank], s[action]\n",
    "        return tuple(s)\n",
    "    \n",
    "    def h1(self, node):\n",
    "        \"\"\"The misplaced tiles heuristic.\"\"\"\n",
    "        # TODO implement this\n",
    "        return 1.0\n",
    "    \n",
    "    def h2(self, node):\n",
    "        \"\"\"The Manhattan heuristic.\"\"\"\n",
    "        # TODO implement this\n",
    "        return 1.0\n",
    "    \n",
    "    def h(self, node): return 1.0 # self.h2(node) or self.h1(node)\n",
    "    \n",
    "    \n",
    "def hamming_distance(A, B):\n",
    "    \"Number of positions where vectors A and B are different.\"\n",
    "    return sum(a != b for a, b in zip(A, B))"
   ]
  },
  {
   "cell_type": "markdown",
   "metadata": {},
   "source": [
    "Run the following code with both of your implemented distance functions as `h` and comment which one works better for each problem instance (e1 to e5)."
   ]
  },
  {
   "cell_type": "code",
   "execution_count": 13,
   "metadata": {},
   "outputs": [
    {
     "name": "stdout",
     "output_type": "stream",
     "text": [
      "1 4 2\n",
      "_ 7 5\n",
      "3 6 8\n",
      "\n",
      "1 4 2\n",
      "3 7 5\n",
      "_ 6 8\n",
      "\n",
      "1 4 2\n",
      "3 7 5\n",
      "6 _ 8\n",
      "\n",
      "1 4 2\n",
      "3 _ 5\n",
      "6 7 8\n",
      "\n",
      "1 _ 2\n",
      "3 4 5\n",
      "6 7 8\n",
      "\n",
      "_ 1 2\n",
      "3 4 5\n",
      "6 7 8\n",
      "\n"
     ]
    }
   ],
   "source": [
    "# Some specific EightPuzzle problems\n",
    "\n",
    "e1 = EightPuzzle((1, 4, 2, 0, 7, 5, 3, 6, 8))\n",
    "e2 = EightPuzzle((1, 2, 3, 4, 5, 6, 7, 8, 0))\n",
    "e3 = EightPuzzle((4, 0, 2, 5, 1, 3, 7, 8, 6))\n",
    "e4 = EightPuzzle((7, 2, 4, 5, 0, 6, 8, 3, 1))\n",
    "e5 = EightPuzzle((8, 6, 7, 2, 5, 4, 3, 0, 1))\n",
    "\n",
    "# Solve an 8 puzzle problem and print out each state\n",
    "\n",
    "for s in path_states(astar_search(e1)):\n",
    "    print(board8(s))"
   ]
  }
 ],
 "metadata": {
  "kernelspec": {
   "display_name": "Python 3",
   "language": "python",
   "name": "python3"
  },
  "language_info": {
   "codemirror_mode": {
    "name": "ipython",
    "version": 3
   },
   "file_extension": ".py",
   "mimetype": "text/x-python",
   "name": "python",
   "nbconvert_exporter": "python",
   "pygments_lexer": "ipython3",
   "version": "3.8.7"
  }
 },
 "nbformat": 4,
 "nbformat_minor": 4
}
