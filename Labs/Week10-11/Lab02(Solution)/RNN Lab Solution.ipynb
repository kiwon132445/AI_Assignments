{
 "cells": [
  {
   "cell_type": "markdown",
   "metadata": {},
   "source": [
    "# Lab Solution - Generating Names with a Character-Level RNN\n",
    "This notebook serves as the starter code and lab description for the Lab covering **Chapter 21 - Deep Learning (Part 2)** from the book *Artificial Intelligence: A Modern Approach.*"
   ]
  },
  {
   "cell_type": "code",
   "execution_count": 1,
   "metadata": {},
   "outputs": [],
   "source": [
    "import warnings\n",
    "warnings.filterwarnings(\"ignore\")\n",
    "\n",
    "import json\n",
    "import random\n",
    "import string # used for defining `all_letters` variable\n",
    "import time\n",
    "import math\n",
    "from tqdm import tqdm\n",
    "\n",
    "import matplotlib.pyplot as plt\n",
    "import matplotlib.ticker as ticker\n",
    "\n",
    "import torch\n",
    "import torch.nn as nn\n",
    "\n",
    "device = torch.device('cuda' if torch.cuda.is_available() else 'cpu')"
   ]
  },
  {
   "cell_type": "markdown",
   "metadata": {},
   "source": [
    "## OVERVIEW\n",
    "In the lecture, we have reviewed the general architecture of RNNs and we discussed their application in time varying states. In this lab, we get our hands dirty, create an RNN module and use it to generate names for a certain language.\n",
    "\n",
    "### Data\n",
    "For this task, I have already downloaded the name data from [here](https://download.pytorch.org/tutorial/data.zip) and cleaned it up (removed accents and turned unicode to ascii) and saved it in a json file. Lets load up the data set and see a couple of names from it."
   ]
  },
  {
   "cell_type": "code",
   "execution_count": 2,
   "metadata": {},
   "outputs": [
    {
     "name": "stdout",
     "output_type": "stream",
     "text": [
      "Here are all the languages for which we have some names in our dataset:\n",
      "\t\t['Czech', 'Scottish', 'Greek', 'Japanese', 'German', 'Korean', 'Chinese', 'Dutch', 'Portuguese', 'Arabic', 'English', 'Spanish', 'Irish', 'Vietnamese', 'French', 'Polish', 'Russian', 'Italian']\n",
      "\n",
      "And here are some names in lets say 'Czech' language:\n",
      "\t\tAbl|Adsit|Ajdrna|Alt|Antonowitsch|Antonowitz|Bacon|Ballalatak|Ballaltick|Bartonova\n"
     ]
    }
   ],
   "source": [
    "names = json.loads(open(\"names_dataset.json\", \"r\").read())\n",
    "all_languages = list(names.keys())\n",
    "print(\"Here are all the languages for which we have some names in our dataset:\\n\\t\\t{}\\n\".format(all_languages))\n",
    "print(\"And here are some names in lets say 'Czech' language:\\n\\t\\t{}\".format(\"|\".join(names['Czech'][:10])))"
   ]
  },
  {
   "cell_type": "markdown",
   "metadata": {},
   "source": [
    "We also consider the following set of all possible letters that could appear in a name which will later come in handy."
   ]
  },
  {
   "cell_type": "code",
   "execution_count": 3,
   "metadata": {},
   "outputs": [],
   "source": [
    "all_letters = string.ascii_letters + \" .,;'-\"\n",
    "n_letters = len(all_letters) + 1 # Plus EOS marker"
   ]
  },
  {
   "cell_type": "markdown",
   "metadata": {},
   "source": [
    "Let's create helper functions to get random pairs of (language, name):"
   ]
  },
  {
   "cell_type": "code",
   "execution_count": 4,
   "metadata": {},
   "outputs": [],
   "source": [
    "# Random item from a list\n",
    "def randomChoice(l):\n",
    "    return l[random.randint(0, len(l) - 1)]\n",
    "\n",
    "# Get a random language and random name from that language\n",
    "def randomTrainingPair():\n",
    "    r_lang = randomChoice(all_languages)\n",
    "    r_name = randomChoice(names[r_lang])\n",
    "    return r_lang, r_name\n",
    "\n",
    "# This helper function will take a `time.time()` and returns the time difference since that time\n",
    "def timeSince(since):\n",
    "    now = time.time()\n",
    "    s = now - since\n",
    "    m = math.floor(s / 60)\n",
    "    s -= m * 60\n",
    "    return '%dm %ds' % (m, s)"
   ]
  },
  {
   "cell_type": "markdown",
   "metadata": {},
   "source": [
    "## Creating the model\n",
    "Now, lets turn our focus to the model design. For each timestep (that is, for each letter in a training word - e.g. name) the inputs of the network will be ``(language, current letter in name, hidden state)`` and the outputs will be ``(next letter in name, next hidden state)``. \n",
    "\n",
    "So for each training set, we'll need the language, a set of current letters, and a set of output/next\n",
    "letters coverted to tensors.\n",
    "\n",
    "Fill out the next three functions which are simply receiving either a `language` or a `name` in a language and convert it to a proper format of tensor. In the process, please keep in mind that for the RNNs normally the input tensors are in [`one-hot`](https://en.wikipedia.org/wiki/One-hot) format while the output tensors are **not**.\n",
    "\n",
    "### `currentLetterTensor(name)`\n",
    "The first input creation method is `currentLetterTensor` which receives a string formatted `name` creates a `zeros` **float** tensor of size (`name_length` $\\times$ `1` $\\times$ `n_letters`). Lets call this newly created tensor `result`. Then for each letter in `name` (in position `letter_position` of the `name`), it looks up to `find` the letter index (let's call it `letter_vocab_id`) in the set of `all_letters` (vocabulary of all letters that could happen in a name). Next, it will set `result[letter_position][0][letter_vocab_id]` to `1`.\n",
    "\n",
    "**Important note: don't forget to call `.to(device)` on any tensor that you create to make sure it is properly located in CPU/GPU.**"
   ]
  },
  {
   "cell_type": "code",
   "execution_count": 5,
   "metadata": {},
   "outputs": [],
   "source": [
    "# TODO create `currentLetterTensor` function\n",
    "def currentLetterTensor(name):\n",
    "    result = torch.zeros(len(name), 1, n_letters).float()\n",
    "    for letter_position in range(len(name)):\n",
    "        result[letter_position][0][all_letters.find(name[letter_position])] = 1\n",
    "    return result.to(device)"
   ]
  },
  {
   "cell_type": "markdown",
   "metadata": {},
   "source": [
    "### `languageTensor()`\n",
    "Next input creation method will be `languageTensor` (implemented pretty much like the previous one) which receives a string formatted `language` and creates a `zeros` **float** tensor of size (`1` $\\times$ `len_all_languages`). Lets call this newly created tensor `result`. Then it looks up the `index` of the passed in `language` in `all_languages` and sets `result[0][looked_up_index]` to `1`. \n",
    "\n",
    "*When training we feed this tensor to the network at every timestep - this is a design choice, it could have been included as part of initial hidden state or some other strategy.*\n",
    "\n",
    "\n",
    "**Important note: don't forget to call `.to(device)` on any tensor that you create to make sure it is properly located in CPU/GPU.**"
   ]
  },
  {
   "cell_type": "code",
   "execution_count": 6,
   "metadata": {},
   "outputs": [],
   "source": [
    "# TODO create `languageTensor` function\n",
    "def languageTensor(language):\n",
    "    result = torch.zeros(1, len(all_languages)).float()\n",
    "    result[0][all_languages.index(language)] = 1\n",
    "    return result.to(device)"
   ]
  },
  {
   "cell_type": "markdown",
   "metadata": {},
   "source": [
    "### `nextLetterTensor()`\n",
    "The last method is the one that creates the output tensor which will help the loss creation module determine whether the prediction has been correct or not. Since we are predicting the next letter from the current letter for each\n",
    "timestep, the letter pairs are groups of consecutive letters from the\n",
    "line - e.g. for ``\"ABCD<EOS>\"`` we would create (\"A\", \"B\"), (\"B\", \"C\"),\n",
    "(\"C\", \"D\"), (\"D\", \"EOS\").\n",
    "\n",
    "<img width=\"600\" src=\"https://i.imgur.com/JH58tXY.png\">\n",
    "\n",
    "Like `currentLetterTensor`, this method also receives a string formatted `name`. However, as we said, its not an input tensor so we don't need to convert the `name` into one-hot format. Instead, using the same technique that we did for `currentLetterTensor` we convert all the letters of `name` into their `letter_vocab_id` **ignoring the first letter** (since its not going to be predicted; its assumed as always to be given in our problem). We then put these converted `letter_vocab_id`s into a list (preserving the order). As the last step we append the id of **end-of-sequence** (*EOS*) token (which we have assumed to be `n_letters - 1`) to the end of the resulting list. Convert the created list of ids to a tensor by simply passing it to `torch.LongTensor`.\n",
    "\n",
    "**Important note: don't forget to call `.to(device)` on any tensor that you create to make sure it is properly located in CPU/GPU.**"
   ]
  },
  {
   "cell_type": "code",
   "execution_count": 7,
   "metadata": {},
   "outputs": [],
   "source": [
    "# TODO create `nextLetterTensor` function\n",
    "def nextLetterTensor(name):\n",
    "    result = [all_letters.find(name[letter_position]) for letter_position in range(1, len(name))]\n",
    "    result.append(n_letters - 1) # EOS\n",
    "    return torch.LongTensor(result).to(device)"
   ]
  },
  {
   "cell_type": "markdown",
   "metadata": {},
   "source": [
    "### Putting it all together\n",
    "For convenience during training we'll make a ``getRandomTrainingExample`` function that fetches a random `(language, name)` pair and turns them into the required (`language`, `currentLetter`, `nextLetter`) tensors."
   ]
  },
  {
   "cell_type": "code",
   "execution_count": 8,
   "metadata": {},
   "outputs": [],
   "source": [
    "def getRandomTrainingExample():\n",
    "    r_lang, r_name = randomTrainingPair()\n",
    "    language_tensor = languageTensor(r_lang)\n",
    "    current_letter_tensor = currentLetterTensor(r_name)\n",
    "    next_letter_tensor = nextLetterTensor(r_name)\n",
    "    return language_tensor, current_letter_tensor, next_letter_tensor"
   ]
  },
  {
   "cell_type": "markdown",
   "metadata": {},
   "source": [
    "## Model  Design\n",
    "Now that the training data is worked out, we need to design a proper neural network architecture based on our learning objective. This process is the same in pretty much every single new task. If you remember, earlier we mentioned that the letters are appearing one after another in the names and we want to train a network that can learn the probability of each letter given the previous letter (that have already been generated). As you know, the dependence of each letter to the letters that have appeared before itself can be modelled using a recurrent neural network.\n",
    "\n",
    "Now, we can either go ahead and use the off-the-shelf designed RNNs (e.g. [`torch.nn.GRU`](https://pytorch.org/docs/stable/generated/torch.nn.GRU.html) and [`torch.nn.LSTM`](https://pytorch.org/docs/stable/generated/torch.nn.LSTM.html)), or in our case, we can design a new recurrent neural network architecture. We mainly do this to learn how to make a new neural network architecture ([`torch.nn.Module`](https://pytorch.org/docs/stable/generated/torch.nn.Module.html)), but it also is good because our task doesn't need lots of complexities with which the off-the-shelf designed RNNs are packaged.\n",
    "\n",
    "In this section, you will implement your first torch `Module`, but since you are new to the task, the design has already been provided to you and you will simply look at the network graph and try to implement it. Here is the designed network architecture:\n",
    "\n",
    "<img width=\"720\" src=\"Model.svg\">\n",
    "\n",
    "To implement this architecture follow this step-by-step guidelines:\n",
    "1. Create a class and name it `RNN`.\n",
    "2. Make the class inherit from `torch.nn.Module`. This way your class is automatically considered as a torch module and can be saved, loaded, and passed to loss calculators for auto-grad calculation.\n",
    "    - In addition to `__init__` function, add two other functions to your class; `forward` and `initHidden`. The following points will explain how you will implement each function.\n",
    "3. The `__init__` function is where you initialize all the components of the module. \n",
    "    - The inputs to this function would be the input, hidden layer and output sizes\n",
    "    - First function call would be to the `__init__` function of the supercalss (`torch.nn.Module`)\n",
    "    - Next, create the three `nn.Linear` modules as depicted in the graph design. The connections of these modules will be implemented in the `forward` function.\n",
    "    - The output size of `m1` will be of `output_size`.\n",
    "    - The output size of `m2` will be of `hidden_size`.\n",
    "    - The output size of `m3` will be of `output_size`.\n",
    "    - Also, create an instance of [`torch.nn.LogSoftmax`](https://pytorch.org/docs/stable/generated/torch.nn.LogSoftmax.html) with `dim=-1`.\n",
    "4. The `initHidden` function will always return a `zeros` vector of size (`1` $\\times$ `hidden_size`). **Make sure you call `.to(device)` on the created tensor**.\n",
    "5. The `forward` function is the most important function which is inherited from `torch.nn.Module`. This function is automatically called when an input is passed to the module instance and it atomatically updates the gradient values in the computation graph unless `with torch.no_grad():` is in effect. In this function, you describe how your input ``(language, current letter in name, hidden state)`` is converted to the expected output  ``(next letter in name, next hidden state)``, and the only tools you have at your disposal are the modules instantiated in `__init__` function.\n",
    "    - Take `language`, `current_letter`, and `hidden_vector` as input to this function. The initial value of `hidden_vector` will be provided from `initHidden` function.\n",
    "    - As stated in the diagram, using [`torch.cat`](https://pytorch.org/docs/stable/generated/torch.cat.html), concatenate all the input tensors and pass them to the linear modules `m1` and `m2` producing the outputs `mo1` and `mo2`. Concatenate `mo1` and `mo2` and pass it through the third linear module `m3` and pass its result through the log_softmax instance to get `res`. Return `mo1` as the next hidden state and return `res` as the produced output."
   ]
  },
  {
   "cell_type": "code",
   "execution_count": 9,
   "metadata": {},
   "outputs": [],
   "source": [
    "# TODO implement the RNN module using the step-by-step guide mentioned above.\n",
    "class RNN(nn.Module):\n",
    "    def __init__(self, input_size, hidden_size, output_size):\n",
    "        super(RNN, self).__init__()\n",
    "        self.hidden_size = hidden_size\n",
    "        n_categories = len(all_languages)\n",
    "        self.i2h = nn.Linear(n_categories + input_size + hidden_size, hidden_size)\n",
    "        self.i2o = nn.Linear(n_categories + input_size + hidden_size, output_size)\n",
    "        self.o2o = nn.Linear(hidden_size + output_size, output_size)\n",
    "        self.dropout = nn.Dropout(0.1)\n",
    "        self.softmax = nn.LogSoftmax(dim=1)\n",
    "\n",
    "    def forward(self, language, input, hidden):\n",
    "        input_combined = torch.cat((language, input, hidden), 1)\n",
    "        hidden = self.i2h(input_combined)\n",
    "        output = self.i2o(input_combined)\n",
    "        output_combined = torch.cat((hidden, output), 1)\n",
    "        output = self.o2o(output_combined)\n",
    "        output = self.dropout(output)\n",
    "        output = self.softmax(output)\n",
    "        return output, hidden\n",
    "\n",
    "    def initHidden(self):\n",
    "        return torch.zeros(1, self.hidden_size).to(device)"
   ]
  },
  {
   "cell_type": "markdown",
   "metadata": {},
   "source": [
    "As we said in the previous lab, we also need a loss calculator. For training RNNs, the default training loss objective is Negative Log Likelihood loss."
   ]
  },
  {
   "cell_type": "code",
   "execution_count": 10,
   "metadata": {},
   "outputs": [],
   "source": [
    "criterion = nn.NLLLoss()"
   ]
  },
  {
   "cell_type": "markdown",
   "metadata": {},
   "source": [
    "## Training the Network\n",
    "\n",
    "In contrast to classification, where only the last output is used, we are making a prediction at every step, so we are calculating loss at every step. The magic of autograd allows you to simply sum these losses at each step and call backward at the end. The code provided in the next cell preforms all of what needs to be done to create and train our designed RNN module. If you have properly implemented the RNN module and data provider functions, this code should runn smoothly. Give it a bit of time to train (I'm expecting less than 10 minutes on a GPU and between 10 to 15 minutes on a CPU). Once its done in your own language explain what it does and what is happening during training iterations.\n",
    "\n",
    "\n",
    "### TODO: explain what is happening in the next cell\n",
    "...\n"
   ]
  },
  {
   "cell_type": "code",
   "execution_count": 11,
   "metadata": {
    "scrolled": true
   },
   "outputs": [
    {
     "name": "stderr",
     "output_type": "stream",
     "text": [
      "Loss: 2.8363:   7%|███▉                                                   | 7129/100000 [00:22<04:55, 314.64it/s]\n"
     ]
    },
    {
     "ename": "KeyboardInterrupt",
     "evalue": "",
     "output_type": "error",
     "traceback": [
      "\u001b[0;31m---------------------------------------------------------------------------\u001b[0m",
      "\u001b[0;31mKeyboardInterrupt\u001b[0m                         Traceback (most recent call last)",
      "Cell \u001b[0;32mIn[11], line 37\u001b[0m\n\u001b[1;32m     34\u001b[0m output, loss \u001b[38;5;241m=\u001b[39m output, loss\u001b[38;5;241m.\u001b[39mitem() \u001b[38;5;241m/\u001b[39m current_letter_tensor\u001b[38;5;241m.\u001b[39msize(\u001b[38;5;241m0\u001b[39m)\n\u001b[1;32m     35\u001b[0m total_loss \u001b[38;5;241m+\u001b[39m\u001b[38;5;241m=\u001b[39m loss\n\u001b[0;32m---> 37\u001b[0m \u001b[43mi_tqdm\u001b[49m\u001b[38;5;241;43m.\u001b[39;49m\u001b[43mset_description\u001b[49m\u001b[43m(\u001b[49m\u001b[38;5;124;43m'\u001b[39;49m\u001b[38;5;124;43mLoss: \u001b[39;49m\u001b[38;5;132;43;01m%.4f\u001b[39;49;00m\u001b[38;5;124;43m'\u001b[39;49m\u001b[43m \u001b[49m\u001b[38;5;241;43m%\u001b[39;49m\u001b[43m \u001b[49m\u001b[43m(\u001b[49m\u001b[43mloss\u001b[49m\u001b[43m)\u001b[49m\u001b[43m)\u001b[49m\n\u001b[1;32m     39\u001b[0m \u001b[38;5;28;01mif\u001b[39;00m \u001b[38;5;28miter\u001b[39m \u001b[38;5;241m%\u001b[39m plot_every \u001b[38;5;241m==\u001b[39m \u001b[38;5;241m0\u001b[39m:\n\u001b[1;32m     40\u001b[0m     all_losses\u001b[38;5;241m.\u001b[39mappend(total_loss \u001b[38;5;241m/\u001b[39m plot_every)\n",
      "File \u001b[0;32m~/.local/lib/python3.8/site-packages/tqdm/std.py:1391\u001b[0m, in \u001b[0;36mtqdm.set_description\u001b[0;34m(self, desc, refresh)\u001b[0m\n\u001b[1;32m   1389\u001b[0m \u001b[38;5;28mself\u001b[39m\u001b[38;5;241m.\u001b[39mdesc \u001b[38;5;241m=\u001b[39m desc \u001b[38;5;241m+\u001b[39m \u001b[38;5;124m'\u001b[39m\u001b[38;5;124m: \u001b[39m\u001b[38;5;124m'\u001b[39m \u001b[38;5;28;01mif\u001b[39;00m desc \u001b[38;5;28;01melse\u001b[39;00m \u001b[38;5;124m'\u001b[39m\u001b[38;5;124m'\u001b[39m\n\u001b[1;32m   1390\u001b[0m \u001b[38;5;28;01mif\u001b[39;00m refresh:\n\u001b[0;32m-> 1391\u001b[0m     \u001b[38;5;28;43mself\u001b[39;49m\u001b[38;5;241;43m.\u001b[39;49m\u001b[43mrefresh\u001b[49m\u001b[43m(\u001b[49m\u001b[43m)\u001b[49m\n",
      "File \u001b[0;32m~/.local/lib/python3.8/site-packages/tqdm/std.py:1344\u001b[0m, in \u001b[0;36mtqdm.refresh\u001b[0;34m(self, nolock, lock_args)\u001b[0m\n\u001b[1;32m   1342\u001b[0m     \u001b[38;5;28;01melse\u001b[39;00m:\n\u001b[1;32m   1343\u001b[0m         \u001b[38;5;28mself\u001b[39m\u001b[38;5;241m.\u001b[39m_lock\u001b[38;5;241m.\u001b[39macquire()\n\u001b[0;32m-> 1344\u001b[0m \u001b[38;5;28;43mself\u001b[39;49m\u001b[38;5;241;43m.\u001b[39;49m\u001b[43mdisplay\u001b[49m\u001b[43m(\u001b[49m\u001b[43m)\u001b[49m\n\u001b[1;32m   1345\u001b[0m \u001b[38;5;28;01mif\u001b[39;00m \u001b[38;5;129;01mnot\u001b[39;00m nolock:\n\u001b[1;32m   1346\u001b[0m     \u001b[38;5;28mself\u001b[39m\u001b[38;5;241m.\u001b[39m_lock\u001b[38;5;241m.\u001b[39mrelease()\n",
      "File \u001b[0;32m~/.local/lib/python3.8/site-packages/tqdm/std.py:1492\u001b[0m, in \u001b[0;36mtqdm.display\u001b[0;34m(self, msg, pos)\u001b[0m\n\u001b[1;32m   1490\u001b[0m \u001b[38;5;28;01mif\u001b[39;00m pos:\n\u001b[1;32m   1491\u001b[0m     \u001b[38;5;28mself\u001b[39m\u001b[38;5;241m.\u001b[39mmoveto(pos)\n\u001b[0;32m-> 1492\u001b[0m \u001b[38;5;28;43mself\u001b[39;49m\u001b[38;5;241;43m.\u001b[39;49m\u001b[43msp\u001b[49m\u001b[43m(\u001b[49m\u001b[38;5;28;43mself\u001b[39;49m\u001b[38;5;241;43m.\u001b[39;49m\u001b[38;5;21;43m__str__\u001b[39;49m\u001b[43m(\u001b[49m\u001b[43m)\u001b[49m\u001b[43m \u001b[49m\u001b[38;5;28;43;01mif\u001b[39;49;00m\u001b[43m \u001b[49m\u001b[43mmsg\u001b[49m\u001b[43m \u001b[49m\u001b[38;5;129;43;01mis\u001b[39;49;00m\u001b[43m \u001b[49m\u001b[38;5;28;43;01mNone\u001b[39;49;00m\u001b[43m \u001b[49m\u001b[38;5;28;43;01melse\u001b[39;49;00m\u001b[43m \u001b[49m\u001b[43mmsg\u001b[49m\u001b[43m)\u001b[49m\n\u001b[1;32m   1493\u001b[0m \u001b[38;5;28;01mif\u001b[39;00m pos:\n\u001b[1;32m   1494\u001b[0m     \u001b[38;5;28mself\u001b[39m\u001b[38;5;241m.\u001b[39mmoveto(\u001b[38;5;241m-\u001b[39mpos)\n",
      "File \u001b[0;32m~/.local/lib/python3.8/site-packages/tqdm/std.py:347\u001b[0m, in \u001b[0;36mtqdm.status_printer.<locals>.print_status\u001b[0;34m(s)\u001b[0m\n\u001b[1;32m    345\u001b[0m \u001b[38;5;28;01mdef\u001b[39;00m \u001b[38;5;21mprint_status\u001b[39m(s):\n\u001b[1;32m    346\u001b[0m     len_s \u001b[38;5;241m=\u001b[39m disp_len(s)\n\u001b[0;32m--> 347\u001b[0m     \u001b[43mfp_write\u001b[49m\u001b[43m(\u001b[49m\u001b[38;5;124;43m'\u001b[39;49m\u001b[38;5;130;43;01m\\r\u001b[39;49;00m\u001b[38;5;124;43m'\u001b[39;49m\u001b[43m \u001b[49m\u001b[38;5;241;43m+\u001b[39;49m\u001b[43m \u001b[49m\u001b[43ms\u001b[49m\u001b[43m \u001b[49m\u001b[38;5;241;43m+\u001b[39;49m\u001b[43m \u001b[49m\u001b[43m(\u001b[49m\u001b[38;5;124;43m'\u001b[39;49m\u001b[38;5;124;43m \u001b[39;49m\u001b[38;5;124;43m'\u001b[39;49m\u001b[43m \u001b[49m\u001b[38;5;241;43m*\u001b[39;49m\u001b[43m \u001b[49m\u001b[38;5;28;43mmax\u001b[39;49m\u001b[43m(\u001b[49m\u001b[43mlast_len\u001b[49m\u001b[43m[\u001b[49m\u001b[38;5;241;43m0\u001b[39;49m\u001b[43m]\u001b[49m\u001b[43m \u001b[49m\u001b[38;5;241;43m-\u001b[39;49m\u001b[43m \u001b[49m\u001b[43mlen_s\u001b[49m\u001b[43m,\u001b[49m\u001b[43m \u001b[49m\u001b[38;5;241;43m0\u001b[39;49m\u001b[43m)\u001b[49m\u001b[43m)\u001b[49m\u001b[43m)\u001b[49m\n\u001b[1;32m    348\u001b[0m     last_len[\u001b[38;5;241m0\u001b[39m] \u001b[38;5;241m=\u001b[39m len_s\n",
      "File \u001b[0;32m~/.local/lib/python3.8/site-packages/tqdm/std.py:341\u001b[0m, in \u001b[0;36mtqdm.status_printer.<locals>.fp_write\u001b[0;34m(s)\u001b[0m\n\u001b[1;32m    339\u001b[0m \u001b[38;5;28;01mdef\u001b[39;00m \u001b[38;5;21mfp_write\u001b[39m(s):\n\u001b[1;32m    340\u001b[0m     fp\u001b[38;5;241m.\u001b[39mwrite(\u001b[38;5;28mstr\u001b[39m(s))\n\u001b[0;32m--> 341\u001b[0m     \u001b[43mfp_flush\u001b[49m\u001b[43m(\u001b[49m\u001b[43m)\u001b[49m\n",
      "File \u001b[0;32m~/.local/lib/python3.8/site-packages/tqdm/utils.py:127\u001b[0m, in \u001b[0;36mDisableOnWriteError.disable_on_exception.<locals>.inner\u001b[0;34m(*args, **kwargs)\u001b[0m\n\u001b[1;32m    125\u001b[0m \u001b[38;5;28;01mdef\u001b[39;00m \u001b[38;5;21minner\u001b[39m(\u001b[38;5;241m*\u001b[39margs, \u001b[38;5;241m*\u001b[39m\u001b[38;5;241m*\u001b[39mkwargs):\n\u001b[1;32m    126\u001b[0m     \u001b[38;5;28;01mtry\u001b[39;00m:\n\u001b[0;32m--> 127\u001b[0m         \u001b[38;5;28;01mreturn\u001b[39;00m \u001b[43mfunc\u001b[49m\u001b[43m(\u001b[49m\u001b[38;5;241;43m*\u001b[39;49m\u001b[43margs\u001b[49m\u001b[43m,\u001b[49m\u001b[43m \u001b[49m\u001b[38;5;241;43m*\u001b[39;49m\u001b[38;5;241;43m*\u001b[39;49m\u001b[43mkwargs\u001b[49m\u001b[43m)\u001b[49m\n\u001b[1;32m    128\u001b[0m     \u001b[38;5;28;01mexcept\u001b[39;00m \u001b[38;5;167;01mOSError\u001b[39;00m \u001b[38;5;28;01mas\u001b[39;00m e:\n\u001b[1;32m    129\u001b[0m         \u001b[38;5;28;01mif\u001b[39;00m e\u001b[38;5;241m.\u001b[39merrno \u001b[38;5;241m!=\u001b[39m \u001b[38;5;241m5\u001b[39m:\n",
      "File \u001b[0;32m~/.local/lib/python3.8/site-packages/ipykernel/iostream.py:497\u001b[0m, in \u001b[0;36mOutStream.flush\u001b[0;34m(self)\u001b[0m\n\u001b[1;32m    495\u001b[0m     \u001b[38;5;28mself\u001b[39m\u001b[38;5;241m.\u001b[39mpub_thread\u001b[38;5;241m.\u001b[39mschedule(evt\u001b[38;5;241m.\u001b[39mset)\n\u001b[1;32m    496\u001b[0m     \u001b[38;5;66;03m# and give a timeout to avoid\u001b[39;00m\n\u001b[0;32m--> 497\u001b[0m     \u001b[38;5;28;01mif\u001b[39;00m \u001b[38;5;129;01mnot\u001b[39;00m \u001b[43mevt\u001b[49m\u001b[38;5;241;43m.\u001b[39;49m\u001b[43mwait\u001b[49m\u001b[43m(\u001b[49m\u001b[38;5;28;43mself\u001b[39;49m\u001b[38;5;241;43m.\u001b[39;49m\u001b[43mflush_timeout\u001b[49m\u001b[43m)\u001b[49m:\n\u001b[1;32m    498\u001b[0m         \u001b[38;5;66;03m# write directly to __stderr__ instead of warning because\u001b[39;00m\n\u001b[1;32m    499\u001b[0m         \u001b[38;5;66;03m# if this is happening sys.stderr may be the problem.\u001b[39;00m\n\u001b[1;32m    500\u001b[0m         \u001b[38;5;28mprint\u001b[39m(\u001b[38;5;124m\"\u001b[39m\u001b[38;5;124mIOStream.flush timed out\u001b[39m\u001b[38;5;124m\"\u001b[39m, file\u001b[38;5;241m=\u001b[39msys\u001b[38;5;241m.\u001b[39m__stderr__)\n\u001b[1;32m    501\u001b[0m \u001b[38;5;28;01melse\u001b[39;00m:\n",
      "File \u001b[0;32m/usr/lib/python3.8/threading.py:558\u001b[0m, in \u001b[0;36mEvent.wait\u001b[0;34m(self, timeout)\u001b[0m\n\u001b[1;32m    556\u001b[0m signaled \u001b[38;5;241m=\u001b[39m \u001b[38;5;28mself\u001b[39m\u001b[38;5;241m.\u001b[39m_flag\n\u001b[1;32m    557\u001b[0m \u001b[38;5;28;01mif\u001b[39;00m \u001b[38;5;129;01mnot\u001b[39;00m signaled:\n\u001b[0;32m--> 558\u001b[0m     signaled \u001b[38;5;241m=\u001b[39m \u001b[38;5;28;43mself\u001b[39;49m\u001b[38;5;241;43m.\u001b[39;49m\u001b[43m_cond\u001b[49m\u001b[38;5;241;43m.\u001b[39;49m\u001b[43mwait\u001b[49m\u001b[43m(\u001b[49m\u001b[43mtimeout\u001b[49m\u001b[43m)\u001b[49m\n\u001b[1;32m    559\u001b[0m \u001b[38;5;28;01mreturn\u001b[39;00m signaled\n",
      "File \u001b[0;32m/usr/lib/python3.8/threading.py:306\u001b[0m, in \u001b[0;36mCondition.wait\u001b[0;34m(self, timeout)\u001b[0m\n\u001b[1;32m    304\u001b[0m \u001b[38;5;28;01melse\u001b[39;00m:\n\u001b[1;32m    305\u001b[0m     \u001b[38;5;28;01mif\u001b[39;00m timeout \u001b[38;5;241m>\u001b[39m \u001b[38;5;241m0\u001b[39m:\n\u001b[0;32m--> 306\u001b[0m         gotit \u001b[38;5;241m=\u001b[39m \u001b[43mwaiter\u001b[49m\u001b[38;5;241;43m.\u001b[39;49m\u001b[43macquire\u001b[49m\u001b[43m(\u001b[49m\u001b[38;5;28;43;01mTrue\u001b[39;49;00m\u001b[43m,\u001b[49m\u001b[43m \u001b[49m\u001b[43mtimeout\u001b[49m\u001b[43m)\u001b[49m\n\u001b[1;32m    307\u001b[0m     \u001b[38;5;28;01melse\u001b[39;00m:\n\u001b[1;32m    308\u001b[0m         gotit \u001b[38;5;241m=\u001b[39m waiter\u001b[38;5;241m.\u001b[39macquire(\u001b[38;5;28;01mFalse\u001b[39;00m)\n",
      "\u001b[0;31mKeyboardInterrupt\u001b[0m: "
     ]
    }
   ],
   "source": [
    "learning_rate = 0.0005\n",
    "hidden_layer_size = 128\n",
    "n_iters = 100000\n",
    "print_every = 5000\n",
    "plot_every = 500\n",
    "\n",
    "rnn = RNN(n_letters, hidden_layer_size, n_letters)\n",
    "\n",
    "all_losses = []\n",
    "total_loss = 0 # Reset every plot_every iters\n",
    "\n",
    "start = time.time()\n",
    "\n",
    "i_tqdm = tqdm(range(1, n_iters + 1))\n",
    "for iter in i_tqdm:\n",
    "    language_tensor, current_letter_tensor, next_letter_tensor = getRandomTrainingExample()\n",
    "    next_letter_tensor.unsqueeze_(-1)\n",
    "    hidden = rnn.initHidden()\n",
    "\n",
    "    rnn.zero_grad()\n",
    "\n",
    "    loss = 0\n",
    "\n",
    "    for i in range(current_letter_tensor.size(0)):\n",
    "        output, hidden = rnn(language_tensor, current_letter_tensor[i], hidden)\n",
    "        l = criterion(output, next_letter_tensor[i])\n",
    "        loss += l\n",
    "\n",
    "    loss.backward()\n",
    "\n",
    "    for p in rnn.parameters():\n",
    "        p.data.add_(p.grad.data, alpha=-learning_rate)\n",
    "\n",
    "    output, loss = output, loss.item() / current_letter_tensor.size(0)\n",
    "    total_loss += loss\n",
    "\n",
    "    i_tqdm.set_description('Loss: %.4f' % (loss))\n",
    "\n",
    "    if iter % plot_every == 0:\n",
    "        all_losses.append(total_loss / plot_every)\n",
    "        total_loss = 0"
   ]
  },
  {
   "cell_type": "markdown",
   "metadata": {},
   "source": [
    "Once we are done, we can also take a look at the training loss vs. training instance numbers:"
   ]
  },
  {
   "cell_type": "code",
   "execution_count": null,
   "metadata": {},
   "outputs": [],
   "source": [
    "plt.figure()\n",
    "plt.plot(all_losses)"
   ]
  },
  {
   "cell_type": "markdown",
   "metadata": {},
   "source": [
    "## Sampling the Network\n",
    "\n",
    "The last step is to perform new name generation using our trained model. To sample we give the network a letter and ask what the next one is, feed that in as the next letter, and repeat until the *EOS token* is generated.\n",
    "\n",
    "Fill out the `sample` function using the step-by-step guidelines provided here (you can use the code in the train cell as some help to implement this function):\n",
    "\n",
    "1.  Have the function receive the language, the letter with which the name is supposed to start and the maximum expected length of the name.\n",
    "2.  Create tensors for input language, starting letter, and empty hidden state.\n",
    "3.  Create a string ``output_name`` with the starting letter.\n",
    "4.  Up to the maximum expected output length:\n",
    "\n",
    "   -  Feed the `(language, current letter, hidden state)` to the network.\n",
    "   -  Get the next letter from highest probability output, and next hidden state.\n",
    "       - To find the highest probability item in output tensor, you need to call [`.topk(1)`](https://pytorch.org/docs/stable/generated/torch.topk.html) on your tensor.\n",
    "   -  If the letter is EOS, stop here.\n",
    "   -  If a regular letter, add to ``output_name`` and continue.\n",
    "\n",
    "5.  Return the final name.\n",
    "\n",
    "**Note(1): since the sample method is not supposed to change the RNN network, make sure you put all the code within a `with torch.no_grad():` block.**\n",
    "\n",
    "**Note(2): rather than having to give it a starting letter, another strategy would have been to include a \"start of string\" token in training and have the network choose its own starting letter.**"
   ]
  },
  {
   "cell_type": "code",
   "execution_count": null,
   "metadata": {},
   "outputs": [],
   "source": [
    "# TODO create `sample` function here\n",
    "def sample(language, start_letter='A', max_length = 20):\n",
    "    with torch.no_grad():  # no need to track history in sampling\n",
    "        language_tensor = languageTensor(language)\n",
    "        input = currentLetterTensor(start_letter)\n",
    "        hidden = rnn.initHidden()\n",
    "\n",
    "        output_name = start_letter\n",
    "\n",
    "        for i in range(max_length):\n",
    "            output, hidden = rnn(language_tensor, input[0], hidden)\n",
    "            topv, topi = output.topk(1)\n",
    "            topi = topi[0][0]\n",
    "            if topi == n_letters - 1:\n",
    "                break\n",
    "            else:\n",
    "                letter = all_letters[topi]\n",
    "                output_name += letter\n",
    "            input = currentLetterTensor(letter)\n",
    "\n",
    "        return output_name"
   ]
  },
  {
   "cell_type": "markdown",
   "metadata": {},
   "source": [
    "Now, that we are done implementing the `sample` function, lets generate a few names in different languages:"
   ]
  },
  {
   "cell_type": "code",
   "execution_count": null,
   "metadata": {},
   "outputs": [],
   "source": [
    "# Get multiple samples from one language and multiple starting letters\n",
    "def samples(language, start_letters='ABC'):\n",
    "    for start_letter in start_letters:\n",
    "        print(sample(language, start_letter))\n",
    "\n",
    "samples('Russian', 'RUS')\n",
    "\n",
    "samples('German', 'GER')\n",
    "\n",
    "samples('Spanish', 'SPA')\n",
    "\n",
    "samples('Chinese', 'CHI')"
   ]
  }
 ],
 "metadata": {
  "kernelspec": {
   "display_name": "Python 3.8 (ipykernel)",
   "language": "python",
   "name": "python3"
  },
  "language_info": {
   "codemirror_mode": {
    "name": "ipython",
    "version": 3
   },
   "file_extension": ".py",
   "mimetype": "text/x-python",
   "name": "python",
   "nbconvert_exporter": "python",
   "pygments_lexer": "ipython3",
   "version": "3.8.16"
  }
 },
 "nbformat": 4,
 "nbformat_minor": 4
}
