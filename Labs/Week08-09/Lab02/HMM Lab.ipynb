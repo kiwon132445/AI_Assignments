{
 "cells": [
  {
   "cell_type": "markdown",
   "metadata": {},
   "source": [
    "# Lab - Hidden Markov Models to Predict Behaviour\n",
    "This notebook serves as the starter code and lab description covering **Chapter 14 - Probabilistic Reasoning over Time** from the book *Artificial Intelligence: A Modern Approach.*"
   ]
  },
  {
   "cell_type": "code",
   "execution_count": 1,
   "metadata": {},
   "outputs": [],
   "source": [
    "#pip install hmmlearn\n",
    "#pip install pandas\n",
    "#pip install numpy\n",
    "#pip install matplotlib\n",
    "import warnings\n",
    "warnings.filterwarnings(\"ignore\")\n",
    "import pandas as pd\n",
    "import numpy as np\n",
    "from hmmlearn import hmm\n",
    "import matplotlib.pyplot as plt\n",
    "np.random.seed(42)"
   ]
  },
  {
   "cell_type": "markdown",
   "metadata": {},
   "source": [
    "## OVERVIEW\n",
    "We didn't have enough time to cover all the material in Chapter 14 (Probabilistic Reasoning over Time). One important part of that chapter is section 14.3 which discusses Hidden Markov Models (HMMs). \n",
    "\n",
    "In this lab, we learn what HMMs are and try a relatively simple and easy application of them in behaviour prediction. Due to time considrations, we will not implement the HMM model but rather use a proper implementation of it in `hmmlearn` library. The content and ideas of this lab are from [A story of the morning insanity](https://zerowithdot.com/hidden-markov-model-morning-insanity/). \n",
    "\n",
    "## So what's the story?\n",
    "\n",
    "Picture the following scenario: It's at 7 a.m. You're preparing to go to work. In practice, it means that you are running like crazy between different rooms. You spend some random amount of time in each, doing something, hoping to get everything you need to be sorted before you leave.\n",
    "\n",
    "**To make things worse**, your girlfriend (or boyfriend) has *cats*. The little furball wants to eat. Due to the morning hustle, it is uncertain whether you would remember to feed it. If you don't, the cats will be upset, and so will your girlfriend if she finds out.\n",
    "\n",
    "Say your flat has four **rooms**. That is to include the *kitchen*, *bathroom*, *living room* and *bedroom*. You spend some random amount of time in each, and transition between the rooms with a certain probability. At the same time, where ever you go, you are likely to make some distinct kinds of **noises**. Your girlfriend hears these noises and, despite being still asleep, she can infer in which room you are spending your time.\n",
    "\n",
    "And so she does that day by day. She wants to make sure that you do feed the cats.\n",
    "\n",
    "However, since she can't be there, all she can do is to place the cat food bag in a room where you supposedly **stay the longest**. Hopefully, that will increase the chances that you do feed the \"beast\" (and save your evening).\n"
   ]
  },
  {
   "cell_type": "markdown",
   "metadata": {},
   "source": [
    "## Modeling the situation\n",
    "We want to use Hidden Markov Models to help your girlfriend (or boyfriend) find the room in which you stay the longest. For startes, I need you to get out there and start reading about HMMs. In your own words answer the following questions:"
   ]
  },
  {
   "cell_type": "code",
   "execution_count": null,
   "metadata": {},
   "outputs": [],
   "source": [
    "# TODO answer the following questions"
   ]
  },
  {
   "cell_type": "markdown",
   "metadata": {},
   "source": [
    "1. What kind of models are HMMs (briefly explain what you understood)?\n",
    "\n",
    "\n",
    "2. What are hidden states in HMM (in our example \"rooms\" are hidden states)?\n",
    "\n",
    "\n",
    "3. What are observations in HMM (in our example \"noises\" are observations)?\n",
    "\n",
    "\n",
    "4. What do transition probabilities (matrix **A** in the future cells) represent?\n",
    "\n",
    "\n",
    "5. What do emission probabilities (matrix **B** in the future cells) represent?\n",
    "\n",
    "\n",
    "6. What do initial state probabilities (vector **$\\pi$** in the future cells) represent?\n",
    "\n"
   ]
  },
  {
   "cell_type": "markdown",
   "metadata": {},
   "source": [
    "Using your current understanding of HMMs lets try to use one such model to solve our problem. \n",
    "First lets create a hard-coded version of HMM in which we fill in **A**, **B**, and **$\\pi$** (we use **pi** instead of actual letter $\\pi$ in coding cells). Lets create the model parameters and take a look at them. Based on your current understanding, try to explain why we have designed them this way."
   ]
  },
  {
   "cell_type": "code",
   "execution_count": 2,
   "metadata": {},
   "outputs": [],
   "source": [
    "rooms = ['Bathroom', 'Bedroom', 'Kitchen', 'Living Room']\n",
    "noises = ['Coffee','Dishes','Flushing','Radio','Shower','Silence','Television','Toothbrush','Wardrobe']\n",
    "\n",
    "A = pd.DataFrame(np.array([[0.90, 0.08, 0.01, 0.01], [0.01, 0.90, 0.05, 0.04], [0.03, 0.02, 0.85, 0.10], [0.05, 0.02, 0.23, 0.70]]), columns=rooms, index=rooms)\n",
    "B = pd.DataFrame(np.array([[0.01,0.01,0.20,0.01,0.30,0.05,0.01,0.40,0.01],[0.01,0.01,0.01,0.10,0.01,0.30,0.05,0.01,0.50], [0.30,0.20,0.01,0.10,0.01,0.30,0.05,0.02,0.01], [0.03,0.01,0.01,0.19,0.01,0.39,0.39,0.01,0.03]]), columns=noises, index=rooms)\n",
    "pi = pd.DataFrame(np.array([[0, 1, 0, 0]]), columns=rooms, index=[''])"
   ]
  },
  {
   "cell_type": "code",
   "execution_count": 3,
   "metadata": {},
   "outputs": [
    {
     "data": {
      "text/html": [
       "<div>\n",
       "<style scoped>\n",
       "    .dataframe tbody tr th:only-of-type {\n",
       "        vertical-align: middle;\n",
       "    }\n",
       "\n",
       "    .dataframe tbody tr th {\n",
       "        vertical-align: top;\n",
       "    }\n",
       "\n",
       "    .dataframe thead th {\n",
       "        text-align: right;\n",
       "    }\n",
       "</style>\n",
       "<table border=\"1\" class=\"dataframe\">\n",
       "  <thead>\n",
       "    <tr style=\"text-align: right;\">\n",
       "      <th></th>\n",
       "      <th>Bathroom</th>\n",
       "      <th>Bedroom</th>\n",
       "      <th>Kitchen</th>\n",
       "      <th>Living Room</th>\n",
       "    </tr>\n",
       "  </thead>\n",
       "  <tbody>\n",
       "    <tr>\n",
       "      <th>Bathroom</th>\n",
       "      <td>0.90</td>\n",
       "      <td>0.08</td>\n",
       "      <td>0.01</td>\n",
       "      <td>0.01</td>\n",
       "    </tr>\n",
       "    <tr>\n",
       "      <th>Bedroom</th>\n",
       "      <td>0.01</td>\n",
       "      <td>0.90</td>\n",
       "      <td>0.05</td>\n",
       "      <td>0.04</td>\n",
       "    </tr>\n",
       "    <tr>\n",
       "      <th>Kitchen</th>\n",
       "      <td>0.03</td>\n",
       "      <td>0.02</td>\n",
       "      <td>0.85</td>\n",
       "      <td>0.10</td>\n",
       "    </tr>\n",
       "    <tr>\n",
       "      <th>Living Room</th>\n",
       "      <td>0.05</td>\n",
       "      <td>0.02</td>\n",
       "      <td>0.23</td>\n",
       "      <td>0.70</td>\n",
       "    </tr>\n",
       "  </tbody>\n",
       "</table>\n",
       "</div>"
      ],
      "text/plain": [
       "             Bathroom  Bedroom  Kitchen  Living Room\n",
       "Bathroom         0.90     0.08     0.01         0.01\n",
       "Bedroom          0.01     0.90     0.05         0.04\n",
       "Kitchen          0.03     0.02     0.85         0.10\n",
       "Living Room      0.05     0.02     0.23         0.70"
      ]
     },
     "execution_count": 3,
     "metadata": {},
     "output_type": "execute_result"
    }
   ],
   "source": [
    "A"
   ]
  },
  {
   "cell_type": "code",
   "execution_count": 4,
   "metadata": {},
   "outputs": [
    {
     "data": {
      "text/html": [
       "<div>\n",
       "<style scoped>\n",
       "    .dataframe tbody tr th:only-of-type {\n",
       "        vertical-align: middle;\n",
       "    }\n",
       "\n",
       "    .dataframe tbody tr th {\n",
       "        vertical-align: top;\n",
       "    }\n",
       "\n",
       "    .dataframe thead th {\n",
       "        text-align: right;\n",
       "    }\n",
       "</style>\n",
       "<table border=\"1\" class=\"dataframe\">\n",
       "  <thead>\n",
       "    <tr style=\"text-align: right;\">\n",
       "      <th></th>\n",
       "      <th>Coffee</th>\n",
       "      <th>Dishes</th>\n",
       "      <th>Flushing</th>\n",
       "      <th>Radio</th>\n",
       "      <th>Shower</th>\n",
       "      <th>Silence</th>\n",
       "      <th>Television</th>\n",
       "      <th>Toothbrush</th>\n",
       "      <th>Wardrobe</th>\n",
       "    </tr>\n",
       "  </thead>\n",
       "  <tbody>\n",
       "    <tr>\n",
       "      <th>Bathroom</th>\n",
       "      <td>0.01</td>\n",
       "      <td>0.01</td>\n",
       "      <td>0.20</td>\n",
       "      <td>0.01</td>\n",
       "      <td>0.30</td>\n",
       "      <td>0.05</td>\n",
       "      <td>0.01</td>\n",
       "      <td>0.40</td>\n",
       "      <td>0.01</td>\n",
       "    </tr>\n",
       "    <tr>\n",
       "      <th>Bedroom</th>\n",
       "      <td>0.01</td>\n",
       "      <td>0.01</td>\n",
       "      <td>0.01</td>\n",
       "      <td>0.10</td>\n",
       "      <td>0.01</td>\n",
       "      <td>0.30</td>\n",
       "      <td>0.05</td>\n",
       "      <td>0.01</td>\n",
       "      <td>0.50</td>\n",
       "    </tr>\n",
       "    <tr>\n",
       "      <th>Kitchen</th>\n",
       "      <td>0.30</td>\n",
       "      <td>0.20</td>\n",
       "      <td>0.01</td>\n",
       "      <td>0.10</td>\n",
       "      <td>0.01</td>\n",
       "      <td>0.30</td>\n",
       "      <td>0.05</td>\n",
       "      <td>0.02</td>\n",
       "      <td>0.01</td>\n",
       "    </tr>\n",
       "    <tr>\n",
       "      <th>Living Room</th>\n",
       "      <td>0.03</td>\n",
       "      <td>0.01</td>\n",
       "      <td>0.01</td>\n",
       "      <td>0.19</td>\n",
       "      <td>0.01</td>\n",
       "      <td>0.39</td>\n",
       "      <td>0.39</td>\n",
       "      <td>0.01</td>\n",
       "      <td>0.03</td>\n",
       "    </tr>\n",
       "  </tbody>\n",
       "</table>\n",
       "</div>"
      ],
      "text/plain": [
       "             Coffee  Dishes  Flushing  Radio  Shower  Silence  Television  \\\n",
       "Bathroom       0.01    0.01      0.20   0.01    0.30     0.05        0.01   \n",
       "Bedroom        0.01    0.01      0.01   0.10    0.01     0.30        0.05   \n",
       "Kitchen        0.30    0.20      0.01   0.10    0.01     0.30        0.05   \n",
       "Living Room    0.03    0.01      0.01   0.19    0.01     0.39        0.39   \n",
       "\n",
       "             Toothbrush  Wardrobe  \n",
       "Bathroom           0.40      0.01  \n",
       "Bedroom            0.01      0.50  \n",
       "Kitchen            0.02      0.01  \n",
       "Living Room        0.01      0.03  "
      ]
     },
     "execution_count": 4,
     "metadata": {},
     "output_type": "execute_result"
    }
   ],
   "source": [
    "B"
   ]
  },
  {
   "cell_type": "code",
   "execution_count": 5,
   "metadata": {},
   "outputs": [
    {
     "data": {
      "text/html": [
       "<div>\n",
       "<style scoped>\n",
       "    .dataframe tbody tr th:only-of-type {\n",
       "        vertical-align: middle;\n",
       "    }\n",
       "\n",
       "    .dataframe tbody tr th {\n",
       "        vertical-align: top;\n",
       "    }\n",
       "\n",
       "    .dataframe thead th {\n",
       "        text-align: right;\n",
       "    }\n",
       "</style>\n",
       "<table border=\"1\" class=\"dataframe\">\n",
       "  <thead>\n",
       "    <tr style=\"text-align: right;\">\n",
       "      <th></th>\n",
       "      <th>Bathroom</th>\n",
       "      <th>Bedroom</th>\n",
       "      <th>Kitchen</th>\n",
       "      <th>Living Room</th>\n",
       "    </tr>\n",
       "  </thead>\n",
       "  <tbody>\n",
       "    <tr>\n",
       "      <th></th>\n",
       "      <td>0</td>\n",
       "      <td>1</td>\n",
       "      <td>0</td>\n",
       "      <td>0</td>\n",
       "    </tr>\n",
       "  </tbody>\n",
       "</table>\n",
       "</div>"
      ],
      "text/plain": [
       "  Bathroom  Bedroom  Kitchen  Living Room\n",
       "         0        1        0            0"
      ]
     },
     "execution_count": 5,
     "metadata": {},
     "output_type": "execute_result"
    }
   ],
   "source": [
    "pi"
   ]
  },
  {
   "cell_type": "markdown",
   "metadata": {},
   "source": [
    "## Creating a fixed HMM using our designed parameter set\n",
    "Using the provided parameters, we can create a fixed HMM model. For doing this we use the `hmmlearn` library. The library provides 3 different implementations for HMM model (namely, `hmm.GaussianHMM`, `hmm.GMMHMM`, and `hmm.MultinomialHMM`). The multinomial implementation is the closest to what Chapter 14 offers so we use [`hmm.MultinomialHMM`](https://hmmlearn.readthedocs.io/en/stable/api.html#multinomialhmm). Read through the library documentation of `MultinomialHMM` to make a model instance and use **A**, **B**, and **$\\pi$** parameters that was created earlier to fill in the instance parameters.\n",
    "\n",
    "Hint: you can use `A.shape[1]` as the number of components and `B.shape[1]` as the number of features."
   ]
  },
  {
   "cell_type": "code",
   "execution_count": null,
   "metadata": {},
   "outputs": [],
   "source": [
    "# TODO create a variable and name it `model`, fill in its parameters with our designed A, B, and pi"
   ]
  },
  {
   "cell_type": "markdown",
   "metadata": {},
   "source": [
    "## Testing the fixed HMM model\n",
    "Now that we have created an HMM model, we can test it with an instance of observations that your girlfriend has had. \n",
    "\n",
    "*You woke up. Being completely silent for about 3 minutes, you went about to look for your socks in a wardrobe. Having found what you needed (or not), you went silent again for five minutes and flushed the toilet. Immediately after, you proceeded to take a shower (5 minutes), followed by brushing your teeth (3 minutes), although you turn the radio on in between. Once you were done, you turned the coffee machine on, watched TV (3 minutes), and did the dishes.*\n",
    "\n",
    "We create an obeservation example from what was just explained in the next cell:"
   ]
  },
  {
   "cell_type": "code",
   "execution_count": null,
   "metadata": {},
   "outputs": [],
   "source": [
    "what_she_heard = ['Silence']*3 + ['Wardrobe'] + ['Silence']*5 + ['Flushing'] + ['Shower']*5 + ['Radio']*2 + ['Toothbrush']*3 + ['Coffee'] + ['Television']*3 + ['Dishes']\n",
    "noises_to_ids = {n:ind for ind, n in enumerate(noises)}\n",
    "what_she_heard_as_observation = np.array(list(map(lambda x: [noises_to_ids[x]], what_she_heard)))"
   ]
  },
  {
   "cell_type": "markdown",
   "metadata": {},
   "source": [
    "Now use the fixed HMM model that you created to predict the rooms in which each of the observations actually happened:"
   ]
  },
  {
   "cell_type": "code",
   "execution_count": null,
   "metadata": {},
   "outputs": [],
   "source": [
    "# TODO predict the rooms for observations your girlfriend had, and save it in `estimated_states`"
   ]
  },
  {
   "cell_type": "code",
   "execution_count": null,
   "metadata": {},
   "outputs": [],
   "source": [
    "experiement1 = pd.DataFrame({'noise': map(lambda x: noises[x], what_she_heard_as_observation.flatten()), 'room': map(lambda x: rooms[x], estimated_states.flatten())})\n",
    "experiement1.columns =['the sounds you make', 'her guess on where you are']\n",
    "experiement1"
   ]
  },
  {
   "cell_type": "markdown",
   "metadata": {},
   "source": [
    "Using the results of the first experiment you can simply summarize the results and guess your girlfriend thinks where you spent most of the time in the morning sequence:"
   ]
  },
  {
   "cell_type": "code",
   "execution_count": null,
   "metadata": {},
   "outputs": [],
   "source": [
    "pd.DataFrame({'total time steps': map(lambda x: rooms[x], estimated_states.flatten())}).apply(pd.value_counts)"
   ]
  },
  {
   "cell_type": "markdown",
   "metadata": {},
   "source": [
    "## Sampling for more morning noise sequences\n",
    "Your created model can not only be used to help determining where you spent most of your morning time, but it also can provide more samples of such sequences. The samples might be really novel and you might have never done the exact sequence. Here is a sample that lasts 30 minutes, with one-minute granularity (some parts might seem crazily wrong! That actually makes sense because the rigidly designed parameters will not be a perfect fit to the problem):"
   ]
  },
  {
   "cell_type": "code",
   "execution_count": null,
   "metadata": {},
   "outputs": [],
   "source": [
    "observations, latent_states = model.sample(30)\n",
    "experiement2 = pd.DataFrame({'noise': map(lambda x: noises[x], observations.flatten()), 'room': map(lambda x: rooms[x], latent_states.flatten())})\n",
    "experiement2"
   ]
  },
  {
   "cell_type": "markdown",
   "metadata": {},
   "source": [
    "We can use the created samples to compare the performance of our predictions with actual sampled tags:"
   ]
  },
  {
   "cell_type": "code",
   "execution_count": null,
   "metadata": {},
   "outputs": [],
   "source": [
    "estimated_states = model.predict(observations)\n",
    "experiement3 = pd.DataFrame({'estimated': map(lambda x: rooms[x], estimated_states.flatten()), 'real': map(lambda x: rooms[x], latent_states.flatten())})\n",
    "experiement3 = experiement3.apply(pd.value_counts)\n",
    "experiement3.columns = ['estimated time proportion', 'real time proportion']\n",
    "experiement3"
   ]
  },
  {
   "cell_type": "markdown",
   "metadata": {},
   "source": [
    "## Training HMM in hope to find better parameters\n",
    "So far we have assumed that the model parameters (**A**, **B**, and **$\\pi$** ) that we created were reasonable seting for our model in this problem. Now its time to question that assumption, lets get started with creating another `MultinomialHMM` model but training it instead of filling in its parameters with fixed values.\n",
    "\n",
    "**Important note**: due to the size of train data, to prevent the model from wandring off, you still need to fix its initial state proability set to our previously defined **$\\pi$**."
   ]
  },
  {
   "cell_type": "code",
   "execution_count": null,
   "metadata": {},
   "outputs": [],
   "source": [
    "# TODO create another instance of `MultinomialHMM` class and name it `t_model` (for model which is actually \n",
    "# trained). Have a tolerance level of less than 0.001 for the model and direct it to iterate around 100 \n",
    "# times over the train data to find the proper trained parameters A and B.\n",
    "\n",
    "\n",
    "\n",
    "# fit the model on previously created observations `what_she_heard_as_observation`\n",
    "\n",
    "\n",
    "\n",
    "# To make sure your code ran properly you can run the followin line and expect it returns \"True\"\n",
    "# print(t_model.monitor_.converged)"
   ]
  },
  {
   "cell_type": "code",
   "execution_count": null,
   "metadata": {},
   "outputs": [],
   "source": [
    "# Run the following script to see the changes in your HMM model parameters fitness score\n",
    "fig, ax = plt.subplots(1, 1, figsize=(10, 5))\n",
    "ax.semilogy(np.exp(t_model.monitor_.history))\n",
    "ax.set_xlabel('Epoch')\n",
    "ax.set_ylabel('Score')\n",
    "ax.set_title('Training history')\n",
    "plt.grid()\n",
    "plt.show()"
   ]
  },
  {
   "cell_type": "markdown",
   "metadata": {},
   "source": [
    "## Testing the trained HMM model\n",
    "Now lets run the same test scripts we ran for the fixed HMM model and compare the results together:"
   ]
  },
  {
   "cell_type": "code",
   "execution_count": null,
   "metadata": {},
   "outputs": [],
   "source": [
    "# TODO replicate the same test procedure we did earlier (create both tables) to test your trained model.\n",
    "# compare the results and explain what are your thoughts on them."
   ]
  }
 ],
 "metadata": {
  "kernelspec": {
   "display_name": "Python 3",
   "language": "python",
   "name": "python3"
  },
  "language_info": {
   "codemirror_mode": {
    "name": "ipython",
    "version": 3
   },
   "file_extension": ".py",
   "mimetype": "text/x-python",
   "name": "python",
   "nbconvert_exporter": "python",
   "pygments_lexer": "ipython3",
   "version": "3.8.7"
  }
 },
 "nbformat": 4,
 "nbformat_minor": 4
}
