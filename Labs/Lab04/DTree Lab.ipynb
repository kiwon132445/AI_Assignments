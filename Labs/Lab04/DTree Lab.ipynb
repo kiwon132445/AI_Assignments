{
 "cells": [
  {
   "cell_type": "markdown",
   "metadata": {},
   "source": [
    "# Lab - Deciscion Trees to predict Diabetes\n",
    "This notebook serves as the starter code and lab description covering **Chapter 19 - Learning from Examples (Part 1)** from the book *Artificial Intelligence: A Modern Approach.*"
   ]
  },
  {
   "cell_type": "code",
   "execution_count": 1,
   "metadata": {},
   "outputs": [],
   "source": [
    "# pip install sklearn\n",
    "# pip install pandas\n",
    "# pip install six\n",
    "# pip install pydotplus\n",
    "import warnings\n",
    "warnings.filterwarnings(\"ignore\")\n",
    "import pandas as pd\n",
    "from sklearn.tree import DecisionTreeClassifier\n",
    "from sklearn.model_selection import train_test_split\n",
    "\n",
    "from sklearn import metrics # is used to create classification results\n",
    "from sklearn.tree import export_graphviz # is used for plotting the decision tree\n",
    "from six import StringIO # is used for plotting the decision tree\n",
    "from IPython.display import Image # is used for plotting the decision tree\n",
    "from IPython.core.display import HTML # is used for showing the confusion matrix\n",
    "import pydotplus # is used for plotting the decision tree"
   ]
  },
  {
   "cell_type": "markdown",
   "metadata": {},
   "source": [
    "## OVERVIEW\n",
    "\n",
    "This lab is designed to guide you through a real life classification task which can be solved using Decision Tree Learning. The dataset we are going to consider for this task is \"[Pima Indians Diabetes Database](https://www.kaggle.com/uciml/pima-indians-diabetes-database)\" \\[[Download Link](https://gist.github.com/ktisha/c21e73a1bd1700294ef790c56c8aec1f)\\]. \n",
    "\n",
    "### Dataset\n",
    "\n",
    "The objective of the dataset is to\n",
    "diagnostically predict whether or not a patient has diabetes, based on certain diagnostic\n",
    "measurements included in the dataset. Several constraints were placed on the selection\n",
    "of these instances from a larger database.\n",
    "\n",
    "Each dataset record contains the following measurements:\n",
    " 1. Number of times the patient has been pregnant\n",
    " 2. Plasma glucose concentration a 2 hours in an oral glucose tolerance test\n",
    " 3. Diastolic blood pressure (mm Hg)\n",
    " 4. Triceps skin fold thickness (mm)\n",
    " 5. 2-Hour serum insulin (mu U/ml)\n",
    " 6. Body mass index (weight in kg/(height in m)^2)\n",
    " 7. Diabetes pedigree function\n",
    " 8. Age (years)\n",
    " 9. Class variable (0 for doesn't have diabetes or 1 for has diabetes)\n",
    "\n",
    "Let's load up the dataset:"
   ]
  },
  {
   "cell_type": "code",
   "execution_count": 2,
   "metadata": {},
   "outputs": [
    {
     "data": {
      "text/html": [
       "<div>\n",
       "<style scoped>\n",
       "    .dataframe tbody tr th:only-of-type {\n",
       "        vertical-align: middle;\n",
       "    }\n",
       "\n",
       "    .dataframe tbody tr th {\n",
       "        vertical-align: top;\n",
       "    }\n",
       "\n",
       "    .dataframe thead th {\n",
       "        text-align: right;\n",
       "    }\n",
       "</style>\n",
       "<table border=\"1\" class=\"dataframe\">\n",
       "  <thead>\n",
       "    <tr style=\"text-align: right;\">\n",
       "      <th></th>\n",
       "      <th>pregnant</th>\n",
       "      <th>glucose</th>\n",
       "      <th>bp</th>\n",
       "      <th>skin</th>\n",
       "      <th>insulin</th>\n",
       "      <th>bmi</th>\n",
       "      <th>pedigree</th>\n",
       "      <th>age</th>\n",
       "      <th>label</th>\n",
       "    </tr>\n",
       "  </thead>\n",
       "  <tbody>\n",
       "    <tr>\n",
       "      <th>0</th>\n",
       "      <td>6</td>\n",
       "      <td>148</td>\n",
       "      <td>72</td>\n",
       "      <td>35</td>\n",
       "      <td>0</td>\n",
       "      <td>33.6</td>\n",
       "      <td>0.627</td>\n",
       "      <td>50</td>\n",
       "      <td>1</td>\n",
       "    </tr>\n",
       "    <tr>\n",
       "      <th>1</th>\n",
       "      <td>1</td>\n",
       "      <td>85</td>\n",
       "      <td>66</td>\n",
       "      <td>29</td>\n",
       "      <td>0</td>\n",
       "      <td>26.6</td>\n",
       "      <td>0.351</td>\n",
       "      <td>31</td>\n",
       "      <td>0</td>\n",
       "    </tr>\n",
       "    <tr>\n",
       "      <th>2</th>\n",
       "      <td>8</td>\n",
       "      <td>183</td>\n",
       "      <td>64</td>\n",
       "      <td>0</td>\n",
       "      <td>0</td>\n",
       "      <td>23.3</td>\n",
       "      <td>0.672</td>\n",
       "      <td>32</td>\n",
       "      <td>1</td>\n",
       "    </tr>\n",
       "    <tr>\n",
       "      <th>3</th>\n",
       "      <td>1</td>\n",
       "      <td>89</td>\n",
       "      <td>66</td>\n",
       "      <td>23</td>\n",
       "      <td>94</td>\n",
       "      <td>28.1</td>\n",
       "      <td>0.167</td>\n",
       "      <td>21</td>\n",
       "      <td>0</td>\n",
       "    </tr>\n",
       "    <tr>\n",
       "      <th>4</th>\n",
       "      <td>0</td>\n",
       "      <td>137</td>\n",
       "      <td>40</td>\n",
       "      <td>35</td>\n",
       "      <td>168</td>\n",
       "      <td>43.1</td>\n",
       "      <td>2.288</td>\n",
       "      <td>33</td>\n",
       "      <td>1</td>\n",
       "    </tr>\n",
       "  </tbody>\n",
       "</table>\n",
       "</div>"
      ],
      "text/plain": [
       "   pregnant  glucose  bp  skin  insulin   bmi  pedigree  age  label\n",
       "0         6      148  72    35        0  33.6     0.627   50      1\n",
       "1         1       85  66    29        0  26.6     0.351   31      0\n",
       "2         8      183  64     0        0  23.3     0.672   32      1\n",
       "3         1       89  66    23       94  28.1     0.167   21      0\n",
       "4         0      137  40    35      168  43.1     2.288   33      1"
      ]
     },
     "execution_count": 2,
     "metadata": {},
     "output_type": "execute_result"
    }
   ],
   "source": [
    "col_names = ['pregnant', 'glucose', 'bp', 'skin', 'insulin', 'bmi', 'pedigree', 'age', 'label']\n",
    "pima = pd.read_csv(\"pima-indians-diabetes.csv\", header=None, names=col_names, skiprows=9)\n",
    "pima.head()"
   ]
  },
  {
   "cell_type": "markdown",
   "metadata": {},
   "source": [
    "Now let's break the data into training information (extracted features) and the target label (which we expect the model to learn to predict)."
   ]
  },
  {
   "cell_type": "code",
   "execution_count": null,
   "metadata": {},
   "outputs": [],
   "source": [
    "feature_cols = ['pregnant','glucose','bp', 'skin', 'insulin', 'bmi', 'pedigree', 'age']\n",
    "X = pima[feature_cols] # Features\n",
    "y = pima.label # Target variable"
   ]
  },
  {
   "cell_type": "markdown",
   "metadata": {},
   "source": [
    "For the next step, we use `train_test_split` to split the dataset to 70% training and 30% test sets (you can also try 80%/20%)."
   ]
  },
  {
   "cell_type": "code",
   "execution_count": null,
   "metadata": {},
   "outputs": [],
   "source": [
    "# TODO Split dataset into training set and test set and store the results in 'X_train', 'X_test', 'y_train', 'y_test'"
   ]
  },
  {
   "cell_type": "markdown",
   "metadata": {},
   "source": [
    "Train a [`DecisionTreeClassifier`](https://scikit-learn.org/stable/modules/generated/sklearn.tree.DecisionTreeClassifier.html) (look at the API documentation of it and lookup for some examples on how to train it) on the splitted train data. Use `criterion=‘entropy’` parameter to train a decision tree using the Entropy attribute selection method, as we discussed in class."
   ]
  },
  {
   "cell_type": "code",
   "execution_count": null,
   "metadata": {},
   "outputs": [],
   "source": [
    "# TODO Create the Decision Tree classifier object\n",
    "# TODO Train the Decision Tree Classifier object"
   ]
  },
  {
   "cell_type": "markdown",
   "metadata": {},
   "source": [
    "Now using the trained model predict the target labels for the test set input features."
   ]
  },
  {
   "cell_type": "code",
   "execution_count": null,
   "metadata": {},
   "outputs": [],
   "source": [
    "# TODO Predict the response for test dataset and store it in 'y_pred'"
   ]
  },
  {
   "cell_type": "markdown",
   "metadata": {},
   "source": [
    "The next cell provides the precision score of our classifier:"
   ]
  },
  {
   "cell_type": "code",
   "execution_count": null,
   "metadata": {},
   "outputs": [],
   "source": [
    "# Model Accuracy, how often is the classifier correct?\n",
    "print(\"Accuracy: {:.2f}%\\n\".format(metrics.accuracy_score(y_test, y_pred)*100))\n",
    "display(HTML(pd.DataFrame(metrics.confusion_matrix(y_test, y_pred), columns=[\"Doesn't Have Cancer\", \"Has Cancer\"], index=[\"Doesn't Have Cancer\", \"Has Cancer\"]).to_html()))\n",
    "print(metrics.classification_report(y_test, y_pred))"
   ]
  },
  {
   "cell_type": "markdown",
   "metadata": {},
   "source": [
    "Now that we have created a decision tree, let's see what it looks like when we visualize it. The Scikit-learn's `export_graphviz` function can help visualize the decision tree. We can use this on our Jupyter notebooks. "
   ]
  },
  {
   "cell_type": "code",
   "execution_count": null,
   "metadata": {},
   "outputs": [],
   "source": [
    "# If you got this error: \"InvocationException: GraphViz's executables not found\"\n",
    "# Try running this command: \"sudo apt install graphviz\" (for linux) or \"brew install graphviz\" (for macos)\n",
    "\n",
    "# You may also need to run: \"pip install graphviz\"\n",
    "\n",
    "dot_data = StringIO()\n",
    "export_graphviz(clf, out_file=dot_data,  \n",
    "                filled=True, rounded=True,\n",
    "                special_characters=True,feature_names = feature_cols,class_names=['0','1'])\n",
    "graph = pydotplus.graph_from_dot_data(dot_data.getvalue())  \n",
    "graph.write_png('diabetes.png')\n",
    "Image(graph.create_png())"
   ]
  },
  {
   "cell_type": "markdown",
   "metadata": {},
   "source": [
    "Based on the plotted tree, which features are the most important? how do you tell?"
   ]
  },
  {
   "cell_type": "markdown",
   "metadata": {},
   "source": [
    "## Improving the classification results"
   ]
  },
  {
   "cell_type": "markdown",
   "metadata": {},
   "source": [
    "Think of an improvement (or search for it, there are many) to what you have so far, improve the classification performance of the classifier and re-test it using the exact same test procedure that you did earlier. Draw the modified decision tree and store it in `'diabetes2.png'`. Explain why the improvement happened?"
   ]
  },
  {
   "cell_type": "code",
   "execution_count": null,
   "metadata": {},
   "outputs": [],
   "source": [
    "# TODO Implement your modified classification procedure here"
   ]
  }
 ],
 "metadata": {
  "kernelspec": {
   "display_name": "Python 3 (ipykernel)",
   "language": "python",
   "name": "python3"
  },
  "language_info": {
   "codemirror_mode": {
    "name": "ipython",
    "version": 3
   },
   "file_extension": ".py",
   "mimetype": "text/x-python",
   "name": "python",
   "nbconvert_exporter": "python",
   "pygments_lexer": "ipython3",
   "version": "3.10.6"
  }
 },
 "nbformat": 4,
 "nbformat_minor": 4
}
