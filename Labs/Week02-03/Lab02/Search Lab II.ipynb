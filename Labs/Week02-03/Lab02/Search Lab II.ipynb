{
 "cells": [
  {
   "cell_type": "markdown",
   "metadata": {},
   "source": [
    "# Lab - Adversarial Search #\n",
    "\n",
    "This notebook serves as the starter code and lab description covering **Chapter 5 - Adversarial Search** from the book *Artificial Intelligence: A Modern Approach.*"
   ]
  },
  {
   "cell_type": "code",
   "execution_count": 1,
   "metadata": {},
   "outputs": [],
   "source": [
    "from starter import *\n",
    "\n",
    "# This function is placed here to help you read through the source code of different classes, \n",
    "#  and debug what has been loaded into jupyter, \n",
    "#  make sure all the function calls to `psource` are commented in your submission\n",
    "def psource(*functions):\n",
    "    \"\"\"Print the source code for the given function(s).\"\"\"\n",
    "    from inspect import getsource\n",
    "    source_code = '\\n\\n'.join(getsource(fn) for fn in functions)\n",
    "    try:\n",
    "        from pygments.formatters import HtmlFormatter\n",
    "        from pygments.lexers import PythonLexer\n",
    "        from pygments import highlight\n",
    "        from IPython.display import HTML\n",
    "\n",
    "        display(HTML(highlight(source_code, PythonLexer(), HtmlFormatter(full=True))))\n",
    "\n",
    "    except ImportError:\n",
    "        print(source_code)"
   ]
  },
  {
   "cell_type": "markdown",
   "metadata": {},
   "source": [
    "## OVERVIEW\n",
    "We exercise adverserial search in terms of the game tic-tac-toe, a very simple game but complex enough to help us practice what we learned in the lecture. \n",
    "\n",
    "We implement minimax search, alpha-beta search, and ... to help our player play tic-tac-toe and a connect-four variant of tic-tac-toe. \n",
    "\n",
    "We start with defining the abstract class `Game`, for turn-taking *n*-player games. A game is similar to a problem, but it has a terminal test instead of a goal test, and a utility for each terminal state. To create a game, subclass `Game` and implement `actions`, `result`, `is_terminal`, and `utility`. You will also need to set the `.initial` attribute to the initial state; this can be done in the constructor.\n",
    "\n",
    "We rely on, but do not define yet, the concept of a `state` of the game; we'll see later how individual games define states. For now, all we require is that a state has a `state.to_move` attribute, which gives the name of the player whose turn it is. (\"Name\" will be something like `'X'` or `'O'` for tic-tac-toe.) \n",
    "\n",
    "We also define `play_game`, which takes a game and a dictionary of  `{player_name: strategy_function}` pairs, and plays out the game, on each turn checking `state.to_move` to see whose turn it is, and then getting the strategy function for that player and applying it to the game and the state to get a move."
   ]
  },
  {
   "cell_type": "code",
   "execution_count": 2,
   "metadata": {},
   "outputs": [],
   "source": [
    "# psource(Game)\n",
    "# psource(play_game)"
   ]
  },
  {
   "cell_type": "markdown",
   "metadata": {},
   "source": [
    "# Tic-Tac-Toe and Board\n",
    "\n",
    "We have the notion of an abstract game, based on it, we define a real game; a simple one, `TicTacToe`. Moves are `(x, y)` pairs denoting squares, where `(0, 0)` is the top left, and `(2, 2)` is the bottom right (on a board of size `height=width=3`). You need `k` squares in a row to win.\n",
    "\n",
    "States in tic-tac-toe (and other games) will be represented as a `Board`, which is a subclass of `defaultdict` that in general will consist of `{(x, y): contents}` pairs, for example `{(0, 0): 'X', (1, 1): 'O'}` might be the state of the board after two moves. Besides the contents of squares, a board also has some attributes: \n",
    "- `.to_move` to name the player whose move it is ('X' plays first against 'O'); \n",
    "- `.width` and `.height` to give the size of the board (both 3 in tic-tac-toe, but other numbers in related games);\n",
    "- possibly other attributes, as specified by keywords. \n",
    "\n",
    "A `Board` has the player to move, a cached utility value, and a dict of `{(x, y): player}` entries, where player is `X` or `O`. As a `defaultdict`, the `Board` class has a `__missing__` method, which returns `empty` for squares that have no been assigned but are within the `width` × `height` boundaries, or `off` otherwise. The class has a `__hash__` method, so instances can be stored in hash tables."
   ]
  },
  {
   "cell_type": "code",
   "execution_count": 3,
   "metadata": {},
   "outputs": [],
   "source": [
    "# psource(TicTacToe)\n",
    "# psource(Board)"
   ]
  },
  {
   "cell_type": "markdown",
   "metadata": {},
   "source": [
    "# Players\n",
    "\n",
    "We need an interface for players. I'll represent a player as a `callable` that will be passed two arguments: `(game, state)` and will return a `move`.\n",
    "The function `player` creates a player out of a search algorithm, but you can create your own players as functions, as is done with `random_player` below:"
   ]
  },
  {
   "cell_type": "code",
   "execution_count": 4,
   "metadata": {},
   "outputs": [],
   "source": [
    "# psource(random_player)\n",
    "# psource(player)"
   ]
  },
  {
   "cell_type": "markdown",
   "metadata": {},
   "source": [
    "# Minimax-Based Game Search Algorithms\n",
    "\n",
    "Now, we will define several game search algorithms. Each takes two inputs, the game we are playing and the current state of the game, and returns a a `(value, move)` pair, where `value` is the utility that the algorithm computes for the player whose turn it is to move, and `move` is the move itself.\n",
    "\n",
    "First we define `minimax_search`, which exhaustively searches the game tree to find an optimal move (assuming both players play optimally), and `alphabeta_search`, which does the same computation, but prunes parts of the tree that could not possibly have an affect on the optimnal move.  "
   ]
  },
  {
   "cell_type": "code",
   "execution_count": 5,
   "metadata": {},
   "outputs": [],
   "source": [
    "def minimax_search(game, state):\n",
    "    \"\"\"Search game tree to determine best move; return (value, move) pair.\"\"\"\n",
    "\n",
    "    player = state.to_move\n",
    "\n",
    "    @cache\n",
    "    def max_value(state):\n",
    "        # TODO return the game utility if game is in a terminal state.\n",
    "        # TODO in all possible game actions choose the action that is the best one and return the action along its value as a (value, action) pair.\n",
    "        return -infinity, game.actions(state).pop()\n",
    "    @cache\n",
    "    def min_value(state):\n",
    "        # TODO return the game utility if game is in a terminal state.\n",
    "        # TODO in all possible game actions choose the action that is the best one and return the action along its value as a (value, action) pair.\n",
    "        return +infinity, game.actions(state).pop()\n",
    "\n",
    "    return max_value(state)\n",
    "\n",
    "infinity = math.inf\n",
    "\n",
    "def alphabeta_search(game, state):\n",
    "    \"\"\"Search game to determine best action; use alpha-beta pruning.\n",
    "    As in [Figure 5.7], this version searches all the way to the leaves.\"\"\"\n",
    "\n",
    "    player = state.to_move\n",
    "    \n",
    "    @cache\n",
    "    def max_value(state, alpha, beta):\n",
    "        # TODO return the game utility if game is in a terminal state.\n",
    "        # TODO in all possible game actions choose the action that is the best one and return the action along its value as a (value, action) pair.\n",
    "        return -infinity, game.actions(state).pop()\n",
    "    \n",
    "    @cache\n",
    "    def min_value(state, alpha, beta):\n",
    "        # TODO return the game utility if game is in a terminal state.\n",
    "        # TODO in all possible game actions choose the action that is the best one and return the action along its value as a (value, action) pair.\n",
    "        return +infinity, game.actions(state).pop()\n",
    "\n",
    "    return max_value(state, -infinity, +infinity)"
   ]
  },
  {
   "cell_type": "markdown",
   "metadata": {},
   "source": [
    "# Playing a Game\n",
    "\n",
    "We're ready to play a game. I'll set up a match between a `random_player` (who chooses randomly from the legal moves) and a `player(alphabeta_search)` (who makes the optimal alpha-beta move; practical for tic-tac-toe, but not for large games). The `player(alphabeta_search)` will never lose, but if `random_player` is lucky, it will be a tie."
   ]
  },
  {
   "cell_type": "code",
   "execution_count": null,
   "metadata": {},
   "outputs": [],
   "source": [
    "play_game(TicTacToe(), dict(X=random_player, O=player(alphabeta_search)), verbose=True).utility"
   ]
  },
  {
   "cell_type": "markdown",
   "metadata": {},
   "source": [
    "The alpha-beta player will never lose, but sometimes the random player can stumble into a draw. When two optimal (alpha-beta or minimax) players compete, it will always be a draw:"
   ]
  },
  {
   "cell_type": "code",
   "execution_count": null,
   "metadata": {},
   "outputs": [],
   "source": [
    "play_game(TicTacToe(), dict(X=player(alphabeta_search), O=player(minimax_search)), verbose=True).utility"
   ]
  },
  {
   "cell_type": "markdown",
   "metadata": {},
   "source": [
    "# Connect Four\n",
    "[`ConnectFour`](https://connect-4.org/en) is a variant of tic-tac-toe, played on a larger (7 x 6) board, and with the restriction that in any column you can only play in the lowest empty square (first empty square starting from the bottom) in the column."
   ]
  },
  {
   "cell_type": "code",
   "execution_count": null,
   "metadata": {},
   "outputs": [],
   "source": [
    "# psource(ConnectFour)"
   ]
  },
  {
   "cell_type": "markdown",
   "metadata": {},
   "source": [
    "Try running the same code you just implemented for `ConnectFour` and report if there is any problem (you may kill this process once you found a problem). "
   ]
  },
  {
   "cell_type": "code",
   "execution_count": null,
   "metadata": {},
   "outputs": [],
   "source": [
    "# play_game(ConnectFour(), dict(X=random_player, O=player(alphabeta_search)), verbose=True).utility"
   ]
  },
  {
   "cell_type": "markdown",
   "metadata": {},
   "source": [
    "Try modifying your `alphabeta_search` to alleviate the problem and report the changes in result."
   ]
  },
  {
   "cell_type": "code",
   "execution_count": null,
   "metadata": {},
   "outputs": [],
   "source": [
    "# TODO implement the modified alphabeta_search and test it out here"
   ]
  },
  {
   "cell_type": "markdown",
   "metadata": {},
   "source": [
    "As a **bonus** try implementing Monte Carlo search and have your player play with it. How different is the performance of the player?"
   ]
  }
 ],
 "metadata": {
  "kernelspec": {
   "display_name": "Python 3 (ipykernel)",
   "language": "python",
   "name": "python3"
  },
  "language_info": {
   "codemirror_mode": {
    "name": "ipython",
    "version": 3
   },
   "file_extension": ".py",
   "mimetype": "text/x-python",
   "name": "python",
   "nbconvert_exporter": "python",
   "pygments_lexer": "ipython3",
   "version": "3.10.6"
  }
 },
 "nbformat": 4,
 "nbformat_minor": 4
}
