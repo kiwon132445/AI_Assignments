{
 "cells": [
  {
   "cell_type": "code",
   "execution_count": 1,
   "id": "2c829391",
   "metadata": {},
   "outputs": [],
   "source": [
    "from NIDS import *\n",
    "\n",
    "# from sklearn import preprocessing\n",
    "# from sklearn.preprocessing import StandardScaler\n",
    "# from sklearn.preprocessing import LabelEncoder\n",
    "# from sklearn.decomposition import PCA\n",
    "# from sklearn.model_selection import train_test_split\n",
    "# from sklearn.preprocessing import RobustScaler\n",
    "# from sklearn.naive_bayes import GaussianNB\n",
    "# from sklearn.metrics import accuracy_score\n",
    "# from sklearn.metrics import classification_report\n",
    "# from sklearn.tree import DecisionTreeClassifier\n",
    "\n",
    "# import seaborn as sns\n",
    "# %matplotlib inline\n",
    "\n",
    "# import math\n",
    "\n",
    "# import matplotlib.pyplot as plt \n",
    "\n",
    "# import warnings\n",
    "\n",
    "# warnings.filterwarnings('ignore')"
   ]
  },
  {
   "cell_type": "code",
   "execution_count": 2,
   "id": "b2aeb3fc",
   "metadata": {},
   "outputs": [],
   "source": [
    "# nids = pd.read_csv(\"UNSW-NB15-BALANCED-TRAIN.csv\", low_memory=False, converters={'attack_cat': str.strip})\n",
    "# nids.head()\n",
    "# nids_training = nids.head(5).to_csv(\"UNSW-NB15-TRAINING.csv\")"
   ]
  },
  {
   "cell_type": "code",
   "execution_count": 3,
   "id": "e2818af7",
   "metadata": {},
   "outputs": [],
   "source": [
    "# # Converting null values to str\n",
    "# nids['ct_flw_http_mthd'] = nids['ct_flw_http_mthd'].astype('str')\n",
    "# nids['ct_flw_http_mthd'] = nids['ct_flw_http_mthd'].astype('str')\n",
    "# nids['is_ftp_login'] = nids['is_ftp_login'].astype('str')\n",
    "# nids['ct_ftp_cmd'] = nids['ct_ftp_cmd'].astype('str')\n",
    "\n",
    "# nids['sport'] = pd.to_numeric(nids['sport'], errors=\"coerce\")\n",
    "# nids['dsport'] = pd.to_numeric(nids['dsport'], errors=\"coerce\")\n",
    "\n",
    "# nids.dropna(axis=\"rows\", subset=[\"sport\", \"dsport\"], inplace=True)\n",
    "\n",
    "# # Converting str to int\n",
    "# nids['attack_cat'] = pd.factorize(nids['attack_cat'])[0]\n",
    "# nids['proto'] = pd.factorize(nids['proto'])[0]\n",
    "# nids['state'] = pd.factorize(nids['state'])[0]\n",
    "# nids['service'] = pd.factorize(nids['service'])[0]\n",
    "\n",
    "# nids['ct_flw_http_mthd'] = pd.factorize(nids['ct_flw_http_mthd'])[0]\n",
    "# nids['ct_flw_http_mthd'] = pd.factorize(nids['ct_flw_http_mthd'])[0]\n",
    "# nids['is_ftp_login'] = pd.factorize(nids['is_ftp_login'])[0]\n",
    "# nids['ct_ftp_cmd'] = pd.factorize(nids['ct_ftp_cmd'])[0]\n",
    "\n",
    "# nids['srcip'] = preprocessing.LabelEncoder().fit_transform(nids['srcip'])\n",
    "# nids['dstip'] = preprocessing.LabelEncoder().fit_transform(nids['dstip'])"
   ]
  },
  {
   "cell_type": "code",
   "execution_count": 4,
   "id": "8e10fe05",
   "metadata": {},
   "outputs": [],
   "source": [
    "nids = NIDS_Manager(\"UNSW-NB15-BALANCED-TRAIN.csv\", \"LRCV\", \"w\", feature_name=\"PCA\")"
   ]
  },
  {
   "cell_type": "code",
   "execution_count": 5,
   "id": "e700f801",
   "metadata": {},
   "outputs": [],
   "source": [
    "X = nids.x\n",
    "Y_attack_cat = nids.y_attack_cat\n",
    "Y_label = nids.y_label"
   ]
  },
  {
   "cell_type": "code",
   "execution_count": 6,
   "id": "09eddb01",
   "metadata": {},
   "outputs": [],
   "source": [
    "# # Data Scaling\n",
    "# x_scaled = StandardScaler().fit_transform(X)"
   ]
  },
  {
   "cell_type": "code",
   "execution_count": 8,
   "id": "cd9c1150",
   "metadata": {},
   "outputs": [
    {
     "data": {
      "text/html": [
       "<div>\n",
       "<style scoped>\n",
       "    .dataframe tbody tr th:only-of-type {\n",
       "        vertical-align: middle;\n",
       "    }\n",
       "\n",
       "    .dataframe tbody tr th {\n",
       "        vertical-align: top;\n",
       "    }\n",
       "\n",
       "    .dataframe thead th {\n",
       "        text-align: right;\n",
       "    }\n",
       "</style>\n",
       "<table border=\"1\" class=\"dataframe\">\n",
       "  <thead>\n",
       "    <tr style=\"text-align: right;\">\n",
       "      <th></th>\n",
       "      <th>pca0</th>\n",
       "      <th>pca1</th>\n",
       "      <th>pca2</th>\n",
       "      <th>pca3</th>\n",
       "      <th>pca4</th>\n",
       "    </tr>\n",
       "  </thead>\n",
       "  <tbody>\n",
       "    <tr>\n",
       "      <th>0</th>\n",
       "      <td>2.235931</td>\n",
       "      <td>-2.898488</td>\n",
       "      <td>-1.825783</td>\n",
       "      <td>1.297018</td>\n",
       "      <td>-0.034212</td>\n",
       "    </tr>\n",
       "    <tr>\n",
       "      <th>1</th>\n",
       "      <td>3.259444</td>\n",
       "      <td>-1.554472</td>\n",
       "      <td>0.110989</td>\n",
       "      <td>0.281229</td>\n",
       "      <td>1.648594</td>\n",
       "    </tr>\n",
       "    <tr>\n",
       "      <th>2</th>\n",
       "      <td>-3.281002</td>\n",
       "      <td>0.226799</td>\n",
       "      <td>-0.143558</td>\n",
       "      <td>0.048278</td>\n",
       "      <td>-0.773518</td>\n",
       "    </tr>\n",
       "    <tr>\n",
       "      <th>3</th>\n",
       "      <td>-4.616550</td>\n",
       "      <td>-0.250416</td>\n",
       "      <td>0.582235</td>\n",
       "      <td>0.029331</td>\n",
       "      <td>0.569787</td>\n",
       "    </tr>\n",
       "    <tr>\n",
       "      <th>4</th>\n",
       "      <td>2.804119</td>\n",
       "      <td>0.411274</td>\n",
       "      <td>1.016709</td>\n",
       "      <td>-1.717547</td>\n",
       "      <td>-0.920798</td>\n",
       "    </tr>\n",
       "    <tr>\n",
       "      <th>...</th>\n",
       "      <td>...</td>\n",
       "      <td>...</td>\n",
       "      <td>...</td>\n",
       "      <td>...</td>\n",
       "      <td>...</td>\n",
       "    </tr>\n",
       "    <tr>\n",
       "      <th>449754</th>\n",
       "      <td>2.292285</td>\n",
       "      <td>3.321736</td>\n",
       "      <td>-0.540743</td>\n",
       "      <td>-0.361752</td>\n",
       "      <td>0.172940</td>\n",
       "    </tr>\n",
       "    <tr>\n",
       "      <th>449755</th>\n",
       "      <td>-0.764972</td>\n",
       "      <td>-2.521798</td>\n",
       "      <td>-1.297088</td>\n",
       "      <td>1.923850</td>\n",
       "      <td>0.649750</td>\n",
       "    </tr>\n",
       "    <tr>\n",
       "      <th>449756</th>\n",
       "      <td>4.457602</td>\n",
       "      <td>-3.215745</td>\n",
       "      <td>0.106973</td>\n",
       "      <td>-0.134000</td>\n",
       "      <td>0.836585</td>\n",
       "    </tr>\n",
       "    <tr>\n",
       "      <th>449757</th>\n",
       "      <td>-5.060238</td>\n",
       "      <td>-0.361653</td>\n",
       "      <td>0.816822</td>\n",
       "      <td>0.047949</td>\n",
       "      <td>1.097950</td>\n",
       "    </tr>\n",
       "    <tr>\n",
       "      <th>449758</th>\n",
       "      <td>4.627007</td>\n",
       "      <td>-2.912862</td>\n",
       "      <td>0.161660</td>\n",
       "      <td>-0.220153</td>\n",
       "      <td>1.545421</td>\n",
       "    </tr>\n",
       "  </tbody>\n",
       "</table>\n",
       "<p>449759 rows × 5 columns</p>\n",
       "</div>"
      ],
      "text/plain": [
       "            pca0      pca1      pca2      pca3      pca4\n",
       "0       2.235931 -2.898488 -1.825783  1.297018 -0.034212\n",
       "1       3.259444 -1.554472  0.110989  0.281229  1.648594\n",
       "2      -3.281002  0.226799 -0.143558  0.048278 -0.773518\n",
       "3      -4.616550 -0.250416  0.582235  0.029331  0.569787\n",
       "4       2.804119  0.411274  1.016709 -1.717547 -0.920798\n",
       "...          ...       ...       ...       ...       ...\n",
       "449754  2.292285  3.321736 -0.540743 -0.361752  0.172940\n",
       "449755 -0.764972 -2.521798 -1.297088  1.923850  0.649750\n",
       "449756  4.457602 -3.215745  0.106973 -0.134000  0.836585\n",
       "449757 -5.060238 -0.361653  0.816822  0.047949  1.097950\n",
       "449758  4.627007 -2.912862  0.161660 -0.220153  1.545421\n",
       "\n",
       "[449759 rows x 5 columns]"
      ]
     },
     "execution_count": 8,
     "metadata": {},
     "output_type": "execute_result"
    }
   ],
   "source": [
    "# pca = PCA(n_components=5)\n",
    "# pca_features = pca.fit_transform(x_scaled)\n",
    "\n",
    "# print('Shape before PCA: ', x_scaled.shape)\n",
    "# print('Shape after PCA: ', pca_features)\n",
    "\n",
    "# pca_df1 = pd.DataFrame(data=pca_features,\n",
    "#                      columns=['PC1', 'PC2', 'PC3', 'PC4', 'PC5'])\n",
    "\n",
    "# pca_df2 = pd.DataFrame(data=pca_features,\n",
    "#                      columns=['PC1', 'PC2', 'PC3', 'PC4', 'PC5'])\n",
    "\n",
    "pca_ft = nids.pca_fit_transform(nids.x)\n",
    "nids.pca_x(pca_ft)"
   ]
  },
  {
   "cell_type": "code",
   "execution_count": 9,
   "id": "49e28909",
   "metadata": {},
   "outputs": [],
   "source": [
    "#pca.get_feature_names_out()\n"
   ]
  },
  {
   "cell_type": "code",
   "execution_count": 10,
   "id": "84c97e0e",
   "metadata": {},
   "outputs": [],
   "source": [
    "# attack_cat = {\n",
    "#     0: float(\"NAN\"),\n",
    "#     1: 'Generic',\n",
    "#     2: 'Fuzzers',\n",
    "#     3: 'Exploits',\n",
    "#     4: 'DoS',\n",
    "#     5: 'Reconnaissance',\n",
    "#     6: 'Backdoor',\n",
    "#     7: 'Analysis',\n",
    "#     8: 'Shellcode',\n",
    "#     9: 'Backdoors',\n",
    "#     10: 'Worms'\n",
    "# }\n",
    "\n",
    "# label = {\n",
    "#     0: 'None',\n",
    "#     1: 'Attack'\n",
    "# }\n",
    "\n",
    "# pca_df1['target'] = Y_label\n",
    "# pca_df1['target'] = pca_df1['target'].map(label)\n",
    "\n",
    "# pca_df2['target'] = Y_attack_cat\n",
    "# pca_df2['target'] = pca_df2['target'].map(attack_cat)\n",
    "\n",
    "# pca_df2"
   ]
  },
  {
   "cell_type": "code",
   "execution_count": 14,
   "id": "11ca5056",
   "metadata": {},
   "outputs": [
    {
     "data": {
      "text/plain": [
       "array([12.83950616,  4.63923395,  3.93269516,  2.72686533,  2.58909648])"
      ]
     },
     "execution_count": 14,
     "metadata": {},
     "output_type": "execute_result"
    }
   ],
   "source": [
    "nids.pca_get_e_variance()"
   ]
  },
  {
   "cell_type": "code",
   "execution_count": 15,
   "id": "d2570168",
   "metadata": {},
   "outputs": [
    {
     "data": {
      "image/png": "[encoded data removed]",
      "text/plain": [
       "<Figure size 640x480 with 1 Axes>"
      ]
     },
     "metadata": {},
     "output_type": "display_data"
    }
   ],
   "source": [
    "# plt.bar(\n",
    "#     range(1,len(nids.pca_get_e_variance())+1),\n",
    "#     nids.pca_get_e_variance()\n",
    "# )\n",
    "\n",
    "# plt.xlabel('PCA Feature')\n",
    "# plt.ylabel('Explained variance')\n",
    "# plt.title('Feature Explained Variance')\n",
    "# plt.show()\n",
    "nids.pca_e_var_bar()"
   ]
  },
  {
   "cell_type": "code",
   "execution_count": 16,
   "id": "d5ee14b9",
   "metadata": {},
   "outputs": [],
   "source": [
    "# X_train, X_test, Y_train, Y_test = train_test_split(X, Y_label, test_size = 0.3, random_state = 0)"
   ]
  },
  {
   "cell_type": "code",
   "execution_count": null,
   "id": "9f21aa6f",
   "metadata": {},
   "outputs": [],
   "source": [
    "# cols = X_train.columns\n",
    "\n",
    "# scaler = RobustScaler()\n",
    "\n",
    "# X_train = scaler.fit_transform(X_train)\n",
    "\n",
    "# X_test = scaler.fit_transform(X_test)"
   ]
  },
  {
   "cell_type": "code",
   "execution_count": null,
   "id": "09761eb3",
   "metadata": {},
   "outputs": [],
   "source": [
    "# X_train = pd.DataFrame(X_train, columns=[cols])\n",
    "\n",
    "# X_test = pd.DataFrame(X_test, columns=[cols])"
   ]
  },
  {
   "cell_type": "code",
   "execution_count": null,
   "id": "b6f254d5",
   "metadata": {},
   "outputs": [],
   "source": [
    "# gnb = GaussianNB()\n",
    "\n",
    "# gnb.fit(X_train, Y_train)"
   ]
  },
  {
   "cell_type": "code",
   "execution_count": null,
   "id": "847f3e56",
   "metadata": {},
   "outputs": [],
   "source": [
    "# Y_pred = gnb.predict(X_test)"
   ]
  },
  {
   "cell_type": "code",
   "execution_count": null,
   "id": "0d8d2ba6",
   "metadata": {},
   "outputs": [],
   "source": [
    "# print('Model accuracy score:  {0:0.4f}'. format(accuracy_score(Y_test, Y_pred)))"
   ]
  },
  {
   "cell_type": "code",
   "execution_count": null,
   "id": "8f664c6b",
   "metadata": {},
   "outputs": [],
   "source": [
    "# Y_pred_train = gnb.predict(X_train)\n",
    "\n",
    "# Y_pred_train"
   ]
  },
  {
   "cell_type": "code",
   "execution_count": null,
   "id": "673fcd69",
   "metadata": {},
   "outputs": [],
   "source": [
    "print('Classifier: Principal Component Analysis (PCA) \\n')\n",
    "print(classification_report(Y_test, Y_pred))"
   ]
  },
  {
   "cell_type": "code",
   "execution_count": null,
   "id": "2a9f9474",
   "metadata": {},
   "outputs": [],
   "source": [
    "X_train2, X_test2, Y_train2, Y_test2 = train_test_split(X, Y_attack_cat, test_size = 0.3, random_state = 0)"
   ]
  },
  {
   "cell_type": "code",
   "execution_count": null,
   "id": "9a2dfc3c",
   "metadata": {},
   "outputs": [],
   "source": [
    "clf = DecisionTreeClassifier()\n",
    "\n",
    "clf = clf.fit(X_train2,Y_train2)\n",
    "\n",
    "Y_pred2 = clf.predict(X_test2)"
   ]
  },
  {
   "cell_type": "code",
   "execution_count": null,
   "id": "be5090b6",
   "metadata": {},
   "outputs": [],
   "source": [
    "print(\"Model accuracy score: {0:0.4f}\". format(accuracy_score(Y_test2, Y_pred2)))"
   ]
  },
  {
   "cell_type": "code",
   "execution_count": null,
   "id": "fb5cbd32",
   "metadata": {},
   "outputs": [],
   "source": [
    "print('Classifier: Decision Tree \\n')\n",
    "print(classification_report(Y_test2, Y_pred2))"
   ]
  },
  {
   "cell_type": "code",
   "execution_count": null,
   "id": "8ee02d11",
   "metadata": {},
   "outputs": [],
   "source": []
  }
 ],
 "metadata": {
  "kernelspec": {
   "display_name": "Python 3.8 (ipykernel)",
   "language": "python",
   "name": "python3"
  },
  "language_info": {
   "codemirror_mode": {
    "name": "ipython",
    "version": 3
   },
   "file_extension": ".py",
   "mimetype": "text/x-python",
   "name": "python",
   "nbconvert_exporter": "python",
   "pygments_lexer": "ipython3",
   "version": "3.8.16"
  }
 },
 "nbformat": 4,
 "nbformat_minor": 5
}
