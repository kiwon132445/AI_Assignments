{
 "cells": [
  {
   "cell_type": "code",
   "execution_count": 71,
   "id": "2c829391",
   "metadata": {},
   "outputs": [],
   "source": [
    "from NIDS import *\n",
    "\n",
    "from sklearn import preprocessing\n",
    "from sklearn.preprocessing import StandardScaler\n",
    "from sklearn.preprocessing import LabelEncoder\n",
    "from sklearn.decomposition import PCA\n",
    "from sklearn.model_selection import train_test_split\n",
    "from sklearn.preprocessing import RobustScaler\n",
    "from sklearn.naive_bayes import GaussianNB\n",
    "from sklearn.metrics import accuracy_score\n",
    "from sklearn.metrics import classification_report\n",
    "\n",
    "import seaborn as sns\n",
    "%matplotlib inline\n",
    "\n",
    "import math\n",
    "\n",
    "import matplotlib.pyplot as plt \n",
    "\n",
    "import warnings\n",
    "\n",
    "warnings.filterwarnings('ignore')"
   ]
  },
  {
   "cell_type": "code",
   "execution_count": 79,
   "id": "b2aeb3fc",
   "metadata": {},
   "outputs": [
    {
     "name": "stdout",
     "output_type": "stream",
     "text": [
      "               srcip  sport           dstip dsport proto state       dur  \\\n",
      "112     175.45.176.1  51285  149.171.126.15    111   tcp   FIN  3.524984   \n",
      "145     175.45.176.1      0  149.171.126.17      0  unas   INT  0.000003   \n",
      "246     175.45.176.0  56258  149.171.126.15    111   tcp   FIN  0.807271   \n",
      "317     175.45.176.2  61762  149.171.126.18    111   udp   INT  0.000003   \n",
      "349     175.45.176.3  12120  149.171.126.13    111   udp   INT  0.000009   \n",
      "...              ...    ...             ...    ...   ...   ...       ...   \n",
      "449658  175.45.176.0  54010  149.171.126.17    111   udp   INT  0.000008   \n",
      "449692  175.45.176.0  30943  149.171.126.15    111   tcp   FIN  0.675432   \n",
      "449742  175.45.176.1  62900  149.171.126.18    111   tcp   FIN  0.694595   \n",
      "449753  175.45.176.2  19828  149.171.126.15    111   tcp   FIN  0.650552   \n",
      "449772  175.45.176.1  27380  149.171.126.19    111   udp   INT  0.000006   \n",
      "\n",
      "        sbytes  dbytes  sttl  ...  ct_ftp_cmd  ct_srv_src  ct_srv_dst  \\\n",
      "112        564     354   254  ...                       2           1   \n",
      "145        200       0   254  ...                       5           5   \n",
      "246        564     354   254  ...                       1           1   \n",
      "317        168       0   254  ...                       1           1   \n",
      "349        168       0   254  ...                       1           1   \n",
      "...        ...     ...   ...  ...         ...         ...         ...   \n",
      "449658     168       0   254  ...                       1           1   \n",
      "449692     564     354   254  ...                       1           1   \n",
      "449742     564     354   254  ...                       1           1   \n",
      "449753     564     354   254  ...                       1           2   \n",
      "449772     168       0   254  ...                       4           1   \n",
      "\n",
      "       ct_dst_ltm  ct_src_ ltm  ct_src_dport_ltm  ct_dst_sport_ltm  \\\n",
      "112             1            9                 1                 1   \n",
      "145             4            4                 2                 2   \n",
      "246            21            1                 1                 1   \n",
      "317             1            1                 1                 1   \n",
      "349             1            1                 1                 1   \n",
      "...           ...          ...               ...               ...   \n",
      "449658          1            1                 1                 1   \n",
      "449692          1            1                 1                 1   \n",
      "449742          1            2                 1                 1   \n",
      "449753          1            1                 1                 1   \n",
      "449772          1            3                 1                 1   \n",
      "\n",
      "        ct_dst_src_ltm        attack_cat  Label  \n",
      "112                  1   Reconnaissance       1  \n",
      "145                  8   Reconnaissance       1  \n",
      "246                  1   Reconnaissance       1  \n",
      "317                  1   Reconnaissance       1  \n",
      "349                  1   Reconnaissance       1  \n",
      "...                ...               ...    ...  \n",
      "449658               1   Reconnaissance       1  \n",
      "449692               1   Reconnaissance       1  \n",
      "449742               1   Reconnaissance       1  \n",
      "449753               1   Reconnaissance       1  \n",
      "449772               1   Reconnaissance       1  \n",
      "\n",
      "[8613 rows x 49 columns]\n"
     ]
    }
   ],
   "source": [
    "nids = pd.read_csv(\"UNSW-NB15-BALANCED-TRAIN.csv\", low_memory=False)\n",
    "nids['attack_cat'].str.strip()\n",
    "nids.head()\n",
    "print(nids.loc[nids['attack_cat'] == ' Reconnaissance '])"
   ]
  },
  {
   "cell_type": "code",
   "execution_count": 66,
   "id": "e2818af7",
   "metadata": {},
   "outputs": [],
   "source": [
    "# Converting null values to str\n",
    "nids['ct_flw_http_mthd'] = nids['ct_flw_http_mthd'].astype('str')\n",
    "nids['ct_flw_http_mthd'] = nids['ct_flw_http_mthd'].astype('str')\n",
    "nids['is_ftp_login'] = nids['is_ftp_login'].astype('str')\n",
    "nids['ct_ftp_cmd'] = nids['ct_ftp_cmd'].astype('str')\n",
    "\n",
    "nids['sport'] = pd.to_numeric(nids['sport'], errors=\"coerce\")\n",
    "nids['dsport'] = pd.to_numeric(nids['dsport'], errors=\"coerce\")\n",
    "\n",
    "nids.dropna(axis=\"rows\", subset=[\"sport\", \"dsport\"], inplace=True)\n",
    "\n",
    "# Converting str to int\n",
    "nids['attack_cat'] = pd.factorize(nids['attack_cat'])[0]\n",
    "nids['proto'] = pd.factorize(nids['proto'])[0]\n",
    "nids['state'] = pd.factorize(nids['state'])[0]\n",
    "nids['service'] = pd.factorize(nids['service'])[0]\n",
    "\n",
    "nids['ct_flw_http_mthd'] = pd.factorize(nids['ct_flw_http_mthd'])[0]\n",
    "nids['ct_flw_http_mthd'] = pd.factorize(nids['ct_flw_http_mthd'])[0]\n",
    "nids['is_ftp_login'] = pd.factorize(nids['is_ftp_login'])[0]\n",
    "nids['ct_ftp_cmd'] = pd.factorize(nids['ct_ftp_cmd'])[0]\n",
    "\n",
    "nids['srcip'] = preprocessing.LabelEncoder().fit_transform(nids['srcip'])\n",
    "nids['dstip'] = preprocessing.LabelEncoder().fit_transform(nids['dstip'])"
   ]
  },
  {
   "cell_type": "code",
   "execution_count": 67,
   "id": "e700f801",
   "metadata": {},
   "outputs": [
    {
     "name": "stdout",
     "output_type": "stream",
     "text": [
      "        attack_cat\n",
      "0               -1\n",
      "1               -1\n",
      "2                0\n",
      "3                0\n",
      "4               -1\n",
      "...            ...\n",
      "449791           2\n",
      "449792           0\n",
      "449793          -1\n",
      "449794           0\n",
      "449795          -1\n",
      "\n",
      "[449759 rows x 1 columns]\n"
     ]
    }
   ],
   "source": [
    "X = nids.iloc[:,0:47]\n",
    "Y_attack_cat = nids.iloc[:,47:48]\n",
    "Y_label = nids.iloc[:,48:]\n",
    "\n",
    "print(Y_attack_cat)"
   ]
  },
  {
   "cell_type": "code",
   "execution_count": 46,
   "id": "0be4f169",
   "metadata": {},
   "outputs": [],
   "source": [
    "# Data Scaling\n",
    "x_scaled = StandardScaler().fit_transform(X)"
   ]
  },
  {
   "cell_type": "code",
   "execution_count": 47,
   "id": "5d270aab",
   "metadata": {},
   "outputs": [
    {
     "name": "stdout",
     "output_type": "stream",
     "text": [
      "Shape before PCA:  (449759, 47)\n",
      "Shape after PCA:  (449759, 5)\n"
     ]
    }
   ],
   "source": [
    "pca = PCA(n_components=5)\n",
    "pca_features = pca.fit_transform(x_scaled)\n",
    "\n",
    "print('Shape before PCA: ', x_scaled.shape)\n",
    "print('Shape after PCA: ', pca_features.shape)\n",
    "\n",
    "pca_df1 = pd.DataFrame(data=pca_features,\n",
    "                     columns=['PC1', 'PC2', 'PC3', 'PC4', 'PC5'])\n",
    "\n",
    "pca_df2 = pd.DataFrame(data=pca_features,\n",
    "                     columns=['PC1', 'PC2', 'PC3', 'PC4', 'PC5'])"
   ]
  },
  {
   "cell_type": "code",
   "execution_count": 62,
   "id": "d2cc09b7",
   "metadata": {},
   "outputs": [
    {
     "data": {
      "text/html": [
       "<div>\n",
       "<style scoped>\n",
       "    .dataframe tbody tr th:only-of-type {\n",
       "        vertical-align: middle;\n",
       "    }\n",
       "\n",
       "    .dataframe tbody tr th {\n",
       "        vertical-align: top;\n",
       "    }\n",
       "\n",
       "    .dataframe thead th {\n",
       "        text-align: right;\n",
       "    }\n",
       "</style>\n",
       "<table border=\"1\" class=\"dataframe\">\n",
       "  <thead>\n",
       "    <tr style=\"text-align: right;\">\n",
       "      <th></th>\n",
       "      <th>PC1</th>\n",
       "      <th>PC2</th>\n",
       "      <th>PC3</th>\n",
       "      <th>PC4</th>\n",
       "      <th>PC5</th>\n",
       "      <th>target</th>\n",
       "    </tr>\n",
       "  </thead>\n",
       "  <tbody>\n",
       "    <tr>\n",
       "      <th>0</th>\n",
       "      <td>2.235925</td>\n",
       "      <td>-2.898460</td>\n",
       "      <td>-1.827194</td>\n",
       "      <td>1.299305</td>\n",
       "      <td>-0.030920</td>\n",
       "      <td>NaN</td>\n",
       "    </tr>\n",
       "    <tr>\n",
       "      <th>1</th>\n",
       "      <td>3.259431</td>\n",
       "      <td>-1.554443</td>\n",
       "      <td>0.109708</td>\n",
       "      <td>0.283305</td>\n",
       "      <td>1.643332</td>\n",
       "      <td>NaN</td>\n",
       "    </tr>\n",
       "    <tr>\n",
       "      <th>2</th>\n",
       "      <td>-3.280993</td>\n",
       "      <td>0.226621</td>\n",
       "      <td>-0.141793</td>\n",
       "      <td>0.044684</td>\n",
       "      <td>-0.778416</td>\n",
       "      <td>Generic</td>\n",
       "    </tr>\n",
       "    <tr>\n",
       "      <th>3</th>\n",
       "      <td>-4.616542</td>\n",
       "      <td>-0.250404</td>\n",
       "      <td>0.583627</td>\n",
       "      <td>0.024670</td>\n",
       "      <td>0.568316</td>\n",
       "      <td>Generic</td>\n",
       "    </tr>\n",
       "    <tr>\n",
       "      <th>4</th>\n",
       "      <td>2.804115</td>\n",
       "      <td>0.411126</td>\n",
       "      <td>1.016123</td>\n",
       "      <td>-1.716869</td>\n",
       "      <td>-0.920946</td>\n",
       "      <td>NaN</td>\n",
       "    </tr>\n",
       "    <tr>\n",
       "      <th>...</th>\n",
       "      <td>...</td>\n",
       "      <td>...</td>\n",
       "      <td>...</td>\n",
       "      <td>...</td>\n",
       "      <td>...</td>\n",
       "      <td>...</td>\n",
       "    </tr>\n",
       "    <tr>\n",
       "      <th>449754</th>\n",
       "      <td>2.292280</td>\n",
       "      <td>3.321817</td>\n",
       "      <td>-0.541642</td>\n",
       "      <td>-0.358052</td>\n",
       "      <td>0.167881</td>\n",
       "      <td>NaN</td>\n",
       "    </tr>\n",
       "    <tr>\n",
       "      <th>449755</th>\n",
       "      <td>-0.764960</td>\n",
       "      <td>-2.521995</td>\n",
       "      <td>-1.294946</td>\n",
       "      <td>1.919673</td>\n",
       "      <td>0.642225</td>\n",
       "      <td>Shellcode</td>\n",
       "    </tr>\n",
       "    <tr>\n",
       "      <th>449756</th>\n",
       "      <td>4.457616</td>\n",
       "      <td>-3.215947</td>\n",
       "      <td>0.109311</td>\n",
       "      <td>-0.141811</td>\n",
       "      <td>0.839583</td>\n",
       "      <td>NaN</td>\n",
       "    </tr>\n",
       "    <tr>\n",
       "      <th>449757</th>\n",
       "      <td>-5.060232</td>\n",
       "      <td>-0.361611</td>\n",
       "      <td>0.818277</td>\n",
       "      <td>0.045328</td>\n",
       "      <td>1.095500</td>\n",
       "      <td>NaN</td>\n",
       "    </tr>\n",
       "    <tr>\n",
       "      <th>449758</th>\n",
       "      <td>4.627013</td>\n",
       "      <td>-2.912899</td>\n",
       "      <td>0.162425</td>\n",
       "      <td>-0.221610</td>\n",
       "      <td>1.549895</td>\n",
       "      <td>Generic</td>\n",
       "    </tr>\n",
       "  </tbody>\n",
       "</table>\n",
       "<p>449759 rows × 6 columns</p>\n",
       "</div>"
      ],
      "text/plain": [
       "             PC1       PC2       PC3       PC4       PC5     target\n",
       "0       2.235925 -2.898460 -1.827194  1.299305 -0.030920        NaN\n",
       "1       3.259431 -1.554443  0.109708  0.283305  1.643332        NaN\n",
       "2      -3.280993  0.226621 -0.141793  0.044684 -0.778416    Generic\n",
       "3      -4.616542 -0.250404  0.583627  0.024670  0.568316    Generic\n",
       "4       2.804115  0.411126  1.016123 -1.716869 -0.920946        NaN\n",
       "...          ...       ...       ...       ...       ...        ...\n",
       "449754  2.292280  3.321817 -0.541642 -0.358052  0.167881        NaN\n",
       "449755 -0.764960 -2.521995 -1.294946  1.919673  0.642225  Shellcode\n",
       "449756  4.457616 -3.215947  0.109311 -0.141811  0.839583        NaN\n",
       "449757 -5.060232 -0.361611  0.818277  0.045328  1.095500        NaN\n",
       "449758  4.627013 -2.912899  0.162425 -0.221610  1.549895    Generic\n",
       "\n",
       "[449759 rows x 6 columns]"
      ]
     },
     "execution_count": 62,
     "metadata": {},
     "output_type": "execute_result"
    }
   ],
   "source": [
    "# attack_cat = {\n",
    "#     1:'None',\n",
    "#     2:'Generic',\n",
    "#     2:'Fuzzers',\n",
    "#     3:'Exploits',\n",
    "#     4:'DoS',\n",
    "#     5:'Reconnaissance',\n",
    "#     6:'Backdoor',\n",
    "#     6:'Analysis',\n",
    "#     7:'Shellcode',\n",
    "#     8:'Backdoors',\n",
    "#     9:'Worms'\n",
    "# }\n",
    "\n",
    "attack_cat = {\n",
    "    -1: float(\"NAN\"),\n",
    "    0: 'Generic',\n",
    "    2: 'Fuzzers',\n",
    "    3: 'Booo',\n",
    "    4: 'Boooo',\n",
    "    5: 'Booooo',\n",
    "    6: 'Boooooo',\n",
    "    7: 'Shellcode',\n",
    "    8: 'Boooooooo',\n",
    "    9: 'Booooooooo'\n",
    "}\n",
    "\n",
    "label = {\n",
    "    0: 'None',\n",
    "    1: 'Attack'\n",
    "}\n",
    "\n",
    "pca_df1['target'] = Y_label\n",
    "pca_df1['target'] = pca_df1['target'].map(label)\n",
    "\n",
    "pca_df2['target'] = Y_attack_cat\n",
    "pca_df2['target'] = pca_df2['target'].map(attack_cat)\n",
    "\n",
    "pca_df2"
   ]
  },
  {
   "cell_type": "code",
   "execution_count": 15,
   "id": "4fd0c149",
   "metadata": {},
   "outputs": [
    {
     "data": {
      "text/plain": [
       "array([12.83950607,  4.63923472,  3.93269691,  2.72686743,  2.58909404])"
      ]
     },
     "execution_count": 15,
     "metadata": {},
     "output_type": "execute_result"
    }
   ],
   "source": [
    "pca.explained_variance_"
   ]
  },
  {
   "cell_type": "code",
   "execution_count": 16,
   "id": "0a512dff",
   "metadata": {},
   "outputs": [
    {
     "data": {
      "image/png": "[encoded data removed]",
      "text/plain": [
       "<Figure size 640x480 with 1 Axes>"
      ]
     },
     "metadata": {},
     "output_type": "display_data"
    }
   ],
   "source": [
    "plt.bar(\n",
    "    range(1,len(pca.explained_variance_)+1),\n",
    "    pca.explained_variance_\n",
    ")\n",
    "\n",
    "plt.xlabel('PCA Feature')\n",
    "plt.ylabel('Explained variance')\n",
    "plt.title('Feature Explained Variance')\n",
    "plt.show()\n",
    " "
   ]
  },
  {
   "cell_type": "code",
   "execution_count": 17,
   "id": "3d2f8ad2",
   "metadata": {},
   "outputs": [],
   "source": [
    "X_train, X_test, Y_train, Y_test = train_test_split(X, Y_label, test_size = 0.3, random_state = 0)"
   ]
  },
  {
   "cell_type": "code",
   "execution_count": 18,
   "id": "2d04c620",
   "metadata": {},
   "outputs": [
    {
     "data": {
      "text/plain": [
       "((314831, 47), (134928, 47))"
      ]
     },
     "execution_count": 18,
     "metadata": {},
     "output_type": "execute_result"
    }
   ],
   "source": [
    "X_train.shape, X_test.shape"
   ]
  },
  {
   "cell_type": "code",
   "execution_count": 19,
   "id": "daf172ba",
   "metadata": {},
   "outputs": [],
   "source": [
    "cols = X_train.columns\n",
    "\n",
    "scaler = RobustScaler()\n",
    "\n",
    "X_train = scaler.fit_transform(X_train)\n",
    "\n",
    "X_test = scaler.fit_transform(X_test)"
   ]
  },
  {
   "cell_type": "code",
   "execution_count": 20,
   "id": "3b84dd17",
   "metadata": {},
   "outputs": [],
   "source": [
    "X_train = pd.DataFrame(X_train, columns=[cols])\n",
    "\n",
    "X_test = pd.DataFrame(X_test, columns=[cols])"
   ]
  },
  {
   "cell_type": "code",
   "execution_count": 21,
   "id": "178f190a",
   "metadata": {},
   "outputs": [
    {
     "data": {
      "text/html": [
       "<div>\n",
       "<style scoped>\n",
       "    .dataframe tbody tr th:only-of-type {\n",
       "        vertical-align: middle;\n",
       "    }\n",
       "\n",
       "    .dataframe tbody tr th {\n",
       "        vertical-align: top;\n",
       "    }\n",
       "\n",
       "    .dataframe thead tr th {\n",
       "        text-align: left;\n",
       "    }\n",
       "</style>\n",
       "<table border=\"1\" class=\"dataframe\">\n",
       "  <thead>\n",
       "    <tr>\n",
       "      <th></th>\n",
       "      <th>srcip</th>\n",
       "      <th>sport</th>\n",
       "      <th>dstip</th>\n",
       "      <th>dsport</th>\n",
       "      <th>proto</th>\n",
       "      <th>state</th>\n",
       "      <th>dur</th>\n",
       "      <th>sbytes</th>\n",
       "      <th>dbytes</th>\n",
       "      <th>sttl</th>\n",
       "      <th>...</th>\n",
       "      <th>ct_flw_http_mthd</th>\n",
       "      <th>is_ftp_login</th>\n",
       "      <th>ct_ftp_cmd</th>\n",
       "      <th>ct_srv_src</th>\n",
       "      <th>ct_srv_dst</th>\n",
       "      <th>ct_dst_ltm</th>\n",
       "      <th>ct_src_ ltm</th>\n",
       "      <th>ct_src_dport_ltm</th>\n",
       "      <th>ct_dst_sport_ltm</th>\n",
       "      <th>ct_dst_src_ltm</th>\n",
       "    </tr>\n",
       "  </thead>\n",
       "  <tbody>\n",
       "    <tr>\n",
       "      <th>0</th>\n",
       "      <td>0.625</td>\n",
       "      <td>0.630679</td>\n",
       "      <td>0.222222</td>\n",
       "      <td>0.053892</td>\n",
       "      <td>1.0</td>\n",
       "      <td>0.0</td>\n",
       "      <td>14.662759</td>\n",
       "      <td>3.891753</td>\n",
       "      <td>4.533578</td>\n",
       "      <td>-0.139013</td>\n",
       "      <td>...</td>\n",
       "      <td>0.0</td>\n",
       "      <td>0.0</td>\n",
       "      <td>0.0</td>\n",
       "      <td>-0.095238</td>\n",
       "      <td>-0.142857</td>\n",
       "      <td>-0.214286</td>\n",
       "      <td>-0.071429</td>\n",
       "      <td>-0.066667</td>\n",
       "      <td>0.0</td>\n",
       "      <td>-0.130435</td>\n",
       "    </tr>\n",
       "    <tr>\n",
       "      <th>1</th>\n",
       "      <td>0.500</td>\n",
       "      <td>-0.160078</td>\n",
       "      <td>-1.000000</td>\n",
       "      <td>0.034731</td>\n",
       "      <td>0.0</td>\n",
       "      <td>-1.0</td>\n",
       "      <td>0.047493</td>\n",
       "      <td>0.156701</td>\n",
       "      <td>0.038462</td>\n",
       "      <td>-0.139013</td>\n",
       "      <td>...</td>\n",
       "      <td>0.0</td>\n",
       "      <td>0.0</td>\n",
       "      <td>0.0</td>\n",
       "      <td>-0.047619</td>\n",
       "      <td>-0.095238</td>\n",
       "      <td>0.071429</td>\n",
       "      <td>-0.071429</td>\n",
       "      <td>-0.066667</td>\n",
       "      <td>0.0</td>\n",
       "      <td>-0.043478</td>\n",
       "    </tr>\n",
       "    <tr>\n",
       "      <th>2</th>\n",
       "      <td>0.375</td>\n",
       "      <td>0.403699</td>\n",
       "      <td>0.555556</td>\n",
       "      <td>0.000000</td>\n",
       "      <td>0.0</td>\n",
       "      <td>-1.0</td>\n",
       "      <td>-0.000562</td>\n",
       "      <td>-0.060825</td>\n",
       "      <td>0.000000</td>\n",
       "      <td>-0.139013</td>\n",
       "      <td>...</td>\n",
       "      <td>0.0</td>\n",
       "      <td>0.0</td>\n",
       "      <td>0.0</td>\n",
       "      <td>-0.142857</td>\n",
       "      <td>-0.142857</td>\n",
       "      <td>-0.071429</td>\n",
       "      <td>-0.214286</td>\n",
       "      <td>-0.066667</td>\n",
       "      <td>0.0</td>\n",
       "      <td>0.000000</td>\n",
       "    </tr>\n",
       "    <tr>\n",
       "      <th>3</th>\n",
       "      <td>0.500</td>\n",
       "      <td>0.099125</td>\n",
       "      <td>1.000000</td>\n",
       "      <td>0.000000</td>\n",
       "      <td>0.0</td>\n",
       "      <td>-1.0</td>\n",
       "      <td>0.000460</td>\n",
       "      <td>-0.060825</td>\n",
       "      <td>0.000000</td>\n",
       "      <td>-0.139013</td>\n",
       "      <td>...</td>\n",
       "      <td>0.0</td>\n",
       "      <td>0.0</td>\n",
       "      <td>0.0</td>\n",
       "      <td>-0.190476</td>\n",
       "      <td>-0.190476</td>\n",
       "      <td>-0.142857</td>\n",
       "      <td>-0.285714</td>\n",
       "      <td>-0.066667</td>\n",
       "      <td>0.0</td>\n",
       "      <td>-0.130435</td>\n",
       "    </tr>\n",
       "    <tr>\n",
       "      <th>4</th>\n",
       "      <td>-0.125</td>\n",
       "      <td>-0.506983</td>\n",
       "      <td>-0.888889</td>\n",
       "      <td>0.016168</td>\n",
       "      <td>1.0</td>\n",
       "      <td>0.0</td>\n",
       "      <td>9.331671</td>\n",
       "      <td>35.015979</td>\n",
       "      <td>0.132479</td>\n",
       "      <td>0.860987</td>\n",
       "      <td>...</td>\n",
       "      <td>1.0</td>\n",
       "      <td>0.0</td>\n",
       "      <td>0.0</td>\n",
       "      <td>-0.190476</td>\n",
       "      <td>-0.190476</td>\n",
       "      <td>-0.214286</td>\n",
       "      <td>-0.285714</td>\n",
       "      <td>-0.066667</td>\n",
       "      <td>0.0</td>\n",
       "      <td>0.000000</td>\n",
       "    </tr>\n",
       "  </tbody>\n",
       "</table>\n",
       "<p>5 rows × 47 columns</p>\n",
       "</div>"
      ],
      "text/plain": [
       "   srcip     sport     dstip    dsport proto state        dur     sbytes  \\\n",
       "0  0.625  0.630679  0.222222  0.053892   1.0   0.0  14.662759   3.891753   \n",
       "1  0.500 -0.160078 -1.000000  0.034731   0.0  -1.0   0.047493   0.156701   \n",
       "2  0.375  0.403699  0.555556  0.000000   0.0  -1.0  -0.000562  -0.060825   \n",
       "3  0.500  0.099125  1.000000  0.000000   0.0  -1.0   0.000460  -0.060825   \n",
       "4 -0.125 -0.506983 -0.888889  0.016168   1.0   0.0   9.331671  35.015979   \n",
       "\n",
       "     dbytes      sttl  ... ct_flw_http_mthd is_ftp_login ct_ftp_cmd  \\\n",
       "0  4.533578 -0.139013  ...              0.0          0.0        0.0   \n",
       "1  0.038462 -0.139013  ...              0.0          0.0        0.0   \n",
       "2  0.000000 -0.139013  ...              0.0          0.0        0.0   \n",
       "3  0.000000 -0.139013  ...              0.0          0.0        0.0   \n",
       "4  0.132479  0.860987  ...              1.0          0.0        0.0   \n",
       "\n",
       "  ct_srv_src ct_srv_dst ct_dst_ltm ct_src_ ltm ct_src_dport_ltm  \\\n",
       "0  -0.095238  -0.142857  -0.214286   -0.071429        -0.066667   \n",
       "1  -0.047619  -0.095238   0.071429   -0.071429        -0.066667   \n",
       "2  -0.142857  -0.142857  -0.071429   -0.214286        -0.066667   \n",
       "3  -0.190476  -0.190476  -0.142857   -0.285714        -0.066667   \n",
       "4  -0.190476  -0.190476  -0.214286   -0.285714        -0.066667   \n",
       "\n",
       "  ct_dst_sport_ltm ct_dst_src_ltm  \n",
       "0              0.0      -0.130435  \n",
       "1              0.0      -0.043478  \n",
       "2              0.0       0.000000  \n",
       "3              0.0      -0.130435  \n",
       "4              0.0       0.000000  \n",
       "\n",
       "[5 rows x 47 columns]"
      ]
     },
     "execution_count": 21,
     "metadata": {},
     "output_type": "execute_result"
    }
   ],
   "source": [
    "X_train.head()"
   ]
  },
  {
   "cell_type": "code",
   "execution_count": 22,
   "id": "024b1bdb",
   "metadata": {},
   "outputs": [
    {
     "data": {
      "text/html": [
       "<style>#sk-container-id-1 {color: black;background-color: white;}#sk-container-id-1 pre{padding: 0;}#sk-container-id-1 div.sk-toggleable {background-color: white;}#sk-container-id-1 label.sk-toggleable__label {cursor: pointer;display: block;width: 100%;margin-bottom: 0;padding: 0.3em;box-sizing: border-box;text-align: center;}#sk-container-id-1 label.sk-toggleable__label-arrow:before {content: \"▸\";float: left;margin-right: 0.25em;color: #696969;}#sk-container-id-1 label.sk-toggleable__label-arrow:hover:before {color: black;}#sk-container-id-1 div.sk-estimator:hover label.sk-toggleable__label-arrow:before {color: black;}#sk-container-id-1 div.sk-toggleable__content {max-height: 0;max-width: 0;overflow: hidden;text-align: left;background-color: #f0f8ff;}#sk-container-id-1 div.sk-toggleable__content pre {margin: 0.2em;color: black;border-radius: 0.25em;background-color: #f0f8ff;}#sk-container-id-1 input.sk-toggleable__control:checked~div.sk-toggleable__content {max-height: 200px;max-width: 100%;overflow: auto;}#sk-container-id-1 input.sk-toggleable__control:checked~label.sk-toggleable__label-arrow:before {content: \"▾\";}#sk-container-id-1 div.sk-estimator input.sk-toggleable__control:checked~label.sk-toggleable__label {background-color: #d4ebff;}#sk-container-id-1 div.sk-label input.sk-toggleable__control:checked~label.sk-toggleable__label {background-color: #d4ebff;}#sk-container-id-1 input.sk-hidden--visually {border: 0;clip: rect(1px 1px 1px 1px);clip: rect(1px, 1px, 1px, 1px);height: 1px;margin: -1px;overflow: hidden;padding: 0;position: absolute;width: 1px;}#sk-container-id-1 div.sk-estimator {font-family: monospace;background-color: #f0f8ff;border: 1px dotted black;border-radius: 0.25em;box-sizing: border-box;margin-bottom: 0.5em;}#sk-container-id-1 div.sk-estimator:hover {background-color: #d4ebff;}#sk-container-id-1 div.sk-parallel-item::after {content: \"\";width: 100%;border-bottom: 1px solid gray;flex-grow: 1;}#sk-container-id-1 div.sk-label:hover label.sk-toggleable__label {background-color: #d4ebff;}#sk-container-id-1 div.sk-serial::before {content: \"\";position: absolute;border-left: 1px solid gray;box-sizing: border-box;top: 0;bottom: 0;left: 50%;z-index: 0;}#sk-container-id-1 div.sk-serial {display: flex;flex-direction: column;align-items: center;background-color: white;padding-right: 0.2em;padding-left: 0.2em;position: relative;}#sk-container-id-1 div.sk-item {position: relative;z-index: 1;}#sk-container-id-1 div.sk-parallel {display: flex;align-items: stretch;justify-content: center;background-color: white;position: relative;}#sk-container-id-1 div.sk-item::before, #sk-container-id-1 div.sk-parallel-item::before {content: \"\";position: absolute;border-left: 1px solid gray;box-sizing: border-box;top: 0;bottom: 0;left: 50%;z-index: -1;}#sk-container-id-1 div.sk-parallel-item {display: flex;flex-direction: column;z-index: 1;position: relative;background-color: white;}#sk-container-id-1 div.sk-parallel-item:first-child::after {align-self: flex-end;width: 50%;}#sk-container-id-1 div.sk-parallel-item:last-child::after {align-self: flex-start;width: 50%;}#sk-container-id-1 div.sk-parallel-item:only-child::after {width: 0;}#sk-container-id-1 div.sk-dashed-wrapped {border: 1px dashed gray;margin: 0 0.4em 0.5em 0.4em;box-sizing: border-box;padding-bottom: 0.4em;background-color: white;}#sk-container-id-1 div.sk-label label {font-family: monospace;font-weight: bold;display: inline-block;line-height: 1.2em;}#sk-container-id-1 div.sk-label-container {text-align: center;}#sk-container-id-1 div.sk-container {/* jupyter's `normalize.less` sets `[hidden] { display: none; }` but bootstrap.min.css set `[hidden] { display: none !important; }` so we also need the `!important` here to be able to override the default hidden behavior on the sphinx rendered scikit-learn.org. See: https://github.com/scikit-learn/scikit-learn/issues/21755 */display: inline-block !important;position: relative;}#sk-container-id-1 div.sk-text-repr-fallback {display: none;}</style><div id=\"sk-container-id-1\" class=\"sk-top-container\"><div class=\"sk-text-repr-fallback\"><pre>GaussianNB()</pre><b>In a Jupyter environment, please rerun this cell to show the HTML representation or trust the notebook. <br />On GitHub, the HTML representation is unable to render, please try loading this page with nbviewer.org.</b></div><div class=\"sk-container\" hidden><div class=\"sk-item\"><div class=\"sk-estimator sk-toggleable\"><input class=\"sk-toggleable__control sk-hidden--visually\" id=\"sk-estimator-id-1\" type=\"checkbox\" checked><label for=\"sk-estimator-id-1\" class=\"sk-toggleable__label sk-toggleable__label-arrow\">GaussianNB</label><div class=\"sk-toggleable__content\"><pre>GaussianNB()</pre></div></div></div></div></div>"
      ],
      "text/plain": [
       "GaussianNB()"
      ]
     },
     "execution_count": 22,
     "metadata": {},
     "output_type": "execute_result"
    }
   ],
   "source": [
    "gnb = GaussianNB()\n",
    "\n",
    "gnb.fit(X_train, Y_train)"
   ]
  },
  {
   "cell_type": "code",
   "execution_count": 23,
   "id": "2d0459ad",
   "metadata": {},
   "outputs": [
    {
     "data": {
      "text/plain": [
       "array([0, 1, 0, ..., 0, 0, 1])"
      ]
     },
     "execution_count": 23,
     "metadata": {},
     "output_type": "execute_result"
    }
   ],
   "source": [
    "Y_pred = gnb.predict(X_test)\n",
    "\n",
    "Y_pred"
   ]
  },
  {
   "cell_type": "code",
   "execution_count": 24,
   "id": "863985d0",
   "metadata": {},
   "outputs": [
    {
     "name": "stdout",
     "output_type": "stream",
     "text": [
      "Model accuracy score:  0.9087\n"
     ]
    }
   ],
   "source": [
    "print('Model accuracy score:  {0:0.4f}'. format(accuracy_score(Y_test, Y_pred)))"
   ]
  },
  {
   "cell_type": "code",
   "execution_count": 25,
   "id": "ca8d94cd",
   "metadata": {},
   "outputs": [
    {
     "data": {
      "text/plain": [
       "array([0, 0, 0, ..., 0, 0, 0])"
      ]
     },
     "execution_count": 25,
     "metadata": {},
     "output_type": "execute_result"
    }
   ],
   "source": [
    "Y_pred_train = gnb.predict(X_train)\n",
    "\n",
    "Y_pred_train"
   ]
  },
  {
   "cell_type": "code",
   "execution_count": 26,
   "id": "beee3bd2",
   "metadata": {},
   "outputs": [
    {
     "name": "stdout",
     "output_type": "stream",
     "text": [
      "              precision    recall  f1-score   support\n",
      "\n",
      "           0       0.97      0.84      0.90     67745\n",
      "           1       0.86      0.97      0.91     67183\n",
      "\n",
      "    accuracy                           0.91    134928\n",
      "   macro avg       0.92      0.91      0.91    134928\n",
      "weighted avg       0.92      0.91      0.91    134928\n",
      "\n"
     ]
    }
   ],
   "source": [
    "print(classification_report(Y_test, Y_pred))"
   ]
  },
  {
   "cell_type": "code",
   "execution_count": 27,
   "id": "106c099d",
   "metadata": {},
   "outputs": [],
   "source": [
    "X_train2, X_test2, Y_train2, Y_test2 = train_test_split(X, Y_attack_cat, test_size = 0.3, random_state = 0)"
   ]
  },
  {
   "cell_type": "code",
   "execution_count": 28,
   "id": "a618a6ac",
   "metadata": {},
   "outputs": [
    {
     "data": {
      "text/plain": [
       "((314831, 47), (134928, 47))"
      ]
     },
     "execution_count": 28,
     "metadata": {},
     "output_type": "execute_result"
    }
   ],
   "source": [
    "X_train2.shape, X_test2.shape"
   ]
  },
  {
   "cell_type": "code",
   "execution_count": 29,
   "id": "a3d440ba",
   "metadata": {},
   "outputs": [],
   "source": [
    "cols2 = X_train2.columns\n",
    "\n",
    "scaler2 = RobustScaler()\n",
    "\n",
    "X_train2 = scaler2.fit_transform(X_train2)\n",
    "\n",
    "X_test2 = scaler2.fit_transform(X_test2)"
   ]
  },
  {
   "cell_type": "code",
   "execution_count": 30,
   "id": "8770b573",
   "metadata": {},
   "outputs": [],
   "source": [
    "X_train2 = pd.DataFrame(X_train2, columns=[cols])\n",
    "\n",
    "X_test2 = pd.DataFrame(X_test2, columns=[cols])"
   ]
  },
  {
   "cell_type": "code",
   "execution_count": 31,
   "id": "1623178a",
   "metadata": {},
   "outputs": [
    {
     "data": {
      "text/html": [
       "<div>\n",
       "<style scoped>\n",
       "    .dataframe tbody tr th:only-of-type {\n",
       "        vertical-align: middle;\n",
       "    }\n",
       "\n",
       "    .dataframe tbody tr th {\n",
       "        vertical-align: top;\n",
       "    }\n",
       "\n",
       "    .dataframe thead tr th {\n",
       "        text-align: left;\n",
       "    }\n",
       "</style>\n",
       "<table border=\"1\" class=\"dataframe\">\n",
       "  <thead>\n",
       "    <tr>\n",
       "      <th></th>\n",
       "      <th>srcip</th>\n",
       "      <th>sport</th>\n",
       "      <th>dstip</th>\n",
       "      <th>dsport</th>\n",
       "      <th>proto</th>\n",
       "      <th>state</th>\n",
       "      <th>dur</th>\n",
       "      <th>sbytes</th>\n",
       "      <th>dbytes</th>\n",
       "      <th>sttl</th>\n",
       "      <th>...</th>\n",
       "      <th>ct_flw_http_mthd</th>\n",
       "      <th>is_ftp_login</th>\n",
       "      <th>ct_ftp_cmd</th>\n",
       "      <th>ct_srv_src</th>\n",
       "      <th>ct_srv_dst</th>\n",
       "      <th>ct_dst_ltm</th>\n",
       "      <th>ct_src_ ltm</th>\n",
       "      <th>ct_src_dport_ltm</th>\n",
       "      <th>ct_dst_sport_ltm</th>\n",
       "      <th>ct_dst_src_ltm</th>\n",
       "    </tr>\n",
       "  </thead>\n",
       "  <tbody>\n",
       "    <tr>\n",
       "      <th>0</th>\n",
       "      <td>0.625</td>\n",
       "      <td>0.630679</td>\n",
       "      <td>0.222222</td>\n",
       "      <td>0.053892</td>\n",
       "      <td>1.0</td>\n",
       "      <td>0.0</td>\n",
       "      <td>14.662759</td>\n",
       "      <td>3.891753</td>\n",
       "      <td>4.533578</td>\n",
       "      <td>-0.139013</td>\n",
       "      <td>...</td>\n",
       "      <td>0.0</td>\n",
       "      <td>0.0</td>\n",
       "      <td>0.0</td>\n",
       "      <td>-0.095238</td>\n",
       "      <td>-0.142857</td>\n",
       "      <td>-0.214286</td>\n",
       "      <td>-0.071429</td>\n",
       "      <td>-0.066667</td>\n",
       "      <td>0.0</td>\n",
       "      <td>-0.130435</td>\n",
       "    </tr>\n",
       "    <tr>\n",
       "      <th>1</th>\n",
       "      <td>0.500</td>\n",
       "      <td>-0.160078</td>\n",
       "      <td>-1.000000</td>\n",
       "      <td>0.034731</td>\n",
       "      <td>0.0</td>\n",
       "      <td>-1.0</td>\n",
       "      <td>0.047493</td>\n",
       "      <td>0.156701</td>\n",
       "      <td>0.038462</td>\n",
       "      <td>-0.139013</td>\n",
       "      <td>...</td>\n",
       "      <td>0.0</td>\n",
       "      <td>0.0</td>\n",
       "      <td>0.0</td>\n",
       "      <td>-0.047619</td>\n",
       "      <td>-0.095238</td>\n",
       "      <td>0.071429</td>\n",
       "      <td>-0.071429</td>\n",
       "      <td>-0.066667</td>\n",
       "      <td>0.0</td>\n",
       "      <td>-0.043478</td>\n",
       "    </tr>\n",
       "    <tr>\n",
       "      <th>2</th>\n",
       "      <td>0.375</td>\n",
       "      <td>0.403699</td>\n",
       "      <td>0.555556</td>\n",
       "      <td>0.000000</td>\n",
       "      <td>0.0</td>\n",
       "      <td>-1.0</td>\n",
       "      <td>-0.000562</td>\n",
       "      <td>-0.060825</td>\n",
       "      <td>0.000000</td>\n",
       "      <td>-0.139013</td>\n",
       "      <td>...</td>\n",
       "      <td>0.0</td>\n",
       "      <td>0.0</td>\n",
       "      <td>0.0</td>\n",
       "      <td>-0.142857</td>\n",
       "      <td>-0.142857</td>\n",
       "      <td>-0.071429</td>\n",
       "      <td>-0.214286</td>\n",
       "      <td>-0.066667</td>\n",
       "      <td>0.0</td>\n",
       "      <td>0.000000</td>\n",
       "    </tr>\n",
       "    <tr>\n",
       "      <th>3</th>\n",
       "      <td>0.500</td>\n",
       "      <td>0.099125</td>\n",
       "      <td>1.000000</td>\n",
       "      <td>0.000000</td>\n",
       "      <td>0.0</td>\n",
       "      <td>-1.0</td>\n",
       "      <td>0.000460</td>\n",
       "      <td>-0.060825</td>\n",
       "      <td>0.000000</td>\n",
       "      <td>-0.139013</td>\n",
       "      <td>...</td>\n",
       "      <td>0.0</td>\n",
       "      <td>0.0</td>\n",
       "      <td>0.0</td>\n",
       "      <td>-0.190476</td>\n",
       "      <td>-0.190476</td>\n",
       "      <td>-0.142857</td>\n",
       "      <td>-0.285714</td>\n",
       "      <td>-0.066667</td>\n",
       "      <td>0.0</td>\n",
       "      <td>-0.130435</td>\n",
       "    </tr>\n",
       "    <tr>\n",
       "      <th>4</th>\n",
       "      <td>-0.125</td>\n",
       "      <td>-0.506983</td>\n",
       "      <td>-0.888889</td>\n",
       "      <td>0.016168</td>\n",
       "      <td>1.0</td>\n",
       "      <td>0.0</td>\n",
       "      <td>9.331671</td>\n",
       "      <td>35.015979</td>\n",
       "      <td>0.132479</td>\n",
       "      <td>0.860987</td>\n",
       "      <td>...</td>\n",
       "      <td>1.0</td>\n",
       "      <td>0.0</td>\n",
       "      <td>0.0</td>\n",
       "      <td>-0.190476</td>\n",
       "      <td>-0.190476</td>\n",
       "      <td>-0.214286</td>\n",
       "      <td>-0.285714</td>\n",
       "      <td>-0.066667</td>\n",
       "      <td>0.0</td>\n",
       "      <td>0.000000</td>\n",
       "    </tr>\n",
       "  </tbody>\n",
       "</table>\n",
       "<p>5 rows × 47 columns</p>\n",
       "</div>"
      ],
      "text/plain": [
       "   srcip     sport     dstip    dsport proto state        dur     sbytes  \\\n",
       "0  0.625  0.630679  0.222222  0.053892   1.0   0.0  14.662759   3.891753   \n",
       "1  0.500 -0.160078 -1.000000  0.034731   0.0  -1.0   0.047493   0.156701   \n",
       "2  0.375  0.403699  0.555556  0.000000   0.0  -1.0  -0.000562  -0.060825   \n",
       "3  0.500  0.099125  1.000000  0.000000   0.0  -1.0   0.000460  -0.060825   \n",
       "4 -0.125 -0.506983 -0.888889  0.016168   1.0   0.0   9.331671  35.015979   \n",
       "\n",
       "     dbytes      sttl  ... ct_flw_http_mthd is_ftp_login ct_ftp_cmd  \\\n",
       "0  4.533578 -0.139013  ...              0.0          0.0        0.0   \n",
       "1  0.038462 -0.139013  ...              0.0          0.0        0.0   \n",
       "2  0.000000 -0.139013  ...              0.0          0.0        0.0   \n",
       "3  0.000000 -0.139013  ...              0.0          0.0        0.0   \n",
       "4  0.132479  0.860987  ...              1.0          0.0        0.0   \n",
       "\n",
       "  ct_srv_src ct_srv_dst ct_dst_ltm ct_src_ ltm ct_src_dport_ltm  \\\n",
       "0  -0.095238  -0.142857  -0.214286   -0.071429        -0.066667   \n",
       "1  -0.047619  -0.095238   0.071429   -0.071429        -0.066667   \n",
       "2  -0.142857  -0.142857  -0.071429   -0.214286        -0.066667   \n",
       "3  -0.190476  -0.190476  -0.142857   -0.285714        -0.066667   \n",
       "4  -0.190476  -0.190476  -0.214286   -0.285714        -0.066667   \n",
       "\n",
       "  ct_dst_sport_ltm ct_dst_src_ltm  \n",
       "0              0.0      -0.130435  \n",
       "1              0.0      -0.043478  \n",
       "2              0.0       0.000000  \n",
       "3              0.0      -0.130435  \n",
       "4              0.0       0.000000  \n",
       "\n",
       "[5 rows x 47 columns]"
      ]
     },
     "execution_count": 31,
     "metadata": {},
     "output_type": "execute_result"
    }
   ],
   "source": [
    "X_train2.head()"
   ]
  },
  {
   "cell_type": "code",
   "execution_count": 32,
   "id": "1d857c8e",
   "metadata": {},
   "outputs": [
    {
     "data": {
      "text/html": [
       "<style>#sk-container-id-2 {color: black;background-color: white;}#sk-container-id-2 pre{padding: 0;}#sk-container-id-2 div.sk-toggleable {background-color: white;}#sk-container-id-2 label.sk-toggleable__label {cursor: pointer;display: block;width: 100%;margin-bottom: 0;padding: 0.3em;box-sizing: border-box;text-align: center;}#sk-container-id-2 label.sk-toggleable__label-arrow:before {content: \"▸\";float: left;margin-right: 0.25em;color: #696969;}#sk-container-id-2 label.sk-toggleable__label-arrow:hover:before {color: black;}#sk-container-id-2 div.sk-estimator:hover label.sk-toggleable__label-arrow:before {color: black;}#sk-container-id-2 div.sk-toggleable__content {max-height: 0;max-width: 0;overflow: hidden;text-align: left;background-color: #f0f8ff;}#sk-container-id-2 div.sk-toggleable__content pre {margin: 0.2em;color: black;border-radius: 0.25em;background-color: #f0f8ff;}#sk-container-id-2 input.sk-toggleable__control:checked~div.sk-toggleable__content {max-height: 200px;max-width: 100%;overflow: auto;}#sk-container-id-2 input.sk-toggleable__control:checked~label.sk-toggleable__label-arrow:before {content: \"▾\";}#sk-container-id-2 div.sk-estimator input.sk-toggleable__control:checked~label.sk-toggleable__label {background-color: #d4ebff;}#sk-container-id-2 div.sk-label input.sk-toggleable__control:checked~label.sk-toggleable__label {background-color: #d4ebff;}#sk-container-id-2 input.sk-hidden--visually {border: 0;clip: rect(1px 1px 1px 1px);clip: rect(1px, 1px, 1px, 1px);height: 1px;margin: -1px;overflow: hidden;padding: 0;position: absolute;width: 1px;}#sk-container-id-2 div.sk-estimator {font-family: monospace;background-color: #f0f8ff;border: 1px dotted black;border-radius: 0.25em;box-sizing: border-box;margin-bottom: 0.5em;}#sk-container-id-2 div.sk-estimator:hover {background-color: #d4ebff;}#sk-container-id-2 div.sk-parallel-item::after {content: \"\";width: 100%;border-bottom: 1px solid gray;flex-grow: 1;}#sk-container-id-2 div.sk-label:hover label.sk-toggleable__label {background-color: #d4ebff;}#sk-container-id-2 div.sk-serial::before {content: \"\";position: absolute;border-left: 1px solid gray;box-sizing: border-box;top: 0;bottom: 0;left: 50%;z-index: 0;}#sk-container-id-2 div.sk-serial {display: flex;flex-direction: column;align-items: center;background-color: white;padding-right: 0.2em;padding-left: 0.2em;position: relative;}#sk-container-id-2 div.sk-item {position: relative;z-index: 1;}#sk-container-id-2 div.sk-parallel {display: flex;align-items: stretch;justify-content: center;background-color: white;position: relative;}#sk-container-id-2 div.sk-item::before, #sk-container-id-2 div.sk-parallel-item::before {content: \"\";position: absolute;border-left: 1px solid gray;box-sizing: border-box;top: 0;bottom: 0;left: 50%;z-index: -1;}#sk-container-id-2 div.sk-parallel-item {display: flex;flex-direction: column;z-index: 1;position: relative;background-color: white;}#sk-container-id-2 div.sk-parallel-item:first-child::after {align-self: flex-end;width: 50%;}#sk-container-id-2 div.sk-parallel-item:last-child::after {align-self: flex-start;width: 50%;}#sk-container-id-2 div.sk-parallel-item:only-child::after {width: 0;}#sk-container-id-2 div.sk-dashed-wrapped {border: 1px dashed gray;margin: 0 0.4em 0.5em 0.4em;box-sizing: border-box;padding-bottom: 0.4em;background-color: white;}#sk-container-id-2 div.sk-label label {font-family: monospace;font-weight: bold;display: inline-block;line-height: 1.2em;}#sk-container-id-2 div.sk-label-container {text-align: center;}#sk-container-id-2 div.sk-container {/* jupyter's `normalize.less` sets `[hidden] { display: none; }` but bootstrap.min.css set `[hidden] { display: none !important; }` so we also need the `!important` here to be able to override the default hidden behavior on the sphinx rendered scikit-learn.org. See: https://github.com/scikit-learn/scikit-learn/issues/21755 */display: inline-block !important;position: relative;}#sk-container-id-2 div.sk-text-repr-fallback {display: none;}</style><div id=\"sk-container-id-2\" class=\"sk-top-container\"><div class=\"sk-text-repr-fallback\"><pre>GaussianNB()</pre><b>In a Jupyter environment, please rerun this cell to show the HTML representation or trust the notebook. <br />On GitHub, the HTML representation is unable to render, please try loading this page with nbviewer.org.</b></div><div class=\"sk-container\" hidden><div class=\"sk-item\"><div class=\"sk-estimator sk-toggleable\"><input class=\"sk-toggleable__control sk-hidden--visually\" id=\"sk-estimator-id-2\" type=\"checkbox\" checked><label for=\"sk-estimator-id-2\" class=\"sk-toggleable__label sk-toggleable__label-arrow\">GaussianNB</label><div class=\"sk-toggleable__content\"><pre>GaussianNB()</pre></div></div></div></div></div>"
      ],
      "text/plain": [
       "GaussianNB()"
      ]
     },
     "execution_count": 32,
     "metadata": {},
     "output_type": "execute_result"
    }
   ],
   "source": [
    "gnb = GaussianNB()\n",
    "\n",
    "gnb.fit(X_train2, Y_train2)"
   ]
  },
  {
   "cell_type": "code",
   "execution_count": 33,
   "id": "d61b8d88",
   "metadata": {},
   "outputs": [
    {
     "data": {
      "text/plain": [
       "array([ 8, 11, -1, ..., -1, 11, 11])"
      ]
     },
     "execution_count": 33,
     "metadata": {},
     "output_type": "execute_result"
    }
   ],
   "source": [
    "Y_pred2 = gnb.predict(X_test2)\n",
    "\n",
    "Y_pred2"
   ]
  },
  {
   "cell_type": "code",
   "execution_count": 34,
   "id": "dddacf74",
   "metadata": {},
   "outputs": [
    {
     "name": "stdout",
     "output_type": "stream",
     "text": [
      "Model accuracy score:  0.3235\n"
     ]
    }
   ],
   "source": [
    "print('Model accuracy score:  {0:0.4f}'. format(accuracy_score(Y_test2, Y_pred2)))"
   ]
  },
  {
   "cell_type": "code",
   "execution_count": 35,
   "id": "b9727229",
   "metadata": {},
   "outputs": [
    {
     "name": "stdout",
     "output_type": "stream",
     "text": [
      "              precision    recall  f1-score   support\n",
      "\n",
      "          -1       1.00      0.31      0.48     67745\n",
      "           0       0.77      0.46      0.58     44890\n",
      "           1       0.04      0.12      0.05      1008\n",
      "           2       0.74      0.06      0.11      9417\n",
      "           3       0.02      0.01      0.01      3473\n",
      "           4       0.15      0.08      0.11      4029\n",
      "           5       0.00      0.00      0.00      2603\n",
      "           6       0.04      0.04      0.04       385\n",
      "           7       0.02      0.61      0.04       350\n",
      "           8       0.01      0.01      0.01       547\n",
      "           9       0.01      0.78      0.02        54\n",
      "          10       0.03      0.91      0.05       280\n",
      "          11       0.00      0.90      0.00       115\n",
      "          12       0.01      0.22      0.01        32\n",
      "\n",
      "    accuracy                           0.32    134928\n",
      "   macro avg       0.20      0.32      0.11    134928\n",
      "weighted avg       0.81      0.32      0.44    134928\n",
      "\n"
     ]
    }
   ],
   "source": [
    "print(classification_report(Y_test2, Y_pred2))"
   ]
  },
  {
   "cell_type": "code",
   "execution_count": null,
   "id": "ce8af6d2",
   "metadata": {},
   "outputs": [],
   "source": []
  },
  {
   "cell_type": "code",
   "execution_count": null,
   "id": "3f822206",
   "metadata": {},
   "outputs": [],
   "source": []
  }
 ],
 "metadata": {
  "kernelspec": {
   "display_name": "Python 3 (ipykernel)",
   "language": "python",
   "name": "python3"
  },
  "language_info": {
   "codemirror_mode": {
    "name": "ipython",
    "version": 3
   },
   "file_extension": ".py",
   "mimetype": "text/x-python",
   "name": "python",
   "nbconvert_exporter": "python",
   "pygments_lexer": "ipython3",
   "version": "3.11.1"
  }
 },
 "nbformat": 4,
 "nbformat_minor": 5
}
