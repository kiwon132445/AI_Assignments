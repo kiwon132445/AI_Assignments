{
 "cells": [
  {
   "cell_type": "code",
   "execution_count": 1,
   "id": "c6bdc1da",
   "metadata": {},
   "outputs": [],
   "source": [
    "from NIDS import *"
   ]
  },
  {
   "cell_type": "code",
   "execution_count": 2,
   "id": "e871ddc7",
   "metadata": {},
   "outputs": [
    {
     "name": "stdout",
     "output_type": "stream",
     "text": [
      "Gaussian Naive Bayes Running...\n",
      "Classification Report\n",
      "\n",
      "              precision    recall  f1-score   support\n",
      "\n",
      "           0       0.97      0.99      0.98     66354\n",
      "           1       0.99      0.97      0.98     68574\n",
      "\n",
      "    accuracy                           0.98    134928\n",
      "   macro avg       0.98      0.98      0.98    134928\n",
      "weighted avg       0.98      0.98      0.98    134928\n",
      "\n"
     ]
    }
   ],
   "source": [
    "nids = NIDS_Manager(\"UNSW-NB15-BALANCED-TRAIN.csv\", \"GNB\", \"label\")"
   ]
  },
  {
   "cell_type": "code",
   "execution_count": null,
   "id": "38e5b924",
   "metadata": {},
   "outputs": [],
   "source": [
    "nids = NIDS_Manager(\"UNSW-NB15-BALANCED-TRAIN.csv\", \"GNB\", \"attack_cat\")"
   ]
  },
  {
   "cell_type": "code",
   "execution_count": null,
   "id": "121e2f09",
   "metadata": {},
   "outputs": [],
   "source": [
    "nids = NIDS_Manager(\"UNSW-NB15-BALANCED-TRAIN.csv\", \"DTC\", \"attack_cat\")"
   ]
  },
  {
   "cell_type": "code",
   "execution_count": 4,
   "id": "a5848ec3",
   "metadata": {},
   "outputs": [
    {
     "name": "stdout",
     "output_type": "stream",
     "text": [
      "K Neighbors Classifier Running...\n",
      "Classification Report\n",
      "\n",
      "                precision    recall  f1-score   support\n",
      "\n",
      "                     0.99      0.99      0.99     67129\n",
      "       Generic       0.98      0.99      0.99     45058\n",
      "       Fuzzers       0.80      0.75      0.77      5488\n",
      "      Exploits       0.77      0.62      0.69     11514\n",
      "           DoS       0.24      0.32      0.28      2625\n",
      "Reconnaissance       0.75      0.85      0.80      2601\n",
      "      Backdoor       0.04      0.23      0.06        61\n",
      "      Analysis       0.12      0.45      0.19       153\n",
      "     Shellcode       0.43      0.56      0.48       249\n",
      "     Backdoors       0.00      0.00      0.00        26\n",
      "         Worms       0.27      0.50      0.35        24\n",
      "\n",
      "      accuracy                           0.93    134928\n",
      "     macro avg       0.49      0.57      0.51    134928\n",
      "  weighted avg       0.94      0.93      0.94    134928\n",
      "\n"
     ]
    }
   ],
   "source": [
    "nids = NIDS_Manager(\"UNSW-NB15-BALANCED-TRAIN.csv\", \"KN\", \"attack_cat\")"
   ]
  },
  {
   "cell_type": "code",
   "execution_count": 5,
   "id": "2263f4bc",
   "metadata": {},
   "outputs": [
    {
     "name": "stdout",
     "output_type": "stream",
     "text": [
      "AdaBoost Classification Running...\n",
      "Classification Report\n",
      "\n",
      "                precision    recall  f1-score   support\n",
      "\n",
      "                     0.78      1.00      0.88     52629\n",
      "       Generic       0.97      1.00      0.99     44158\n",
      "       Fuzzers       0.83      0.45      0.59      9156\n",
      "      Exploits       0.46      0.46      0.46      9319\n",
      "           DoS       0.00      0.00      0.00         0\n",
      "Reconnaissance       0.15      0.21      0.17      2168\n",
      "      Backdoor       0.00      0.00      0.00         0\n",
      "      Analysis       0.19      0.01      0.01     17498\n",
      "     Shellcode       0.00      0.00      0.00         0\n",
      "     Backdoors       0.00      0.00      0.00         0\n",
      "         Worms       0.00      0.00      0.00         0\n",
      "\n",
      "      accuracy                           0.78    134928\n",
      "     macro avg       0.31      0.28      0.28    134928\n",
      "  weighted avg       0.74      0.78      0.74    134928\n",
      "\n"
     ]
    }
   ],
   "source": [
    "nids = NIDS_Manager(\"UNSW-NB15-BALANCED-TRAIN.csv\", \"ADA\", \"attack_cat\")"
   ]
  },
  {
   "cell_type": "code",
   "execution_count": 6,
   "id": "2b86c945",
   "metadata": {},
   "outputs": [
    {
     "name": "stdout",
     "output_type": "stream",
     "text": [
      "Linear Support Vector Classification Running...\n",
      "Classification Report\n",
      "\n",
      "                precision    recall  f1-score   support\n",
      "\n",
      "                     0.98      1.00      0.99     66864\n",
      "       Generic       0.97      0.97      0.97     45208\n",
      "       Fuzzers       0.74      0.53      0.62      6883\n",
      "      Exploits       0.78      0.56      0.65     12930\n",
      "           DoS       0.02      0.36      0.04       228\n",
      "Reconnaissance       0.50      0.53      0.52      2809\n",
      "      Backdoor       0.00      0.00      0.00         0\n",
      "      Analysis       0.00      0.00      0.00         0\n",
      "     Shellcode       0.00      0.00      0.00         0\n",
      "     Backdoors       0.00      0.00      0.00         6\n",
      "         Worms       0.00      0.00      0.00         0\n",
      "\n",
      "      accuracy                           0.91    134928\n",
      "     macro avg       0.36      0.36      0.35    134928\n",
      "  weighted avg       0.94      0.91      0.92    134928\n",
      "\n"
     ]
    }
   ],
   "source": [
    "nids = NIDS_Manager(\"UNSW-NB15-BALANCED-TRAIN.csv\", \"SVC\", \"attack_cat\")"
   ]
  },
  {
   "cell_type": "code",
   "execution_count": 7,
   "id": "be0330d9",
   "metadata": {},
   "outputs": [
    {
     "name": "stdout",
     "output_type": "stream",
     "text": [
      "Logistic Regression CV Running...\n",
      "Classification Report\n",
      "\n",
      "                precision    recall  f1-score   support\n",
      "\n",
      "                     0.99      1.00      0.99     66460\n",
      "       Generic       0.97      0.99      0.98     44544\n",
      "       Fuzzers       0.74      0.60      0.66      6140\n",
      "      Exploits       0.79      0.57      0.66     13185\n",
      "           DoS       0.08      0.39      0.14       749\n",
      "Reconnaissance       0.70      0.55      0.62      3792\n",
      "      Backdoor       0.00      0.00      0.00         0\n",
      "      Analysis       0.04      0.41      0.08        58\n",
      "     Shellcode       0.00      0.00      0.00         0\n",
      "     Backdoors       0.00      0.00      0.00         0\n",
      "         Worms       0.00      0.00      0.00         0\n",
      "\n",
      "      accuracy                           0.92    134928\n",
      "     macro avg       0.39      0.41      0.38    134928\n",
      "  weighted avg       0.94      0.92      0.93    134928\n",
      "\n"
     ]
    }
   ],
   "source": [
    "nids = NIDS_Manager(\"UNSW-NB15-BALANCED-TRAIN.csv\", \"LRCV\", \"attack_cat\")"
   ]
  },
  {
   "cell_type": "code",
   "execution_count": null,
   "id": "33ca308b",
   "metadata": {},
   "outputs": [],
   "source": []
  }
 ],
 "metadata": {
  "kernelspec": {
   "display_name": "Python 3.8 (ipykernel)",
   "language": "python",
   "name": "python3"
  },
  "language_info": {
   "codemirror_mode": {
    "name": "ipython",
    "version": 3
   },
   "file_extension": ".py",
   "mimetype": "text/x-python",
   "name": "python",
   "nbconvert_exporter": "python",
   "pygments_lexer": "ipython3",
   "version": "3.8.16"
  }
 },
 "nbformat": 4,
 "nbformat_minor": 5
}
