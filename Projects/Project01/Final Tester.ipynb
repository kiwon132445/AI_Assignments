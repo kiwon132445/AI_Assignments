{
 "cells": [
  {
   "cell_type": "code",
   "execution_count": 1,
   "id": "c6bdc1da",
   "metadata": {},
   "outputs": [],
   "source": [
    "from NIDS import *"
   ]
  },
  {
   "cell_type": "code",
   "execution_count": 2,
   "id": "e871ddc7",
   "metadata": {},
   "outputs": [
    {
     "name": "stdout",
     "output_type": "stream",
     "text": [
      "Gaussian Naive Bayes Running...\n",
      "Classification Report\n",
      "\n",
      "                precision    recall  f1-score   support\n",
      "\n",
      "                     0.98      1.00      0.99     66030\n",
      "       Generic       0.97      0.99      0.98     44052\n",
      "       Fuzzers       0.25      0.63      0.36      2044\n",
      "      Exploits       0.32      0.75      0.45      3966\n",
      "           DoS       0.01      0.30      0.02        96\n",
      "Reconnaissance       0.05      0.05      0.05      3226\n",
      "      Backdoor       0.45      0.04      0.08      4109\n",
      "      Analysis       0.15      0.08      0.10       967\n",
      "     Shellcode       0.98      0.05      0.10      6287\n",
      "     Backdoors       0.87      0.14      0.24       771\n",
      "         Worms       0.85      0.01      0.02      3380\n",
      "\n",
      "      accuracy                           0.85    134928\n",
      "     macro avg       0.53      0.37      0.31    134928\n",
      "  weighted avg       0.90      0.85      0.83    134928\n",
      "\n"
     ]
    }
   ],
   "source": [
    "nids = NIDS_Manager(\"UNSW-NB15-BALANCED-TRAIN.csv\", \"GNB\", \"attack_cat\")"
   ]
  },
  {
   "cell_type": "code",
   "execution_count": 3,
   "id": "121e2f09",
   "metadata": {},
   "outputs": [
    {
     "name": "stdout",
     "output_type": "stream",
     "text": [
      "Decision Tree Classifier Running...\n",
      "Classification Report\n",
      "\n",
      "                precision    recall  f1-score   support\n",
      "\n",
      "                     0.99      0.99      0.99     67576\n",
      "       Generic       0.98      0.99      0.99     44899\n",
      "       Fuzzers       0.76      0.79      0.77      4882\n",
      "      Exploits       0.76      0.61      0.68     11499\n",
      "           DoS       0.26      0.30      0.28      3027\n",
      "Reconnaissance       0.74      0.90      0.81      2415\n",
      "      Backdoor       0.09      0.42      0.15        81\n",
      "      Analysis       0.15      0.47      0.22       180\n",
      "     Shellcode       0.56      0.60      0.58       315\n",
      "     Backdoors       0.01      0.06      0.01        17\n",
      "         Worms       0.37      0.35      0.36        37\n",
      "\n",
      "      accuracy                           0.93    134928\n",
      "     macro avg       0.52      0.59      0.53    134928\n",
      "  weighted avg       0.94      0.93      0.93    134928\n",
      "\n"
     ]
    }
   ],
   "source": [
    "nids = NIDS_Manager(\"UNSW-NB15-BALANCED-TRAIN.csv\", \"DTC\", \"attack_cat\")"
   ]
  },
  {
   "cell_type": "code",
   "execution_count": 4,
   "id": "a5848ec3",
   "metadata": {},
   "outputs": [
    {
     "name": "stdout",
     "output_type": "stream",
     "text": [
      "K Neighbors Classifier Running...\n",
      "Classification Report\n",
      "\n",
      "                precision    recall  f1-score   support\n",
      "\n",
      "                     0.99      0.99      0.99     67129\n",
      "       Generic       0.98      0.99      0.99     45058\n",
      "       Fuzzers       0.80      0.75      0.77      5488\n",
      "      Exploits       0.77      0.62      0.69     11514\n",
      "           DoS       0.24      0.32      0.28      2625\n",
      "Reconnaissance       0.75      0.85      0.80      2601\n",
      "      Backdoor       0.04      0.23      0.06        61\n",
      "      Analysis       0.12      0.45      0.19       153\n",
      "     Shellcode       0.43      0.56      0.48       249\n",
      "     Backdoors       0.00      0.00      0.00        26\n",
      "         Worms       0.27      0.50      0.35        24\n",
      "\n",
      "      accuracy                           0.93    134928\n",
      "     macro avg       0.49      0.57      0.51    134928\n",
      "  weighted avg       0.94      0.93      0.94    134928\n",
      "\n"
     ]
    }
   ],
   "source": [
    "nids = NIDS_Manager(\"UNSW-NB15-BALANCED-TRAIN.csv\", \"KN\", \"attack_cat\")"
   ]
  },
  {
   "cell_type": "code",
   "execution_count": 5,
   "id": "2263f4bc",
   "metadata": {},
   "outputs": [
    {
     "name": "stdout",
     "output_type": "stream",
     "text": [
      "AdaBoost Classification Running...\n",
      "Classification Report\n",
      "\n",
      "                precision    recall  f1-score   support\n",
      "\n",
      "                     0.78      1.00      0.88     52629\n",
      "       Generic       0.97      1.00      0.99     44158\n",
      "       Fuzzers       0.83      0.45      0.59      9156\n",
      "      Exploits       0.46      0.46      0.46      9319\n",
      "           DoS       0.00      0.00      0.00         0\n",
      "Reconnaissance       0.15      0.21      0.17      2168\n",
      "      Backdoor       0.00      0.00      0.00         0\n",
      "      Analysis       0.19      0.01      0.01     17498\n",
      "     Shellcode       0.00      0.00      0.00         0\n",
      "     Backdoors       0.00      0.00      0.00         0\n",
      "         Worms       0.00      0.00      0.00         0\n",
      "\n",
      "      accuracy                           0.78    134928\n",
      "     macro avg       0.31      0.28      0.28    134928\n",
      "  weighted avg       0.74      0.78      0.74    134928\n",
      "\n"
     ]
    }
   ],
   "source": [
    "nids = NIDS_Manager(\"UNSW-NB15-BALANCED-TRAIN.csv\", \"ADA\", \"attack_cat\")"
   ]
  },
  {
   "cell_type": "code",
   "execution_count": 6,
   "id": "2b86c945",
   "metadata": {},
   "outputs": [
    {
     "name": "stdout",
     "output_type": "stream",
     "text": [
      "Linear Support Vector Classification Running...\n",
      "Classification Report\n",
      "\n",
      "                precision    recall  f1-score   support\n",
      "\n",
      "                     0.98      1.00      0.99     66864\n",
      "       Generic       0.97      0.97      0.97     45208\n",
      "       Fuzzers       0.74      0.53      0.62      6883\n",
      "      Exploits       0.78      0.56      0.65     12930\n",
      "           DoS       0.02      0.36      0.04       228\n",
      "Reconnaissance       0.50      0.53      0.52      2809\n",
      "      Backdoor       0.00      0.00      0.00         0\n",
      "      Analysis       0.00      0.00      0.00         0\n",
      "     Shellcode       0.00      0.00      0.00         0\n",
      "     Backdoors       0.00      0.00      0.00         6\n",
      "         Worms       0.00      0.00      0.00         0\n",
      "\n",
      "      accuracy                           0.91    134928\n",
      "     macro avg       0.36      0.36      0.35    134928\n",
      "  weighted avg       0.94      0.91      0.92    134928\n",
      "\n"
     ]
    }
   ],
   "source": [
    "nids = NIDS_Manager(\"UNSW-NB15-BALANCED-TRAIN.csv\", \"SVC\", \"attack_cat\")"
   ]
  },
  {
   "cell_type": "code",
   "execution_count": 7,
   "id": "be0330d9",
   "metadata": {},
   "outputs": [
    {
     "name": "stdout",
     "output_type": "stream",
     "text": [
      "Logistic Regression CV Running...\n",
      "Classification Report\n",
      "\n",
      "                precision    recall  f1-score   support\n",
      "\n",
      "                     0.99      1.00      0.99     66460\n",
      "       Generic       0.97      0.99      0.98     44544\n",
      "       Fuzzers       0.74      0.60      0.66      6140\n",
      "      Exploits       0.79      0.57      0.66     13185\n",
      "           DoS       0.08      0.39      0.14       749\n",
      "Reconnaissance       0.70      0.55      0.62      3792\n",
      "      Backdoor       0.00      0.00      0.00         0\n",
      "      Analysis       0.04      0.41      0.08        58\n",
      "     Shellcode       0.00      0.00      0.00         0\n",
      "     Backdoors       0.00      0.00      0.00         0\n",
      "         Worms       0.00      0.00      0.00         0\n",
      "\n",
      "      accuracy                           0.92    134928\n",
      "     macro avg       0.39      0.41      0.38    134928\n",
      "  weighted avg       0.94      0.92      0.93    134928\n",
      "\n"
     ]
    }
   ],
   "source": [
    "nids = NIDS_Manager(\"UNSW-NB15-BALANCED-TRAIN.csv\", \"LRCV\", \"attack_cat\")"
   ]
  },
  {
   "cell_type": "code",
   "execution_count": null,
   "id": "33ca308b",
   "metadata": {},
   "outputs": [],
   "source": []
  }
 ],
 "metadata": {
  "kernelspec": {
   "display_name": "Python 3.8 (ipykernel)",
   "language": "python",
   "name": "python3"
  },
  "language_info": {
   "codemirror_mode": {
    "name": "ipython",
    "version": 3
   },
   "file_extension": ".py",
   "mimetype": "text/x-python",
   "name": "python",
   "nbconvert_exporter": "python",
   "pygments_lexer": "ipython3",
   "version": "3.8.16"
  }
 },
 "nbformat": 4,
 "nbformat_minor": 5
}
