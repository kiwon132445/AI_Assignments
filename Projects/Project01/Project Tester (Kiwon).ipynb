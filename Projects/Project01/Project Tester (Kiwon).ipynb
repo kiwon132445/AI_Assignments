{
 "cells": [
  {
   "cell_type": "code",
   "execution_count": 1,
   "id": "6d79d2e7",
   "metadata": {},
   "outputs": [],
   "source": [
    "from NIDS import *"
   ]
  },
  {
   "cell_type": "code",
   "execution_count": 2,
   "id": "ce22a4d9",
   "metadata": {},
   "outputs": [],
   "source": [
    "nids = NIDS_Manager(\"UNSW-NB15-BALANCED-TRAIN.csv\", \"LRCV\", \"attack_cat\")"
   ]
  },
  {
   "cell_type": "markdown",
   "id": "ea315162",
   "metadata": {},
   "source": [
    "## Feature Analysis"
   ]
  },
  {
   "cell_type": "markdown",
   "id": "3cecba84",
   "metadata": {},
   "source": [
    "### Label"
   ]
  },
  {
   "cell_type": "code",
   "execution_count": null,
   "id": "5d58be4b",
   "metadata": {},
   "outputs": [],
   "source": [
    "nids.rfecv_fit(nids.x, nids.y_label)\n",
    "label_selected_features = nids.rfecv_selected_features()\n",
    "print(label_selected_features)\n",
    "print(nids.rfecv_score(nids.x, nids.y_label))\n",
    "nids.rfecv_plot()"
   ]
  },
  {
   "cell_type": "markdown",
   "id": "f7f577da",
   "metadata": {},
   "source": [
    "### attack_cat"
   ]
  },
  {
   "cell_type": "code",
   "execution_count": 3,
   "id": "d4f4169c",
   "metadata": {},
   "outputs": [
    {
     "name": "stdout",
     "output_type": "stream",
     "text": [
      "Index(['dsport', 'sbytes', 'dbytes', 'sttl', 'service', 'smeansz', 'dmeansz'], dtype='object')\n",
      "0.35224420189479255\n"
     ]
    },
    {
     "data": {
      "image/png": "[encoded data removed]",
      "text/plain": [
       "<Figure size 640x480 with 1 Axes>"
      ]
     },
     "metadata": {},
     "output_type": "display_data"
    }
   ],
   "source": [
    "nids.rfecv_fit(nids.x, nids.y_attack_cat)\n",
    "attack_selected_features = nids.rfecv_selected_features()\n",
    "print(attack_selected_features)\n",
    "print(nids.rfecv_score(nids.x, nids.y_attack_cat))\n",
    "nids.rfecv_plot()"
   ]
  },
  {
   "cell_type": "markdown",
   "id": "22ac6f8e",
   "metadata": {},
   "source": [
    "## Classification (Logistic Regression)"
   ]
  },
  {
   "cell_type": "markdown",
   "id": "c21c9449",
   "metadata": {},
   "source": [
    "### Label"
   ]
  },
  {
   "cell_type": "markdown",
   "id": "05f86781",
   "metadata": {},
   "source": [
    "#### With feature selection"
   ]
  },
  {
   "cell_type": "code",
   "execution_count": null,
   "id": "77baf241",
   "metadata": {},
   "outputs": [],
   "source": [
    "log_lab_pred_fs, log_lab_score_fs = nids.run_logistic(nids.rfecv_x_specific_select(nids.x_train, label_selected_features), nids.rfecv_x_specific_select(nids.x_test, label_selected_features), nids.y_train_label, nids.y_test_label)\n",
    "log_lab_pred_fs, log_lab_score_fs"
   ]
  },
  {
   "cell_type": "code",
   "execution_count": null,
   "id": "cda9a60b",
   "metadata": {},
   "outputs": [],
   "source": [
    "nids.print_class_report(nids.y_test_label, log_lab_pred_fs)"
   ]
  },
  {
   "cell_type": "markdown",
   "id": "258f59c0",
   "metadata": {},
   "source": [
    "#### Without feature selection"
   ]
  },
  {
   "cell_type": "code",
   "execution_count": null,
   "id": "407c1c69",
   "metadata": {},
   "outputs": [],
   "source": [
    "log_lab_pred, log_lab_score = nids.run_logistic(nids.x_train, nids.x_test, nids.y_train_label, nids.y_test_label)\n",
    "log_lab_pred, log_lab_score"
   ]
  },
  {
   "cell_type": "code",
   "execution_count": null,
   "id": "acd94fe0",
   "metadata": {},
   "outputs": [],
   "source": [
    "nids.print_class_report(nids.y_test_label, log_lab_pred)"
   ]
  },
  {
   "cell_type": "code",
   "execution_count": null,
   "id": "e28b7fa0",
   "metadata": {},
   "outputs": [],
   "source": [
    "#pickle.dump(nids.classifier.log_reg, open(\"LRCV_Label.sav\", 'wb'))"
   ]
  },
  {
   "cell_type": "markdown",
   "id": "e5e2cbd2",
   "metadata": {},
   "source": [
    "### attack_cat"
   ]
  },
  {
   "cell_type": "markdown",
   "id": "b7958624",
   "metadata": {},
   "source": [
    "#### With feature selection"
   ]
  },
  {
   "cell_type": "code",
   "execution_count": 4,
   "id": "73c37d96",
   "metadata": {},
   "outputs": [
    {
     "data": {
      "text/plain": [
       "(array(['Generic', 'Generic', 'Generic', ..., 'Backdoor', 'Generic', ''],\n",
       "       dtype=object),\n",
       " 0.5341570409723233)"
      ]
     },
     "execution_count": 4,
     "metadata": {},
     "output_type": "execute_result"
    }
   ],
   "source": [
    "log_atk_pred_fs, log_atk_score_fs = nids.run_logistic(nids.rfecv_x_specific_select(nids.x_train, attack_selected_features), nids.rfecv_x_specific_select(nids.x_test, attack_selected_features), nids.y_train_attack, nids.y_test_attack)\n",
    "log_atk_pred_fs, log_atk_score_fs"
   ]
  },
  {
   "cell_type": "code",
   "execution_count": 5,
   "id": "84d4cbd1",
   "metadata": {},
   "outputs": [
    {
     "name": "stdout",
     "output_type": "stream",
     "text": [
      "Classifier: Principal Component Analysis (PCA) \n",
      "\n",
      "                precision    recall  f1-score   support\n",
      "\n",
      "                     0.99      0.94      0.96     67336\n",
      "      Analysis       0.12      0.20      0.15       568\n",
      "      Backdoor       0.02      0.04      0.03       361\n",
      "     Backdoors       0.01      0.84      0.02       122\n",
      "           DoS       0.52      0.01      0.02      3396\n",
      "      Exploits       0.43      0.27      0.33      9227\n",
      "       Fuzzers       0.58      0.44      0.50      5053\n",
      "       Generic       0.99      0.97      0.98     45542\n",
      "Reconnaissance       0.31      0.48      0.38      2960\n",
      "     Shellcode       0.53      0.82      0.64       328\n",
      "         Worms       0.02      0.86      0.04        35\n",
      "\n",
      "      accuracy                           0.85    134928\n",
      "     macro avg       0.41      0.53      0.37    134928\n",
      "  weighted avg       0.90      0.85      0.86    134928\n",
      "\n"
     ]
    }
   ],
   "source": [
    "nids.print_class_report(nids.y_test_attack, log_atk_pred_fs)"
   ]
  },
  {
   "cell_type": "markdown",
   "id": "1f862a90",
   "metadata": {},
   "source": [
    "#### Without feature selection"
   ]
  },
  {
   "cell_type": "code",
   "execution_count": null,
   "id": "9b8b2a19",
   "metadata": {},
   "outputs": [],
   "source": [
    "log_atk_pred, log_atk_score = nids.run_logistic(nids.x_train, nids.x_test, nids.y_train_attack, nids.y_test_attack)\n",
    "log_atk_pred, log_atk_score"
   ]
  },
  {
   "cell_type": "code",
   "execution_count": null,
   "id": "03b69174",
   "metadata": {},
   "outputs": [],
   "source": [
    "nids.print_class_report(nids.y_test_attack, log_atk_pred)"
   ]
  },
  {
   "cell_type": "code",
   "execution_count": null,
   "id": "2e3b2942",
   "metadata": {},
   "outputs": [],
   "source": [
    "#pickle.dump(nids.classifier.log_reg, open(\"LRCV_Attack.sav\", 'wb'))"
   ]
  },
  {
   "cell_type": "markdown",
   "id": "07ed4fac",
   "metadata": {},
   "source": [
    "## Support Vector Classification (SVC)"
   ]
  },
  {
   "cell_type": "code",
   "execution_count": 7,
   "id": "03390946",
   "metadata": {},
   "outputs": [
    {
     "data": {
      "text/plain": [
       "0"
      ]
     },
     "execution_count": 7,
     "metadata": {},
     "output_type": "execute_result"
    }
   ],
   "source": [
    "nids.classifier_init('SVC')"
   ]
  },
  {
   "cell_type": "markdown",
   "id": "8b23abaa",
   "metadata": {},
   "source": [
    "### Label"
   ]
  },
  {
   "cell_type": "code",
   "execution_count": null,
   "id": "ffcd1ffe",
   "metadata": {},
   "outputs": [],
   "source": [
    "svc_label_pred, svc_label_score = nids.run_svc(nids.rfecv_x_specific_select(nids.x_train, label_selected_features), nids.rfecv_x_specific_select(nids.x_test, label_selected_features), nids.y_train_label, nids.y_test_label)\n",
    "svc_label_pred, svc_label_score"
   ]
  },
  {
   "cell_type": "code",
   "execution_count": null,
   "id": "14ee451c",
   "metadata": {},
   "outputs": [],
   "source": [
    "nids.print_class_report(nids.y_test_label, svc_label_pred)"
   ]
  },
  {
   "cell_type": "code",
   "execution_count": null,
   "id": "2b05ee24",
   "metadata": {},
   "outputs": [],
   "source": [
    "#pickle.dump(nids.classifier.svc, open(\"SVC_Label.sav\", 'wb'))"
   ]
  },
  {
   "cell_type": "markdown",
   "id": "d18d1518",
   "metadata": {},
   "source": [
    "### attack_cat"
   ]
  },
  {
   "cell_type": "code",
   "execution_count": 8,
   "id": "2464fb58",
   "metadata": {
    "scrolled": true
   },
   "outputs": [
    {
     "data": {
      "text/plain": [
       "(array(['Generic', 'Generic', 'Generic', ..., 'Exploits', 'Generic', ''],\n",
       "       dtype=object),\n",
       " 0.8754520929681016)"
      ]
     },
     "execution_count": 8,
     "metadata": {},
     "output_type": "execute_result"
    }
   ],
   "source": [
    "svc_atk_pred, svc_atk_score = nids.run_svc(nids.rfecv_x_specific_select(nids.x_train, attack_selected_features), nids.rfecv_x_specific_select(nids.x_test, attack_selected_features), nids.y_train_attack, nids.y_test_attack)\n",
    "svc_atk_pred, svc_atk_score"
   ]
  },
  {
   "cell_type": "code",
   "execution_count": 9,
   "id": "37e2e208",
   "metadata": {
    "scrolled": false
   },
   "outputs": [
    {
     "name": "stdout",
     "output_type": "stream",
     "text": [
      "Classifier: Principal Component Analysis (PCA) \n",
      "\n",
      "                precision    recall  f1-score   support\n",
      "\n",
      "                     0.94      0.98      0.96     67336\n",
      "      Analysis       0.00      0.00      0.00       568\n",
      "      Backdoor       0.00      0.00      0.00       361\n",
      "     Backdoors       0.00      0.00      0.00       122\n",
      "           DoS       0.00      0.00      0.00      3396\n",
      "      Exploits       0.35      0.47      0.40      9227\n",
      "       Fuzzers       0.49      0.33      0.40      5053\n",
      "       Generic       0.99      0.97      0.98     45542\n",
      "Reconnaissance       0.38      0.40      0.39      2960\n",
      "     Shellcode       0.53      0.77      0.63       328\n",
      "         Worms       0.00      0.00      0.00        35\n",
      "\n",
      "      accuracy                           0.88    134928\n",
      "     macro avg       0.33      0.36      0.34    134928\n",
      "  weighted avg       0.85      0.88      0.86    134928\n",
      "\n"
     ]
    }
   ],
   "source": [
    "nids.print_class_report(nids.y_test_attack, svc_atk_pred)"
   ]
  },
  {
   "cell_type": "code",
   "execution_count": null,
   "id": "bafcc561",
   "metadata": {},
   "outputs": [],
   "source": [
    "#pickle.dump(nids.classifier.svc, open(\"SVC_Attack.sav\", 'wb'))"
   ]
  },
  {
   "cell_type": "code",
   "execution_count": null,
   "id": "cad9da45",
   "metadata": {},
   "outputs": [],
   "source": []
  }
 ],
 "metadata": {
  "kernelspec": {
   "display_name": "Python 3.8 (ipykernel)",
   "language": "python",
   "name": "python3"
  },
  "language_info": {
   "codemirror_mode": {
    "name": "ipython",
    "version": 3
   },
   "file_extension": ".py",
   "mimetype": "text/x-python",
   "name": "python",
   "nbconvert_exporter": "python",
   "pygments_lexer": "ipython3",
   "version": "3.8.16"
  }
 },
 "nbformat": 4,
 "nbformat_minor": 5
}
