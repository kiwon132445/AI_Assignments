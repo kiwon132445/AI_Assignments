{
 "cells": [
  {
   "cell_type": "code",
   "execution_count": 1,
   "id": "6d79d2e7",
   "metadata": {},
   "outputs": [],
   "source": [
    "from NIDS import *"
   ]
  },
  {
   "cell_type": "code",
   "execution_count": 2,
   "id": "ce22a4d9",
   "metadata": {},
   "outputs": [],
   "source": [
    "nids = NIDS_Manager(\"UNSW-NB15-BALANCED-TRAIN.csv\", \"LRCV\", \"w\")"
   ]
  },
  {
   "cell_type": "code",
   "execution_count": 3,
   "id": "5d58be4b",
   "metadata": {},
   "outputs": [],
   "source": [
    "#nids.rfecv_fit()"
   ]
  },
  {
   "cell_type": "code",
   "execution_count": 4,
   "id": "d4f4169c",
   "metadata": {},
   "outputs": [],
   "source": [
    "#nids.rfecv_x()"
   ]
  },
  {
   "cell_type": "code",
   "execution_count": 5,
   "id": "3cf37507",
   "metadata": {},
   "outputs": [],
   "source": [
    "#nids.rfecv_select_plot()"
   ]
  },
  {
   "cell_type": "code",
   "execution_count": 6,
   "id": "a1194bf6",
   "metadata": {},
   "outputs": [],
   "source": [
    "#nids.logistic_fit(nids.x_train, nids.y_train_attack)"
   ]
  },
  {
   "cell_type": "code",
   "execution_count": 7,
   "id": "e9b9d97c",
   "metadata": {},
   "outputs": [],
   "source": [
    "#nids.logistic_pred(nids.x_test)"
   ]
  },
  {
   "cell_type": "code",
   "execution_count": 8,
   "id": "6e726003",
   "metadata": {},
   "outputs": [],
   "source": [
    "#nids.logistic_score(nids.x_test, nids.y_test_attack)"
   ]
  },
  {
   "cell_type": "code",
   "execution_count": 9,
   "id": "9b8b2a19",
   "metadata": {},
   "outputs": [
    {
     "data": {
      "text/plain": [
       "(array(['Generic', 'Generic', 'Generic', ..., '', 'Generic', ''],\n",
       "       dtype=object),\n",
       " 0.6852480986583636)"
      ]
     },
     "execution_count": 9,
     "metadata": {},
     "output_type": "execute_result"
    }
   ],
   "source": [
    "log_atk_pred, log_atk_score = nids.run_logistic(nids.y_train_attack, nids.y_test_attack)\n",
    "log_atk_pred, log_atk_score"
   ]
  },
  {
   "cell_type": "code",
   "execution_count": 10,
   "id": "2e3b2942",
   "metadata": {},
   "outputs": [],
   "source": [
    "pickle.dump(nids.classifier.log_reg, open(\"LRCV_Attack.sav\", 'wb'))"
   ]
  },
  {
   "cell_type": "code",
   "execution_count": 11,
   "id": "ddbac754",
   "metadata": {},
   "outputs": [],
   "source": [
    "#nids.logistic_fit(nids.x_train, nids.y_train_label)"
   ]
  },
  {
   "cell_type": "code",
   "execution_count": 12,
   "id": "220da15c",
   "metadata": {},
   "outputs": [],
   "source": [
    "#nids.logistic_pred(nids.x_test)"
   ]
  },
  {
   "cell_type": "code",
   "execution_count": 13,
   "id": "8f6c56d8",
   "metadata": {},
   "outputs": [],
   "source": [
    "#nids.logistic_score(nids.x_test, nids.y_test_label)"
   ]
  },
  {
   "cell_type": "code",
   "execution_count": 14,
   "id": "407c1c69",
   "metadata": {},
   "outputs": [
    {
     "data": {
      "text/plain": [
       "(array([1, 1, 1, ..., 0, 1, 0]), 0.9923979437710624)"
      ]
     },
     "execution_count": 14,
     "metadata": {},
     "output_type": "execute_result"
    }
   ],
   "source": [
    "log_lab_pred, log_lab_score = nids.run_logistic(nids.y_train_label, nids.y_test_label)\n",
    "log_lab_pred, log_lab_score"
   ]
  },
  {
   "cell_type": "code",
   "execution_count": 34,
   "id": "acd94fe0",
   "metadata": {},
   "outputs": [
    {
     "name": "stdout",
     "output_type": "stream",
     "text": [
      "Classifier: Decision Tree \n",
      "\n",
      "              precision    recall  f1-score   support\n",
      "\n",
      "           0       1.00      0.99      0.99     67336\n",
      "           1       0.99      1.00      0.99     67592\n",
      "\n",
      "    accuracy                           0.99    134928\n",
      "   macro avg       0.99      0.99      0.99    134928\n",
      "weighted avg       0.99      0.99      0.99    134928\n",
      "\n"
     ]
    }
   ],
   "source": [
    "from sklearn.metrics import classification_report\n",
    "print('Classifier: Decision Tree \\n')\n",
    "print(classification_report(nids.y_test_label, log_lab_pred))"
   ]
  },
  {
   "cell_type": "code",
   "execution_count": 15,
   "id": "e28b7fa0",
   "metadata": {},
   "outputs": [],
   "source": [
    "pickle.dump(nids.classifier.log_reg, open(\"LRCV_Label.sav\", 'wb'))"
   ]
  },
  {
   "cell_type": "code",
   "execution_count": 23,
   "id": "03390946",
   "metadata": {},
   "outputs": [],
   "source": [
    "nids.classifier_init('SVC')\n",
    "nids.classifier.svc = make_pipeline(StandardScaler(), SVC())"
   ]
  },
  {
   "cell_type": "code",
   "execution_count": 24,
   "id": "f0cec487",
   "metadata": {},
   "outputs": [],
   "source": [
    "#nids.svc_fit(nids.x_train, nids.y_train_attack)"
   ]
  },
  {
   "cell_type": "code",
   "execution_count": 25,
   "id": "dba75101",
   "metadata": {},
   "outputs": [],
   "source": [
    "#nids.svc_pred(nids.x_test)"
   ]
  },
  {
   "cell_type": "code",
   "execution_count": 26,
   "id": "0716a5c9",
   "metadata": {},
   "outputs": [],
   "source": [
    "#nids.svc_score(nids.x_test, nids.y_test_attack)"
   ]
  },
  {
   "cell_type": "code",
   "execution_count": 27,
   "id": "2464fb58",
   "metadata": {
    "scrolled": true
   },
   "outputs": [
    {
     "ename": "TypeError",
     "evalue": "svc_pred() missing 1 required positional argument: 'y'",
     "output_type": "error",
     "traceback": [
      "\u001b[0;31m---------------------------------------------------------------------------\u001b[0m",
      "\u001b[0;31mTypeError\u001b[0m                                 Traceback (most recent call last)",
      "Cell \u001b[0;32mIn[27], line 1\u001b[0m\n\u001b[0;32m----> 1\u001b[0m svc_atk_pred, svc_atk_score \u001b[38;5;241m=\u001b[39m \u001b[43mnids\u001b[49m\u001b[38;5;241;43m.\u001b[39;49m\u001b[43mrun_svc\u001b[49m\u001b[43m(\u001b[49m\u001b[43mnids\u001b[49m\u001b[38;5;241;43m.\u001b[39;49m\u001b[43my_train_attack\u001b[49m\u001b[43m,\u001b[49m\u001b[43m \u001b[49m\u001b[43mnids\u001b[49m\u001b[38;5;241;43m.\u001b[39;49m\u001b[43my_test_attack\u001b[49m\u001b[43m)\u001b[49m\n\u001b[1;32m      2\u001b[0m svc_atk_pred, svc_atk_score\n",
      "File \u001b[0;32m~/AI_Assignments/Projects/Project01/NIDS_Manager.py:141\u001b[0m, in \u001b[0;36mrun_svc\u001b[0;34m(self, y_train, y_test)\u001b[0m\n\u001b[1;32m    140\u001b[0m \u001b[38;5;28;01mdef\u001b[39;00m \u001b[38;5;21mlogistic_score\u001b[39m(\u001b[38;5;28mself\u001b[39m, x, y):\n\u001b[0;32m--> 141\u001b[0m     \u001b[38;5;28;01mreturn\u001b[39;00m \u001b[38;5;28mself\u001b[39m\u001b[38;5;241m.\u001b[39mclassifier\u001b[38;5;241m.\u001b[39mlogistic_score(x, y)\n",
      "File \u001b[0;32m~/AI_Assignments/Projects/Project01/NIDS_Manager.py:148\u001b[0m, in \u001b[0;36msvc_pred\u001b[0;34m(self, x_test)\u001b[0m\n\u001b[1;32m    146\u001b[0m \u001b[38;5;28;01mdef\u001b[39;00m \u001b[38;5;21mrun_svc\u001b[39m(\u001b[38;5;28mself\u001b[39m, x_train, x_test, y_train, y_test):\n\u001b[1;32m    147\u001b[0m     \u001b[38;5;28mself\u001b[39m\u001b[38;5;241m.\u001b[39msvc_fit(x_train, y_train)\n\u001b[0;32m--> 148\u001b[0m     pred \u001b[38;5;241m=\u001b[39m \u001b[38;5;28mself\u001b[39m\u001b[38;5;241m.\u001b[39msvc_pred(x_test)\n\u001b[1;32m    149\u001b[0m     score \u001b[38;5;241m=\u001b[39m \u001b[38;5;28mself\u001b[39m\u001b[38;5;241m.\u001b[39msvc_score(x_test, y_test)\n\u001b[1;32m    150\u001b[0m     \u001b[38;5;28;01mreturn\u001b[39;00m pred, score\n",
      "\u001b[0;31mTypeError\u001b[0m: svc_pred() missing 1 required positional argument: 'y'"
     ]
    }
   ],
   "source": [
    "svc_atk_pred, svc_atk_score = nids.run_svc(nids.y_train_attack, nids.y_test_attack)\n",
    "svc_atk_pred, svc_atk_score"
   ]
  },
  {
   "cell_type": "code",
   "execution_count": 29,
   "id": "2ee4f99b",
   "metadata": {},
   "outputs": [],
   "source": [
    "svc_atk_pred = nids.classifier.svc.predict(nids.x_test)"
   ]
  },
  {
   "cell_type": "code",
   "execution_count": 31,
   "id": "ae42ddd4",
   "metadata": {},
   "outputs": [
    {
     "ename": "KeyboardInterrupt",
     "evalue": "",
     "output_type": "error",
     "traceback": [
      "\u001b[0;31m---------------------------------------------------------------------------\u001b[0m",
      "\u001b[0;31mKeyboardInterrupt\u001b[0m                         Traceback (most recent call last)",
      "Cell \u001b[0;32mIn[31], line 1\u001b[0m\n\u001b[0;32m----> 1\u001b[0m svc_atk_score \u001b[38;5;241m=\u001b[39m \u001b[43mnids\u001b[49m\u001b[38;5;241;43m.\u001b[39;49m\u001b[43mclassifier\u001b[49m\u001b[38;5;241;43m.\u001b[39;49m\u001b[43msvc\u001b[49m\u001b[38;5;241;43m.\u001b[39;49m\u001b[43mscore\u001b[49m\u001b[43m(\u001b[49m\u001b[43mnids\u001b[49m\u001b[38;5;241;43m.\u001b[39;49m\u001b[43mx_test\u001b[49m\u001b[43m,\u001b[49m\u001b[43m \u001b[49m\u001b[43mnids\u001b[49m\u001b[38;5;241;43m.\u001b[39;49m\u001b[43my_test_attack\u001b[49m\u001b[43m)\u001b[49m\n",
      "File \u001b[0;32m~/.local/lib/python3.8/site-packages/sklearn/pipeline.py:722\u001b[0m, in \u001b[0;36mPipeline.score\u001b[0;34m(self, X, y, sample_weight)\u001b[0m\n\u001b[1;32m    720\u001b[0m \u001b[38;5;28;01mif\u001b[39;00m sample_weight \u001b[38;5;129;01mis\u001b[39;00m \u001b[38;5;129;01mnot\u001b[39;00m \u001b[38;5;28;01mNone\u001b[39;00m:\n\u001b[1;32m    721\u001b[0m     score_params[\u001b[38;5;124m\"\u001b[39m\u001b[38;5;124msample_weight\u001b[39m\u001b[38;5;124m\"\u001b[39m] \u001b[38;5;241m=\u001b[39m sample_weight\n\u001b[0;32m--> 722\u001b[0m \u001b[38;5;28;01mreturn\u001b[39;00m \u001b[38;5;28;43mself\u001b[39;49m\u001b[38;5;241;43m.\u001b[39;49m\u001b[43msteps\u001b[49m\u001b[43m[\u001b[49m\u001b[38;5;241;43m-\u001b[39;49m\u001b[38;5;241;43m1\u001b[39;49m\u001b[43m]\u001b[49m\u001b[43m[\u001b[49m\u001b[38;5;241;43m1\u001b[39;49m\u001b[43m]\u001b[49m\u001b[38;5;241;43m.\u001b[39;49m\u001b[43mscore\u001b[49m\u001b[43m(\u001b[49m\u001b[43mXt\u001b[49m\u001b[43m,\u001b[49m\u001b[43m \u001b[49m\u001b[43my\u001b[49m\u001b[43m,\u001b[49m\u001b[43m \u001b[49m\u001b[38;5;241;43m*\u001b[39;49m\u001b[38;5;241;43m*\u001b[39;49m\u001b[43mscore_params\u001b[49m\u001b[43m)\u001b[49m\n",
      "File \u001b[0;32m~/.local/lib/python3.8/site-packages/sklearn/base.py:649\u001b[0m, in \u001b[0;36mClassifierMixin.score\u001b[0;34m(self, X, y, sample_weight)\u001b[0m\n\u001b[1;32m    624\u001b[0m \u001b[38;5;250m\u001b[39m\u001b[38;5;124;03m\"\"\"\u001b[39;00m\n\u001b[1;32m    625\u001b[0m \u001b[38;5;124;03mReturn the mean accuracy on the given test data and labels.\u001b[39;00m\n\u001b[1;32m    626\u001b[0m \n\u001b[0;32m   (...)\u001b[0m\n\u001b[1;32m    645\u001b[0m \u001b[38;5;124;03m    Mean accuracy of ``self.predict(X)`` wrt. `y`.\u001b[39;00m\n\u001b[1;32m    646\u001b[0m \u001b[38;5;124;03m\"\"\"\u001b[39;00m\n\u001b[1;32m    647\u001b[0m \u001b[38;5;28;01mfrom\u001b[39;00m \u001b[38;5;21;01m.\u001b[39;00m\u001b[38;5;21;01mmetrics\u001b[39;00m \u001b[38;5;28;01mimport\u001b[39;00m accuracy_score\n\u001b[0;32m--> 649\u001b[0m \u001b[38;5;28;01mreturn\u001b[39;00m accuracy_score(y, \u001b[38;5;28;43mself\u001b[39;49m\u001b[38;5;241;43m.\u001b[39;49m\u001b[43mpredict\u001b[49m\u001b[43m(\u001b[49m\u001b[43mX\u001b[49m\u001b[43m)\u001b[49m, sample_weight\u001b[38;5;241m=\u001b[39msample_weight)\n",
      "File \u001b[0;32m~/.local/lib/python3.8/site-packages/sklearn/svm/_base.py:820\u001b[0m, in \u001b[0;36mBaseSVC.predict\u001b[0;34m(self, X)\u001b[0m\n\u001b[1;32m    818\u001b[0m     y \u001b[38;5;241m=\u001b[39m np\u001b[38;5;241m.\u001b[39margmax(\u001b[38;5;28mself\u001b[39m\u001b[38;5;241m.\u001b[39mdecision_function(X), axis\u001b[38;5;241m=\u001b[39m\u001b[38;5;241m1\u001b[39m)\n\u001b[1;32m    819\u001b[0m \u001b[38;5;28;01melse\u001b[39;00m:\n\u001b[0;32m--> 820\u001b[0m     y \u001b[38;5;241m=\u001b[39m \u001b[38;5;28;43msuper\u001b[39;49m\u001b[43m(\u001b[49m\u001b[43m)\u001b[49m\u001b[38;5;241;43m.\u001b[39;49m\u001b[43mpredict\u001b[49m\u001b[43m(\u001b[49m\u001b[43mX\u001b[49m\u001b[43m)\u001b[49m\n\u001b[1;32m    821\u001b[0m \u001b[38;5;28;01mreturn\u001b[39;00m \u001b[38;5;28mself\u001b[39m\u001b[38;5;241m.\u001b[39mclasses_\u001b[38;5;241m.\u001b[39mtake(np\u001b[38;5;241m.\u001b[39masarray(y, dtype\u001b[38;5;241m=\u001b[39mnp\u001b[38;5;241m.\u001b[39mintp))\n",
      "File \u001b[0;32m~/.local/lib/python3.8/site-packages/sklearn/svm/_base.py:435\u001b[0m, in \u001b[0;36mBaseLibSVM.predict\u001b[0;34m(self, X)\u001b[0m\n\u001b[1;32m    433\u001b[0m X \u001b[38;5;241m=\u001b[39m \u001b[38;5;28mself\u001b[39m\u001b[38;5;241m.\u001b[39m_validate_for_predict(X)\n\u001b[1;32m    434\u001b[0m predict \u001b[38;5;241m=\u001b[39m \u001b[38;5;28mself\u001b[39m\u001b[38;5;241m.\u001b[39m_sparse_predict \u001b[38;5;28;01mif\u001b[39;00m \u001b[38;5;28mself\u001b[39m\u001b[38;5;241m.\u001b[39m_sparse \u001b[38;5;28;01melse\u001b[39;00m \u001b[38;5;28mself\u001b[39m\u001b[38;5;241m.\u001b[39m_dense_predict\n\u001b[0;32m--> 435\u001b[0m \u001b[38;5;28;01mreturn\u001b[39;00m \u001b[43mpredict\u001b[49m\u001b[43m(\u001b[49m\u001b[43mX\u001b[49m\u001b[43m)\u001b[49m\n",
      "File \u001b[0;32m~/.local/lib/python3.8/site-packages/sklearn/svm/_base.py:454\u001b[0m, in \u001b[0;36mBaseLibSVM._dense_predict\u001b[0;34m(self, X)\u001b[0m\n\u001b[1;32m    446\u001b[0m         \u001b[38;5;28;01mraise\u001b[39;00m \u001b[38;5;167;01mValueError\u001b[39;00m(\n\u001b[1;32m    447\u001b[0m             \u001b[38;5;124m\"\u001b[39m\u001b[38;5;124mX.shape[1] = \u001b[39m\u001b[38;5;132;01m%d\u001b[39;00m\u001b[38;5;124m should be equal to \u001b[39m\u001b[38;5;132;01m%d\u001b[39;00m\u001b[38;5;124m, \u001b[39m\u001b[38;5;124m\"\u001b[39m\n\u001b[1;32m    448\u001b[0m             \u001b[38;5;124m\"\u001b[39m\u001b[38;5;124mthe number of samples at training time\u001b[39m\u001b[38;5;124m\"\u001b[39m\n\u001b[1;32m    449\u001b[0m             \u001b[38;5;241m%\u001b[39m (X\u001b[38;5;241m.\u001b[39mshape[\u001b[38;5;241m1\u001b[39m], \u001b[38;5;28mself\u001b[39m\u001b[38;5;241m.\u001b[39mshape_fit_[\u001b[38;5;241m0\u001b[39m])\n\u001b[1;32m    450\u001b[0m         )\n\u001b[1;32m    452\u001b[0m svm_type \u001b[38;5;241m=\u001b[39m LIBSVM_IMPL\u001b[38;5;241m.\u001b[39mindex(\u001b[38;5;28mself\u001b[39m\u001b[38;5;241m.\u001b[39m_impl)\n\u001b[0;32m--> 454\u001b[0m \u001b[38;5;28;01mreturn\u001b[39;00m \u001b[43mlibsvm\u001b[49m\u001b[38;5;241;43m.\u001b[39;49m\u001b[43mpredict\u001b[49m\u001b[43m(\u001b[49m\n\u001b[1;32m    455\u001b[0m \u001b[43m    \u001b[49m\u001b[43mX\u001b[49m\u001b[43m,\u001b[49m\n\u001b[1;32m    456\u001b[0m \u001b[43m    \u001b[49m\u001b[38;5;28;43mself\u001b[39;49m\u001b[38;5;241;43m.\u001b[39;49m\u001b[43msupport_\u001b[49m\u001b[43m,\u001b[49m\n\u001b[1;32m    457\u001b[0m \u001b[43m    \u001b[49m\u001b[38;5;28;43mself\u001b[39;49m\u001b[38;5;241;43m.\u001b[39;49m\u001b[43msupport_vectors_\u001b[49m\u001b[43m,\u001b[49m\n\u001b[1;32m    458\u001b[0m \u001b[43m    \u001b[49m\u001b[38;5;28;43mself\u001b[39;49m\u001b[38;5;241;43m.\u001b[39;49m\u001b[43m_n_support\u001b[49m\u001b[43m,\u001b[49m\n\u001b[1;32m    459\u001b[0m \u001b[43m    \u001b[49m\u001b[38;5;28;43mself\u001b[39;49m\u001b[38;5;241;43m.\u001b[39;49m\u001b[43m_dual_coef_\u001b[49m\u001b[43m,\u001b[49m\n\u001b[1;32m    460\u001b[0m \u001b[43m    \u001b[49m\u001b[38;5;28;43mself\u001b[39;49m\u001b[38;5;241;43m.\u001b[39;49m\u001b[43m_intercept_\u001b[49m\u001b[43m,\u001b[49m\n\u001b[1;32m    461\u001b[0m \u001b[43m    \u001b[49m\u001b[38;5;28;43mself\u001b[39;49m\u001b[38;5;241;43m.\u001b[39;49m\u001b[43m_probA\u001b[49m\u001b[43m,\u001b[49m\n\u001b[1;32m    462\u001b[0m \u001b[43m    \u001b[49m\u001b[38;5;28;43mself\u001b[39;49m\u001b[38;5;241;43m.\u001b[39;49m\u001b[43m_probB\u001b[49m\u001b[43m,\u001b[49m\n\u001b[1;32m    463\u001b[0m \u001b[43m    \u001b[49m\u001b[43msvm_type\u001b[49m\u001b[38;5;241;43m=\u001b[39;49m\u001b[43msvm_type\u001b[49m\u001b[43m,\u001b[49m\n\u001b[1;32m    464\u001b[0m \u001b[43m    \u001b[49m\u001b[43mkernel\u001b[49m\u001b[38;5;241;43m=\u001b[39;49m\u001b[43mkernel\u001b[49m\u001b[43m,\u001b[49m\n\u001b[1;32m    465\u001b[0m \u001b[43m    \u001b[49m\u001b[43mdegree\u001b[49m\u001b[38;5;241;43m=\u001b[39;49m\u001b[38;5;28;43mself\u001b[39;49m\u001b[38;5;241;43m.\u001b[39;49m\u001b[43mdegree\u001b[49m\u001b[43m,\u001b[49m\n\u001b[1;32m    466\u001b[0m \u001b[43m    \u001b[49m\u001b[43mcoef0\u001b[49m\u001b[38;5;241;43m=\u001b[39;49m\u001b[38;5;28;43mself\u001b[39;49m\u001b[38;5;241;43m.\u001b[39;49m\u001b[43mcoef0\u001b[49m\u001b[43m,\u001b[49m\n\u001b[1;32m    467\u001b[0m \u001b[43m    \u001b[49m\u001b[43mgamma\u001b[49m\u001b[38;5;241;43m=\u001b[39;49m\u001b[38;5;28;43mself\u001b[39;49m\u001b[38;5;241;43m.\u001b[39;49m\u001b[43m_gamma\u001b[49m\u001b[43m,\u001b[49m\n\u001b[1;32m    468\u001b[0m \u001b[43m    \u001b[49m\u001b[43mcache_size\u001b[49m\u001b[38;5;241;43m=\u001b[39;49m\u001b[38;5;28;43mself\u001b[39;49m\u001b[38;5;241;43m.\u001b[39;49m\u001b[43mcache_size\u001b[49m\u001b[43m,\u001b[49m\n\u001b[1;32m    469\u001b[0m \u001b[43m\u001b[49m\u001b[43m)\u001b[49m\n",
      "\u001b[0;31mKeyboardInterrupt\u001b[0m: "
     ]
    }
   ],
   "source": [
    "svc_atk_score = nids.classifier.svc.score(nids.x_test, nids.y_test_attack)"
   ]
  },
  {
   "cell_type": "code",
   "execution_count": 47,
   "id": "37e2e208",
   "metadata": {},
   "outputs": [
    {
     "name": "stdout",
     "output_type": "stream",
     "text": [
      "Classifier: Decision Tree \n",
      "\n",
      "                precision    recall  f1-score   support\n",
      "\n",
      "                     1.00      0.99      0.99     67336\n",
      "      Analysis       0.65      0.08      0.14       568\n",
      "      Backdoor       1.00      0.01      0.01       361\n",
      "     Backdoors       0.00      0.00      0.00       122\n",
      "           DoS       0.85      0.01      0.02      3396\n",
      "      Exploits       0.57      0.92      0.70      9227\n",
      "       Fuzzers       0.65      0.82      0.73      5053\n",
      "       Generic       1.00      0.97      0.99     45542\n",
      "Reconnaissance       0.75      0.61      0.67      2960\n",
      "     Shellcode       0.78      0.74      0.76       328\n",
      "         Worms       0.00      0.00      0.00        35\n",
      "\n",
      "      accuracy                           0.93    134928\n",
      "     macro avg       0.66      0.47      0.46    134928\n",
      "  weighted avg       0.94      0.93      0.92    134928\n",
      "\n"
     ]
    }
   ],
   "source": [
    "from sklearn.metrics import classification_report\n",
    "print('Classifier: Decision Tree \\n')\n",
    "print(classification_report(nids.y_test_attack, svc_atk_pred))"
   ]
  },
  {
   "cell_type": "code",
   "execution_count": null,
   "id": "bafcc561",
   "metadata": {},
   "outputs": [],
   "source": [
    "pickle.dump(nids.classifier.csv, open(\"SVC_Attack.sav\", 'wb'))"
   ]
  },
  {
   "cell_type": "code",
   "execution_count": null,
   "id": "408820c1",
   "metadata": {},
   "outputs": [],
   "source": [
    "#nids.svc_fit(nids.x_train, nids.y_train_label)"
   ]
  },
  {
   "cell_type": "code",
   "execution_count": null,
   "id": "459ddb02",
   "metadata": {},
   "outputs": [],
   "source": [
    "#nids.svc_pred(nids.x_test)"
   ]
  },
  {
   "cell_type": "code",
   "execution_count": null,
   "id": "bf527472",
   "metadata": {},
   "outputs": [],
   "source": [
    "#nids.svc_score(nids.x_test, nids.y_test_label)"
   ]
  },
  {
   "cell_type": "code",
   "execution_count": null,
   "id": "6ff77811",
   "metadata": {},
   "outputs": [],
   "source": [
    "svc_lab_pred, svc_lab_score = nids.run_svc(nids.y_train_label, nids.y_test_label)\n",
    "svc_lab_pred, svc_lab_score"
   ]
  },
  {
   "cell_type": "code",
   "execution_count": null,
   "id": "2b05ee24",
   "metadata": {},
   "outputs": [],
   "source": [
    "pickle.dump(nids.classifier.csv, open(\"SVC_Label.sav\", 'wb'))"
   ]
  },
  {
   "cell_type": "code",
   "execution_count": null,
   "id": "4d93a1a9",
   "metadata": {},
   "outputs": [],
   "source": [
    "print('Classifier: Principal Component Analysis (RFECV) with attack_cat \\n')\n",
    "print(classification_report(nids.y_test_attack, log_atk_pred))"
   ]
  },
  {
   "cell_type": "code",
   "execution_count": 46,
   "id": "10371b04",
   "metadata": {},
   "outputs": [
    {
     "ename": "AttributeError",
     "evalue": "'numpy.ndarray' object has no attribute 'unique'",
     "output_type": "error",
     "traceback": [
      "\u001b[0;31m---------------------------------------------------------------------------\u001b[0m",
      "\u001b[0;31mAttributeError\u001b[0m                            Traceback (most recent call last)",
      "Cell \u001b[0;32mIn[46], line 1\u001b[0m\n\u001b[0;32m----> 1\u001b[0m \u001b[43msvc_atk_pred\u001b[49m\u001b[38;5;241;43m.\u001b[39;49m\u001b[43munique\u001b[49m()\n",
      "\u001b[0;31mAttributeError\u001b[0m: 'numpy.ndarray' object has no attribute 'unique'"
     ]
    }
   ],
   "source": []
  },
  {
   "cell_type": "code",
   "execution_count": null,
   "id": "8c4d3e64",
   "metadata": {},
   "outputs": [],
   "source": []
  }
 ],
 "metadata": {
  "kernelspec": {
   "display_name": "Python 3.8 (ipykernel)",
   "language": "python",
   "name": "python3"
  },
  "language_info": {
   "codemirror_mode": {
    "name": "ipython",
    "version": 3
   },
   "file_extension": ".py",
   "mimetype": "text/x-python",
   "name": "python",
   "nbconvert_exporter": "python",
   "pygments_lexer": "ipython3",
   "version": "3.8.16"
  }
 },
 "nbformat": 4,
 "nbformat_minor": 5
}
