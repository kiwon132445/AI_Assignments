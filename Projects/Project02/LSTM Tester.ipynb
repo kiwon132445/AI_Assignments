{
 "cells": [
  {
   "cell_type": "code",
   "execution_count": 1,
   "id": "480a5e34",
   "metadata": {},
   "outputs": [],
   "source": [
    "#from Bi_LSTM import *\n",
    "from Yelp_Manager import *"
   ]
  },
  {
   "cell_type": "code",
   "execution_count": 4,
   "id": "1409d7cd",
   "metadata": {},
   "outputs": [],
   "source": [
    "device = torch.device('cuda' if torch.cuda.is_available() else 'cpu')\n",
    "START_TAG = \"<START>\"\n",
    "STOP_TAG = \"<STOP>\"\n",
    "\n",
    "sType_to_index = {'stars':0, 'useful':1, 'funny':2, 'cool':3, START_TAG: 4, STOP_TAG: 5}"
   ]
  },
  {
   "cell_type": "code",
   "execution_count": 10,
   "id": "42a06786",
   "metadata": {},
   "outputs": [],
   "source": [
    "yelp = Yelp_Manager(nrows=10000)\n",
    "yelp.initialize()\n",
    "yelp.preprocess_dataset()"
   ]
  },
  {
   "cell_type": "code",
   "execution_count": 11,
   "id": "68b18f2b",
   "metadata": {},
   "outputs": [],
   "source": [
    "import torch\n",
    "import torch.autograd as autograd\n",
    "import torch.nn as nn\n",
    "import torch.optim as optim\n",
    "from sklearn.metrics import f1_score "
   ]
  },
  {
   "cell_type": "code",
   "execution_count": 21,
   "id": "a96f8d81",
   "metadata": {},
   "outputs": [],
   "source": [
    "tensor = torch.tensor(yelp.nlp(yelp.x['text'][0][0]).vector)"
   ]
  },
  {
   "cell_type": "code",
   "execution_count": 22,
   "id": "e7ea4634",
   "metadata": {},
   "outputs": [
    {
     "data": {
      "text/plain": [
       "torch.Size([300])"
      ]
     },
     "execution_count": 22,
     "metadata": {},
     "output_type": "execute_result"
    }
   ],
   "source": [
    "tensor.shape"
   ]
  },
  {
   "cell_type": "code",
   "execution_count": null,
   "id": "7d660ef5",
   "metadata": {},
   "outputs": [],
   "source": []
  }
 ],
 "metadata": {
  "kernelspec": {
   "display_name": "Python 3.8 (ipykernel)",
   "language": "python",
   "name": "python3"
  },
  "language_info": {
   "codemirror_mode": {
    "name": "ipython",
    "version": 3
   },
   "file_extension": ".py",
   "mimetype": "text/x-python",
   "name": "python",
   "nbconvert_exporter": "python",
   "pygments_lexer": "ipython3",
   "version": "3.8.16"
  }
 },
 "nbformat": 4,
 "nbformat_minor": 5
}
