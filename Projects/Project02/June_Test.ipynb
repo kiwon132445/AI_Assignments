{
 "cells": [
  {
   "cell_type": "code",
   "execution_count": 1,
   "id": "3147d21e",
   "metadata": {},
   "outputs": [
    {
     "ename": "FileNotFoundError",
     "evalue": "File yelp_academic_dataset_review(word_embedded).json does not exist",
     "output_type": "error",
     "traceback": [
      "\u001b[0;31m---------------------------------------------------------------------------\u001b[0m",
      "\u001b[0;31mFileNotFoundError\u001b[0m                         Traceback (most recent call last)",
      "Cell \u001b[0;32mIn[1], line 15\u001b[0m\n\u001b[1;32m     12\u001b[0m irrelevant_columns \u001b[38;5;241m=\u001b[39m [\u001b[38;5;124m'\u001b[39m\u001b[38;5;124mreview_id\u001b[39m\u001b[38;5;124m'\u001b[39m, \u001b[38;5;124m'\u001b[39m\u001b[38;5;124muser_id\u001b[39m\u001b[38;5;124m'\u001b[39m, \u001b[38;5;124m'\u001b[39m\u001b[38;5;124mbusiness_id\u001b[39m\u001b[38;5;124m'\u001b[39m, \u001b[38;5;124m'\u001b[39m\u001b[38;5;124mdate\u001b[39m\u001b[38;5;124m'\u001b[39m]\n\u001b[1;32m     13\u001b[0m output_columns \u001b[38;5;241m=\u001b[39m [\u001b[38;5;124m'\u001b[39m\u001b[38;5;124mstars\u001b[39m\u001b[38;5;124m'\u001b[39m, \u001b[38;5;124m'\u001b[39m\u001b[38;5;124museful\u001b[39m\u001b[38;5;124m'\u001b[39m, \u001b[38;5;124m'\u001b[39m\u001b[38;5;124mfunny\u001b[39m\u001b[38;5;124m'\u001b[39m, \u001b[38;5;124m'\u001b[39m\u001b[38;5;124mcool\u001b[39m\u001b[38;5;124m'\u001b[39m]\n\u001b[0;32m---> 15\u001b[0m yelpx \u001b[38;5;241m=\u001b[39m \u001b[43mpd\u001b[49m\u001b[38;5;241;43m.\u001b[39;49m\u001b[43mread_json\u001b[49m\u001b[43m(\u001b[49m\u001b[38;5;124;43m'\u001b[39;49m\u001b[38;5;124;43myelp_academic_dataset_review(word_embedded).json\u001b[39;49m\u001b[38;5;124;43m'\u001b[39;49m\u001b[43m,\u001b[49m\u001b[43m \u001b[49m\u001b[43mlines\u001b[49m\u001b[38;5;241;43m=\u001b[39;49m\u001b[38;5;28;43;01mTrue\u001b[39;49;00m\u001b[43m,\u001b[49m\u001b[43m \u001b[49m\u001b[43mnrows\u001b[49m\u001b[38;5;241;43m=\u001b[39;49m\u001b[38;5;241;43m50000\u001b[39;49m\u001b[43m)\u001b[49m\n\u001b[1;32m     16\u001b[0m yelpy \u001b[38;5;241m=\u001b[39m pd\u001b[38;5;241m.\u001b[39mread_json(\u001b[38;5;124m'\u001b[39m\u001b[38;5;124m./yelp_dataset/yelp_academic_dataset_review.json\u001b[39m\u001b[38;5;124m'\u001b[39m, lines\u001b[38;5;241m=\u001b[39m\u001b[38;5;28;01mTrue\u001b[39;00m, nrows\u001b[38;5;241m=\u001b[39m\u001b[38;5;241m50000\u001b[39m)\n\u001b[1;32m     19\u001b[0m \u001b[38;5;66;03m#columns\u001b[39;00m\n\u001b[1;32m     20\u001b[0m \u001b[38;5;66;03m#review_id user_id business_id stars useful funny cool text date\u001b[39;00m\n\u001b[1;32m     21\u001b[0m \n\u001b[1;32m     22\u001b[0m \u001b[38;5;66;03m#     self.yelp['review_id'] = self.yelp['review_id'].astype('str')\u001b[39;00m\n\u001b[1;32m     23\u001b[0m \u001b[38;5;66;03m#     self.yelp['user_id'] = self.yelp['user_id'].astype('str')\u001b[39;00m\n\u001b[1;32m     24\u001b[0m \u001b[38;5;66;03m#     self.yelp['business_id'] = self.yelp['business_id'].astype('str')\u001b[39;00m\n",
      "File \u001b[0;32m~/.local/lib/python3.8/site-packages/pandas/util/_decorators.py:211\u001b[0m, in \u001b[0;36mdeprecate_kwarg.<locals>._deprecate_kwarg.<locals>.wrapper\u001b[0;34m(*args, **kwargs)\u001b[0m\n\u001b[1;32m    209\u001b[0m     \u001b[38;5;28;01melse\u001b[39;00m:\n\u001b[1;32m    210\u001b[0m         kwargs[new_arg_name] \u001b[38;5;241m=\u001b[39m new_arg_value\n\u001b[0;32m--> 211\u001b[0m \u001b[38;5;28;01mreturn\u001b[39;00m \u001b[43mfunc\u001b[49m\u001b[43m(\u001b[49m\u001b[38;5;241;43m*\u001b[39;49m\u001b[43margs\u001b[49m\u001b[43m,\u001b[49m\u001b[43m \u001b[49m\u001b[38;5;241;43m*\u001b[39;49m\u001b[38;5;241;43m*\u001b[39;49m\u001b[43mkwargs\u001b[49m\u001b[43m)\u001b[49m\n",
      "File \u001b[0;32m~/.local/lib/python3.8/site-packages/pandas/util/_decorators.py:331\u001b[0m, in \u001b[0;36mdeprecate_nonkeyword_arguments.<locals>.decorate.<locals>.wrapper\u001b[0;34m(*args, **kwargs)\u001b[0m\n\u001b[1;32m    325\u001b[0m \u001b[38;5;28;01mif\u001b[39;00m \u001b[38;5;28mlen\u001b[39m(args) \u001b[38;5;241m>\u001b[39m num_allow_args:\n\u001b[1;32m    326\u001b[0m     warnings\u001b[38;5;241m.\u001b[39mwarn(\n\u001b[1;32m    327\u001b[0m         msg\u001b[38;5;241m.\u001b[39mformat(arguments\u001b[38;5;241m=\u001b[39m_format_argument_list(allow_args)),\n\u001b[1;32m    328\u001b[0m         \u001b[38;5;167;01mFutureWarning\u001b[39;00m,\n\u001b[1;32m    329\u001b[0m         stacklevel\u001b[38;5;241m=\u001b[39mfind_stack_level(),\n\u001b[1;32m    330\u001b[0m     )\n\u001b[0;32m--> 331\u001b[0m \u001b[38;5;28;01mreturn\u001b[39;00m \u001b[43mfunc\u001b[49m\u001b[43m(\u001b[49m\u001b[38;5;241;43m*\u001b[39;49m\u001b[43margs\u001b[49m\u001b[43m,\u001b[49m\u001b[43m \u001b[49m\u001b[38;5;241;43m*\u001b[39;49m\u001b[38;5;241;43m*\u001b[39;49m\u001b[43mkwargs\u001b[49m\u001b[43m)\u001b[49m\n",
      "File \u001b[0;32m~/.local/lib/python3.8/site-packages/pandas/io/json/_json.py:733\u001b[0m, in \u001b[0;36mread_json\u001b[0;34m(path_or_buf, orient, typ, dtype, convert_axes, convert_dates, keep_default_dates, numpy, precise_float, date_unit, encoding, encoding_errors, lines, chunksize, compression, nrows, storage_options)\u001b[0m\n\u001b[1;32m    730\u001b[0m \u001b[38;5;28;01mif\u001b[39;00m convert_axes \u001b[38;5;129;01mis\u001b[39;00m \u001b[38;5;28;01mNone\u001b[39;00m \u001b[38;5;129;01mand\u001b[39;00m orient \u001b[38;5;241m!=\u001b[39m \u001b[38;5;124m\"\u001b[39m\u001b[38;5;124mtable\u001b[39m\u001b[38;5;124m\"\u001b[39m:\n\u001b[1;32m    731\u001b[0m     convert_axes \u001b[38;5;241m=\u001b[39m \u001b[38;5;28;01mTrue\u001b[39;00m\n\u001b[0;32m--> 733\u001b[0m json_reader \u001b[38;5;241m=\u001b[39m \u001b[43mJsonReader\u001b[49m\u001b[43m(\u001b[49m\n\u001b[1;32m    734\u001b[0m \u001b[43m    \u001b[49m\u001b[43mpath_or_buf\u001b[49m\u001b[43m,\u001b[49m\n\u001b[1;32m    735\u001b[0m \u001b[43m    \u001b[49m\u001b[43morient\u001b[49m\u001b[38;5;241;43m=\u001b[39;49m\u001b[43morient\u001b[49m\u001b[43m,\u001b[49m\n\u001b[1;32m    736\u001b[0m \u001b[43m    \u001b[49m\u001b[43mtyp\u001b[49m\u001b[38;5;241;43m=\u001b[39;49m\u001b[43mtyp\u001b[49m\u001b[43m,\u001b[49m\n\u001b[1;32m    737\u001b[0m \u001b[43m    \u001b[49m\u001b[43mdtype\u001b[49m\u001b[38;5;241;43m=\u001b[39;49m\u001b[43mdtype\u001b[49m\u001b[43m,\u001b[49m\n\u001b[1;32m    738\u001b[0m \u001b[43m    \u001b[49m\u001b[43mconvert_axes\u001b[49m\u001b[38;5;241;43m=\u001b[39;49m\u001b[43mconvert_axes\u001b[49m\u001b[43m,\u001b[49m\n\u001b[1;32m    739\u001b[0m \u001b[43m    \u001b[49m\u001b[43mconvert_dates\u001b[49m\u001b[38;5;241;43m=\u001b[39;49m\u001b[43mconvert_dates\u001b[49m\u001b[43m,\u001b[49m\n\u001b[1;32m    740\u001b[0m \u001b[43m    \u001b[49m\u001b[43mkeep_default_dates\u001b[49m\u001b[38;5;241;43m=\u001b[39;49m\u001b[43mkeep_default_dates\u001b[49m\u001b[43m,\u001b[49m\n\u001b[1;32m    741\u001b[0m \u001b[43m    \u001b[49m\u001b[43mnumpy\u001b[49m\u001b[38;5;241;43m=\u001b[39;49m\u001b[43mnumpy\u001b[49m\u001b[43m,\u001b[49m\n\u001b[1;32m    742\u001b[0m \u001b[43m    \u001b[49m\u001b[43mprecise_float\u001b[49m\u001b[38;5;241;43m=\u001b[39;49m\u001b[43mprecise_float\u001b[49m\u001b[43m,\u001b[49m\n\u001b[1;32m    743\u001b[0m \u001b[43m    \u001b[49m\u001b[43mdate_unit\u001b[49m\u001b[38;5;241;43m=\u001b[39;49m\u001b[43mdate_unit\u001b[49m\u001b[43m,\u001b[49m\n\u001b[1;32m    744\u001b[0m \u001b[43m    \u001b[49m\u001b[43mencoding\u001b[49m\u001b[38;5;241;43m=\u001b[39;49m\u001b[43mencoding\u001b[49m\u001b[43m,\u001b[49m\n\u001b[1;32m    745\u001b[0m \u001b[43m    \u001b[49m\u001b[43mlines\u001b[49m\u001b[38;5;241;43m=\u001b[39;49m\u001b[43mlines\u001b[49m\u001b[43m,\u001b[49m\n\u001b[1;32m    746\u001b[0m \u001b[43m    \u001b[49m\u001b[43mchunksize\u001b[49m\u001b[38;5;241;43m=\u001b[39;49m\u001b[43mchunksize\u001b[49m\u001b[43m,\u001b[49m\n\u001b[1;32m    747\u001b[0m \u001b[43m    \u001b[49m\u001b[43mcompression\u001b[49m\u001b[38;5;241;43m=\u001b[39;49m\u001b[43mcompression\u001b[49m\u001b[43m,\u001b[49m\n\u001b[1;32m    748\u001b[0m \u001b[43m    \u001b[49m\u001b[43mnrows\u001b[49m\u001b[38;5;241;43m=\u001b[39;49m\u001b[43mnrows\u001b[49m\u001b[43m,\u001b[49m\n\u001b[1;32m    749\u001b[0m \u001b[43m    \u001b[49m\u001b[43mstorage_options\u001b[49m\u001b[38;5;241;43m=\u001b[39;49m\u001b[43mstorage_options\u001b[49m\u001b[43m,\u001b[49m\n\u001b[1;32m    750\u001b[0m \u001b[43m    \u001b[49m\u001b[43mencoding_errors\u001b[49m\u001b[38;5;241;43m=\u001b[39;49m\u001b[43mencoding_errors\u001b[49m\u001b[43m,\u001b[49m\n\u001b[1;32m    751\u001b[0m \u001b[43m\u001b[49m\u001b[43m)\u001b[49m\n\u001b[1;32m    753\u001b[0m \u001b[38;5;28;01mif\u001b[39;00m chunksize:\n\u001b[1;32m    754\u001b[0m     \u001b[38;5;28;01mreturn\u001b[39;00m json_reader\n",
      "File \u001b[0;32m~/.local/lib/python3.8/site-packages/pandas/io/json/_json.py:818\u001b[0m, in \u001b[0;36mJsonReader.__init__\u001b[0;34m(self, filepath_or_buffer, orient, typ, dtype, convert_axes, convert_dates, keep_default_dates, numpy, precise_float, date_unit, encoding, lines, chunksize, compression, nrows, storage_options, encoding_errors)\u001b[0m\n\u001b[1;32m    815\u001b[0m     \u001b[38;5;28;01mif\u001b[39;00m \u001b[38;5;129;01mnot\u001b[39;00m \u001b[38;5;28mself\u001b[39m\u001b[38;5;241m.\u001b[39mlines:\n\u001b[1;32m    816\u001b[0m         \u001b[38;5;28;01mraise\u001b[39;00m \u001b[38;5;167;01mValueError\u001b[39;00m(\u001b[38;5;124m\"\u001b[39m\u001b[38;5;124mnrows can only be passed if lines=True\u001b[39m\u001b[38;5;124m\"\u001b[39m)\n\u001b[0;32m--> 818\u001b[0m data \u001b[38;5;241m=\u001b[39m \u001b[38;5;28;43mself\u001b[39;49m\u001b[38;5;241;43m.\u001b[39;49m\u001b[43m_get_data_from_filepath\u001b[49m\u001b[43m(\u001b[49m\u001b[43mfilepath_or_buffer\u001b[49m\u001b[43m)\u001b[49m\n\u001b[1;32m    819\u001b[0m \u001b[38;5;28mself\u001b[39m\u001b[38;5;241m.\u001b[39mdata \u001b[38;5;241m=\u001b[39m \u001b[38;5;28mself\u001b[39m\u001b[38;5;241m.\u001b[39m_preprocess_data(data)\n",
      "File \u001b[0;32m~/.local/lib/python3.8/site-packages/pandas/io/json/_json.py:874\u001b[0m, in \u001b[0;36mJsonReader._get_data_from_filepath\u001b[0;34m(self, filepath_or_buffer)\u001b[0m\n\u001b[1;32m    866\u001b[0m     filepath_or_buffer \u001b[38;5;241m=\u001b[39m \u001b[38;5;28mself\u001b[39m\u001b[38;5;241m.\u001b[39mhandles\u001b[38;5;241m.\u001b[39mhandle\n\u001b[1;32m    867\u001b[0m \u001b[38;5;28;01melif\u001b[39;00m (\n\u001b[1;32m    868\u001b[0m     \u001b[38;5;28misinstance\u001b[39m(filepath_or_buffer, \u001b[38;5;28mstr\u001b[39m)\n\u001b[1;32m    869\u001b[0m     \u001b[38;5;129;01mand\u001b[39;00m filepath_or_buffer\u001b[38;5;241m.\u001b[39mlower()\u001b[38;5;241m.\u001b[39mendswith(\n\u001b[0;32m   (...)\u001b[0m\n\u001b[1;32m    872\u001b[0m     \u001b[38;5;129;01mand\u001b[39;00m \u001b[38;5;129;01mnot\u001b[39;00m file_exists(filepath_or_buffer)\n\u001b[1;32m    873\u001b[0m ):\n\u001b[0;32m--> 874\u001b[0m     \u001b[38;5;28;01mraise\u001b[39;00m \u001b[38;5;167;01mFileNotFoundError\u001b[39;00m(\u001b[38;5;124mf\u001b[39m\u001b[38;5;124m\"\u001b[39m\u001b[38;5;124mFile \u001b[39m\u001b[38;5;132;01m{\u001b[39;00mfilepath_or_buffer\u001b[38;5;132;01m}\u001b[39;00m\u001b[38;5;124m does not exist\u001b[39m\u001b[38;5;124m\"\u001b[39m)\n\u001b[1;32m    876\u001b[0m \u001b[38;5;28;01mreturn\u001b[39;00m filepath_or_buffer\n",
      "\u001b[0;31mFileNotFoundError\u001b[0m: File yelp_academic_dataset_review(word_embedded).json does not exist"
     ]
    }
   ],
   "source": [
    "import pandas as pd\n",
    "import sklearn\n",
    "import pickle\n",
    "import os.path\n",
    "import json\n",
    "import torch\n",
    "\n",
    "from sklearn import preprocessing\n",
    "from sklearn.model_selection import train_test_split\n",
    "\n",
    "input_columns = ['text']\n",
    "irrelevant_columns = ['review_id', 'user_id', 'business_id', 'date']\n",
    "output_columns = ['stars', 'useful', 'funny', 'cool']\n",
    "\n",
    "yelpx = pd.read_json('yelp_academic_dataset_review(word_embedded).json', lines=True, nrows=50000)\n",
    "yelpy = pd.read_json('./yelp_dataset/yelp_academic_dataset_review.json', lines=True, nrows=50000)\n",
    "\n",
    "\n",
    "#columns\n",
    "#review_id user_id business_id stars useful funny cool text date\n",
    "\n",
    "#     self.yelp['review_id'] = self.yelp['review_id'].astype('str')\n",
    "#     self.yelp['user_id'] = self.yelp['user_id'].astype('str')\n",
    "#     self.yelp['business_id'] = self.yelp['business_id'].astype('str')\n",
    "\n",
    "yelpx['text'] = yelpx['text'].astype('str')\n",
    "yelpy = yelpy.drop(columns=irrelevant_columns)\n",
    "yelpy = yelpy.drop(columns=input_columns)"
   ]
  },
  {
   "cell_type": "code",
   "execution_count": null,
   "id": "1d0a1452",
   "metadata": {},
   "outputs": [],
   "source": [
    "x = yelpx\n",
    "y = yelpy\n",
    "\n",
    "y_stars = y.drop(columns=['useful', 'funny', 'cool'])\n",
    "y_useful = y.drop(columns=['stars', 'funny', 'cool'])\n",
    "y_funny = y.drop(columns=['stars', 'useful', 'cool'])\n",
    "y_cool = y.drop(columns=['stars', 'useful', 'funny'])"
   ]
  },
  {
   "cell_type": "code",
   "execution_count": null,
   "id": "7abf88bb",
   "metadata": {},
   "outputs": [],
   "source": [
    "from sklearn.feature_extraction.text import CountVectorizer\n",
    "\n",
    "v = CountVectorizer()\n",
    "x = v.fit_transform(x['text'])"
   ]
  },
  {
   "cell_type": "code",
   "execution_count": null,
   "id": "880c8984",
   "metadata": {},
   "outputs": [],
   "source": [
    "x_train_stars, x_remaining_stars, y_train_stars, y_remaining_stars = train_test_split(x, y_stars, train_size=0.8) \n",
    "x_train_useful, x_remaining_useful, y_train_useful, y_remaining_useful = train_test_split(x, y_useful, train_size=0.8) \n",
    "x_train_funny, x_remaining_funny, y_train_funny, y_remaining_funny = train_test_split(x, y_funny, train_size=0.8) \n",
    "x_train_cool, x_remaining_cool, y_train_cool, y_remaining_cool = train_test_split(x, y_cool, train_size=0.8) "
   ]
  },
  {
   "cell_type": "code",
   "execution_count": null,
   "id": "12fa7866",
   "metadata": {},
   "outputs": [],
   "source": [
    "from sklearn.ensemble import RandomForestClassifier\n",
    "\n",
    "import numpy as np\n",
    "\n",
    "rf = RandomForestClassifier(max_depth=10)\n",
    "rf2 = RandomForestClassifier(max_depth=10)\n",
    "rf3 = RandomForestClassifier(max_depth=10)\n",
    "rf4 = RandomForestClassifier(max_depth=10)\n",
    "\n",
    "y_train_stars = np.ravel(y_train_stars)\n",
    "y_train_useful = np.ravel(y_train_useful)\n",
    "y_train_funny = np.ravel(y_train_funny)\n",
    "y_train_cool = np.ravel(y_train_cool)\n",
    "\n",
    "rf_fit_stars = rf.fit(x_train_stars, y_train_stars)\n",
    "rf_fit_useful = rf2.fit(x_train_useful, y_train_useful)\n",
    "rf_fit_funny = rf3.fit(x_train_funny, y_train_funny)\n",
    "rf_fit_cool = rf4.fit(x_train_cool, y_train_cool)"
   ]
  },
  {
   "cell_type": "code",
   "execution_count": null,
   "id": "e9cc70a5",
   "metadata": {},
   "outputs": [],
   "source": [
    "y_pred_class_RF_stars = rf.predict(x_remaining_stars)\n",
    "y_pred_class_RF_useful = rf2.predict(x_remaining_useful)\n",
    "y_pred_class_RF_funny = rf3.predict(x_remaining_funny)\n",
    "y_pred_class_RF_cool = rf4.predict(x_remaining_cool)"
   ]
  },
  {
   "cell_type": "code",
   "execution_count": null,
   "id": "4aa237cf",
   "metadata": {
    "scrolled": true
   },
   "outputs": [],
   "source": [
    "from sklearn import metrics\n",
    "from sklearn.metrics import classification_report\n",
    "\n",
    "score_stars = metrics.accuracy_score(y_remaining_stars, y_pred_class_RF_stars)\n",
    "score_useful = metrics.accuracy_score(y_remaining_useful, y_pred_class_RF_useful)\n",
    "score_funny = metrics.accuracy_score(y_remaining_funny, y_pred_class_RF_funny)\n",
    "score_cool = metrics.accuracy_score(y_remaining_cool, y_pred_class_RF_cool)"
   ]
  },
  {
   "cell_type": "code",
   "execution_count": null,
   "id": "7ce4fe5f",
   "metadata": {},
   "outputs": [],
   "source": [
    "from tabulate import tabulate\n",
    "\n",
    "table_RFC = ['Score (Stars)', 'Score (Useful)', 'Score (Funny)', 'Score (Cool)'], [score_stars, score_useful, score_funny, score_cool]\n",
    "\n",
    "print('Table For RandomForestClassifier \\n')\n",
    "print(tabulate(table, headers='firstrow'))"
   ]
  },
  {
   "cell_type": "code",
   "execution_count": null,
   "id": "74583b9e",
   "metadata": {},
   "outputs": [],
   "source": [
    "from sklearn.neighbors import KNeighborsClassifier\n",
    "\n",
    "KNN = KNeighborsClassifier()\n",
    "KNN2 = KNeighborsClassifier()\n",
    "KNN3 = KNeighborsClassifier()\n",
    "KNN4 = KNeighborsClassifier()\n",
    "\n",
    "KNN_fit_stars = KNN.fit(x_train_stars, y_train_stars)\n",
    "KNN_fit_useful = KNN2.fit(x_train_useful, y_train_useful)\n",
    "KNN_fit_funny = KNN3.fit(x_train_funny, y_train_funny)\n",
    "KNN_fit_cool = KNN4.fit(x_train_cool, y_train_cool)"
   ]
  },
  {
   "cell_type": "code",
   "execution_count": null,
   "id": "a46cbd6d",
   "metadata": {},
   "outputs": [],
   "source": [
    "y_pred_class_KNN_stars = KNN.predict(x_remaining_stars)\n",
    "y_pred_class_KNN_useful = KNN2.predict(x_remaining_useful)\n",
    "y_pred_class_KNN_funny = KNN3.predict(x_remaining_funny)\n",
    "y_pred_class_KNN_cool = KNN4.predict(x_remaining_cool)"
   ]
  },
  {
   "cell_type": "code",
   "execution_count": null,
   "id": "ea23afa3",
   "metadata": {},
   "outputs": [],
   "source": [
    "score_stars_KNN = metrics.accuracy_score(y_remaining_stars, y_pred_class_KNN_stars)\n",
    "score_useful_KNN = metrics.accuracy_score(y_remaining_useful, y_pred_class_KNN_useful)\n",
    "score_funny_KNN = metrics.accuracy_score(y_remaining_funny, y_pred_class_KNN_funny)\n",
    "score_cool_KNN = metrics.accuracy_score(y_remaining_cool, y_pred_class_KNN_cool)\n",
    "\n",
    "table_KNN = ['Score (Stars)', 'Score (Useful)', 'Score (Funny)', 'Score (Cool)'], [score_stars_KNN, score_useful_KNN, score_funny_KNN, score_cool_KNN]\n",
    "\n",
    "print('Table For K-Nearest Neighbour \\n')\n",
    "print(tabulate(table_KNN, headers='firstrow'))"
   ]
  },
  {
   "cell_type": "code",
   "execution_count": null,
   "id": "2aa6de6a",
   "metadata": {},
   "outputs": [],
   "source": [
    "concat_dataset = pd.concat([yelpx, yelpy], axis=1)\n",
    "concat_dataset = concat_dataset[concat_dataset.stars != 1]\n",
    "\n",
    "x_concat_dataset = concat_dataset.drop(columns=output_columns)\n",
    "\n",
    "y_concat_dataset_stars = concat_dataset.drop(columns=['useful', 'funny', 'cool', 'text'])\n",
    "y_concat_dataset_useful = concat_dataset.drop(columns=['stars', 'funny', 'cool', 'text'])\n",
    "y_concat_dataset_funny = concat_dataset.drop(columns=['useful', 'stars', 'cool', 'text'])\n",
    "y_concat_dataset_cool = concat_dataset.drop(columns=['useful', 'funny', 'stars', 'text'])\n",
    "\n",
    "x_concat_dataset = v.fit_transform(x_concat_dataset['text'])"
   ]
  },
  {
   "cell_type": "code",
   "execution_count": null,
   "id": "09ca172f",
   "metadata": {},
   "outputs": [],
   "source": [
    "x_train_concat_dataset, x_remaining_concat_dataset, y_train_concat_dataset_stars, y_remaining_concat_dataset_stars, y_train_concat_dataset_useful, y_remaining_concat_dataset_useful, y_train_concat_dataset_funny, y_remaining_concat_dataset_funny, y_train_concat_dataset_cool, y_remaining_concat_dataset_cool = train_test_split(x_concat_dataset, y_concat_dataset_stars, y_concat_dataset_useful, y_concat_dataset_funny, y_concat_dataset_cool, train_size=0.8)\n",
    "\n"
   ]
  },
  {
   "cell_type": "code",
   "execution_count": null,
   "id": "de027728",
   "metadata": {},
   "outputs": [],
   "source": [
    "y_train_concat_dataset = np.ravel(y_train_concat_dataset)\n",
    "\n",
    "rf5 = RandomForestClassifier(max_depth=10)\n",
    "rf6 = RandomForestClassifier(max_depth=10)\n",
    "rf7 = RandomForestClassifier(max_depth=10)\n",
    "rf8 = RandomForestClassifier(max_depth=10)\n",
    "\n",
    "y_train_concat_dataset_stars = np.ravel(y_train_concat_dataset_stars)\n",
    "y_train_concat_dataset_useful = np.ravel(y_train_concat_dataset_useful)\n",
    "y_train_concat_dataset_funny = np.ravel(y_train_concat_dataset_funny)\n",
    "y_train_concat_dataset_cool = np.ravel(y_train_concat_dataset_cool)\n",
    "\n",
    "rf5.fit(x_train_concat_dataset, y_train_concat_dataset_stars)\n",
    "rf6.fit(x_train_concat_dataset, y_train_concat_dataset_useful)\n",
    "rf7.fit(x_train_concat_dataset, y_train_concat_dataset_funny)\n",
    "rf8.fit(x_train_concat_dataset, y_train_concat_dataset_cool)"
   ]
  },
  {
   "cell_type": "code",
   "execution_count": null,
   "id": "7c00f862",
   "metadata": {},
   "outputs": [],
   "source": [
    "y_pred_concat_dataset_stars = rf5.predict(x_remaining_concat_dataset)\n",
    "y_pred_concat_dataset_useful = rf6.predict(x_remaining_concat_dataset)\n",
    "y_pred_concat_dataset_funny = rf7.predict(x_remaining_concat_dataset)\n",
    "y_pred_concat_dataset_cool = rf8.predict(x_remaining_concat_dataset)"
   ]
  },
  {
   "cell_type": "code",
   "execution_count": null,
   "id": "813ed85b",
   "metadata": {},
   "outputs": [],
   "source": [
    "score_concat_RF_stars = metrics.accuracy_score(y_remaining_concat_dataset_stars, y_pred_concat_dataset_stars)\n",
    "score_concat_RF_useful = metrics.accuracy_score(y_remaining_concat_dataset_useful, y_pred_concat_dataset_useful)\n",
    "score_concat_RF_funny = metrics.accuracy_score(y_remaining_concat_dataset_funny, y_pred_concat_dataset_funny)\n",
    "score_concat_RF_cool = metrics.accuracy_score(y_remaining_concat_dataset_cool, y_pred_concat_dataset_cool)\n",
    "\n",
    "table_RF_concat = ['Score (Stars)', 'Score (Useful)', 'Score (Funny)', 'Score (Cool)'], [score_concat_RF_stars, score_concat_RF_useful, score_concat_RF_funny, score_concat_RF_cool]\n",
    "\n",
    "print('Table For Random Forest Classifier')\n",
    "print('with elimination of all stars ratings of 1 \\n')\n",
    "print(tabulate(table_RF_concat, headers='firstrow'))"
   ]
  },
  {
   "cell_type": "code",
   "execution_count": null,
   "id": "ce67cba4",
   "metadata": {},
   "outputs": [],
   "source": [
    "KNN5 = KNeighborsClassifier()\n",
    "KNN6 = KNeighborsClassifier()\n",
    "KNN7 = KNeighborsClassifier()\n",
    "KNN8 = KNeighborsClassifier()\n",
    "\n",
    "KNN_fit_stars = KNN5.fit(x_train_concat_dataset, y_train_concat_dataset_stars)\n",
    "KNN_fit_useful = KNN6.fit(x_train_concat_dataset, y_train_concat_dataset_useful)\n",
    "KNN_fit_funny = KNN7.fit(x_train_concat_dataset, y_train_concat_dataset_funny)\n",
    "KNN_fit_cool = KNN8.fit(x_train_concat_dataset, y_train_concat_dataset_cool)"
   ]
  },
  {
   "cell_type": "code",
   "execution_count": null,
   "id": "074ae472",
   "metadata": {},
   "outputs": [],
   "source": [
    "y_pred_KNN_concat_dataset_stars = KNN5.predict(x_remaining_concat_dataset)\n",
    "y_pred_KNN_concat_dataset_useful = KNN6.predict(x_remaining_concat_dataset)\n",
    "y_pred_KNN_concat_dataset_funny = KNN7.predict(x_remaining_concat_dataset)\n",
    "y_pred_KNN_concat_dataset_cool = KNN8.predict(x_remaining_concat_dataset)"
   ]
  },
  {
   "cell_type": "code",
   "execution_count": null,
   "id": "83cc3aae",
   "metadata": {},
   "outputs": [],
   "source": [
    "score_concat_KNN_stars = metrics.accuracy_score(y_remaining_concat_dataset_stars, y_pred_KNN_concat_dataset_stars)\n",
    "score_concat_KNN_useful = metrics.accuracy_score(y_remaining_concat_dataset_useful, y_pred_KNN_concat_dataset_useful)\n",
    "score_concat_KNN_funny = metrics.accuracy_score(y_remaining_concat_dataset_funny, y_pred_KNN_concat_dataset_funny)\n",
    "score_concat_KNN_cool = metrics.accuracy_score(y_remaining_concat_dataset_cool, y_pred_KNN_concat_dataset_cool)\n",
    "\n",
    "table_KNN_concat = ['Score (Stars)', 'Score (Useful)', 'Score (Funny)', 'Score (Cool)'], [score_concat_KNN_stars, score_concat_KNN_useful, score_concat_KNN_funny, score_concat_KNN_cool]\n",
    "\n",
    "print('Table For K-Nearest Neighbour')\n",
    "print('with elimination of all stars ratings of 1 \\n')\n",
    "print(tabulate(table_KNN_concat, headers='firstrow'))"
   ]
  },
  {
   "cell_type": "code",
   "execution_count": null,
   "id": "7bb8789d",
   "metadata": {},
   "outputs": [],
   "source": []
  }
 ],
 "metadata": {
  "kernelspec": {
   "display_name": "Python 3.8 (ipykernel)",
   "language": "python",
   "name": "python3"
  },
  "language_info": {
   "codemirror_mode": {
    "name": "ipython",
    "version": 3
   },
   "file_extension": ".py",
   "mimetype": "text/x-python",
   "name": "python",
   "nbconvert_exporter": "python",
   "pygments_lexer": "ipython3",
   "version": "3.8.16"
  }
 },
 "nbformat": 4,
 "nbformat_minor": 5
}
