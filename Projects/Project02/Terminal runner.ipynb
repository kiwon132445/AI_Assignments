{
 "cells": [
  {
   "cell_type": "code",
   "execution_count": 1,
   "id": "e875c6ff",
   "metadata": {},
   "outputs": [],
   "source": [
    "from Yelp_Manager import *"
   ]
  },
  {
   "cell_type": "code",
   "execution_count": 2,
   "id": "2628af49",
   "metadata": {},
   "outputs": [
    {
     "name": "stderr",
     "output_type": "stream",
     "text": [
      "Spacy cleaning: 100%|███████████████████████████████████████████████████████| 1000/1000 [00:04<00:00, 246.00it/s]\n",
      "Spacy Embedding text: 100%|█████████████████████████████████████████████████| 1000/1000 [00:03<00:00, 293.33it/s]\n",
      "Loss: 0.4605: 100%|████████████████████████████████████████████████████████████| 800/800 [00:10<00:00, 75.65it/s]\n"
     ]
    },
    {
     "name": "stdout",
     "output_type": "stream",
     "text": [
      "Epoch: 1  Complete\n",
      "End time:10 seconds\n"
     ]
    },
    {
     "name": "stderr",
     "output_type": "stream",
     "text": [
      "BI_LSTM Prediction: 100%|█████████████████████████████████████████████████████| 200/200 [00:00<00:00, 698.82it/s]"
     ]
    },
    {
     "name": "stdout",
     "output_type": "stream",
     "text": [
      "End time:0 seconds\n",
      "f1-score(Macro)\n",
      "\n",
      "stars : 34.13 %\n",
      "useful : 8.24 %\n",
      "funny : 15.10 %\n",
      "cool : 16.98 %\n"
     ]
    },
    {
     "name": "stderr",
     "output_type": "stream",
     "text": [
      "\n"
     ]
    }
   ],
   "source": [
    "yelp = Yelp_Manager('./yelp_dataset/yelp_academic_dataset_review.json', model=\"BILSTM\", model_path=\"\" , nrows=1000)\n",
    "yelp.run_model()"
   ]
  },
  {
   "cell_type": "code",
   "execution_count": null,
   "id": "e31fe845",
   "metadata": {},
   "outputs": [],
   "source": []
  }
 ],
 "metadata": {
  "kernelspec": {
   "display_name": "Python 3.8 (ipykernel)",
   "language": "python",
   "name": "python3"
  },
  "language_info": {
   "codemirror_mode": {
    "name": "ipython",
    "version": 3
   },
   "file_extension": ".py",
   "mimetype": "text/x-python",
   "name": "python",
   "nbconvert_exporter": "python",
   "pygments_lexer": "ipython3",
   "version": "3.8.16"
  }
 },
 "nbformat": 4,
 "nbformat_minor": 5
}
