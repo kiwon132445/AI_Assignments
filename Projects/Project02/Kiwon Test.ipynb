{
 "cells": [
  {
   "cell_type": "markdown",
   "id": "a7cf3026",
   "metadata": {},
   "source": [
    "# Used Sites\n",
    "\n",
    "Transformers tutorial - https://huggingface.co/course/chapter1/1?fw=pt\n",
    "\n",
    "Transformers pipeline tutorial - https://huggingface.co/docs/transformers/main/en/pipeline_tutorial\n",
    "\n",
    "https://stackoverflow.com/questions/62676136/extract-sentence-embeddings-features-with-pandas-and-spacy\n",
    "\n",
    "https://stackoverflow.com/questions/44395656/applying-spacy-parser-to-pandas-dataframe-w-multiprocessing\n",
    "\n",
    "https://prrao87.github.io/blog/spacy/nlp/performance/2020/05/02/spacy-multiprocess.html\n",
    "\n",
    "https://spacy.io/api/language#pipe\n",
    "\n",
    "https://www.nbshare.io/notebook/595607887/Understanding-Word-Embeddings-Using-Spacy-Python/\n",
    "\n",
    "### About Bi_LSTM\n",
    "\n",
    "##### code reference\n",
    "https://pytorch.org/tutorials/beginner/nlp/advanced_tutorial.html\n",
    "\n",
    "##### Hidden Layer\n",
    "https://ai.stackexchange.com/questions/3156/how-to-select-number-of-hidden-layers-and-number-of-memory-cells-in-an-lstm\n",
    "\n",
    "https://stats.stackexchange.com/questions/181/how-to-choose-the-number-of-hidden-layers-and-nodes-in-a-feedforward-neural-netw/136542#136542\n",
    "\n",
    "https://stackoverflow.com/questions/63294347/difference-between-hidden-dimension-and-n-layers-in-rnn-using-pytorch\n",
    "\n",
    "##### word embedding to tensor\n",
    "https://medium.com/@martinpella/how-to-use-pre-trained-word-embeddings-in-pytorch-71ca59249f76\n",
    "\n",
    "##### Pytorch\n",
    "https://pytorch.org/docs/stable/generated/torch.nn.LSTM.html#torch.nn.LSTM\n",
    "\n",
    "https://towardsdatascience.com/lstm-text-classification-using-pytorch-2c6c657f8fc0\n",
    "\n",
    "https://www.kaggle.com/code/arunmohan003/sentiment-analysis-using-lstm-pytorch/notebook\n",
    "\n",
    "https://www.kaggle.com/code/mlwhiz/bilstm-pytorch-and-keras\n",
    "\n",
    "https://discuss.pytorch.org/t/a-model-with-multiple-outputs/10440"
   ]
  },
  {
   "cell_type": "markdown",
   "id": "d2779230",
   "metadata": {},
   "source": [
    "# Quick access\n",
    "## Files\n",
    "Yelp - http://localhost:8888/edit/Projects/Project02/Yelp.py\n",
    "\n",
    "Yelp_Manager - http://localhost:8888/edit/Projects/Project02/Yelp_Manager.py\n",
    "\n",
    "## Sites\n",
    "Overleaf - https://www.overleaf.com/project/64114be1556eabd7416556c7\n",
    "\n",
    "Transformers tutorial - https://huggingface.co/course/chapter1/1?fw=pt\n",
    "\n",
    "Transformers pipeline tutorial - https://huggingface.co/docs/transformers/main/en/pipeline_tutorial"
   ]
  },
  {
   "cell_type": "code",
   "execution_count": 1,
   "id": "874322a4",
   "metadata": {
    "scrolled": true
   },
   "outputs": [],
   "source": [
    "from Yelp_Manager import *"
   ]
  },
  {
   "cell_type": "code",
   "execution_count": 2,
   "id": "96f0227c",
   "metadata": {},
   "outputs": [],
   "source": [
    "start = time.time()"
   ]
  },
  {
   "cell_type": "code",
   "execution_count": 3,
   "id": "3ad508ec",
   "metadata": {},
   "outputs": [],
   "source": [
    "yelp = Yelp_Manager(nrows = 10000)\n",
    "yelp.initialize() #194 seconds/7 million rows #5.5 seconds/100,000 rows"
   ]
  },
  {
   "cell_type": "code",
   "execution_count": 4,
   "id": "217993ee",
   "metadata": {},
   "outputs": [
    {
     "name": "stdout",
     "output_type": "stream",
     "text": [
      "2.811424732208252\n"
     ]
    }
   ],
   "source": [
    "end = time.time()\n",
    "print(end - start)"
   ]
  },
  {
   "cell_type": "code",
   "execution_count": 5,
   "id": "c42f9ffd",
   "metadata": {},
   "outputs": [
    {
     "data": {
      "text/html": [
       "<div>\n",
       "<style scoped>\n",
       "    .dataframe tbody tr th:only-of-type {\n",
       "        vertical-align: middle;\n",
       "    }\n",
       "\n",
       "    .dataframe tbody tr th {\n",
       "        vertical-align: top;\n",
       "    }\n",
       "\n",
       "    .dataframe thead th {\n",
       "        text-align: right;\n",
       "    }\n",
       "</style>\n",
       "<table border=\"1\" class=\"dataframe\">\n",
       "  <thead>\n",
       "    <tr style=\"text-align: right;\">\n",
       "      <th></th>\n",
       "      <th>stars</th>\n",
       "      <th>useful</th>\n",
       "      <th>funny</th>\n",
       "      <th>cool</th>\n",
       "      <th>text</th>\n",
       "    </tr>\n",
       "  </thead>\n",
       "  <tbody>\n",
       "    <tr>\n",
       "      <th>0</th>\n",
       "      <td>3</td>\n",
       "      <td>0</td>\n",
       "      <td>0</td>\n",
       "      <td>0</td>\n",
       "      <td>If you decide to eat here, just be aware it is...</td>\n",
       "    </tr>\n",
       "    <tr>\n",
       "      <th>1</th>\n",
       "      <td>5</td>\n",
       "      <td>1</td>\n",
       "      <td>0</td>\n",
       "      <td>1</td>\n",
       "      <td>I've taken a lot of spin classes over the year...</td>\n",
       "    </tr>\n",
       "    <tr>\n",
       "      <th>2</th>\n",
       "      <td>3</td>\n",
       "      <td>0</td>\n",
       "      <td>0</td>\n",
       "      <td>0</td>\n",
       "      <td>Family diner. Had the buffet. Eclectic assortm...</td>\n",
       "    </tr>\n",
       "    <tr>\n",
       "      <th>3</th>\n",
       "      <td>5</td>\n",
       "      <td>1</td>\n",
       "      <td>0</td>\n",
       "      <td>1</td>\n",
       "      <td>Wow!  Yummy, different,  delicious.   Our favo...</td>\n",
       "    </tr>\n",
       "    <tr>\n",
       "      <th>4</th>\n",
       "      <td>4</td>\n",
       "      <td>1</td>\n",
       "      <td>0</td>\n",
       "      <td>1</td>\n",
       "      <td>Cute interior and owner (?) gave us tour of up...</td>\n",
       "    </tr>\n",
       "  </tbody>\n",
       "</table>\n",
       "</div>"
      ],
      "text/plain": [
       "   stars  useful  funny  cool  \\\n",
       "0      3       0      0     0   \n",
       "1      5       1      0     1   \n",
       "2      3       0      0     0   \n",
       "3      5       1      0     1   \n",
       "4      4       1      0     1   \n",
       "\n",
       "                                                text  \n",
       "0  If you decide to eat here, just be aware it is...  \n",
       "1  I've taken a lot of spin classes over the year...  \n",
       "2  Family diner. Had the buffet. Eclectic assortm...  \n",
       "3  Wow!  Yummy, different,  delicious.   Our favo...  \n",
       "4  Cute interior and owner (?) gave us tour of up...  "
      ]
     },
     "execution_count": 5,
     "metadata": {},
     "output_type": "execute_result"
    }
   ],
   "source": [
    "yelp.yelp.head()"
   ]
  },
  {
   "cell_type": "code",
   "execution_count": 6,
   "id": "ba9c1e0a",
   "metadata": {},
   "outputs": [],
   "source": [
    "#yelp.x['text'].apply(yelp.nlp)\n",
    "#yelp.x.loc[0, 'text']"
   ]
  },
  {
   "cell_type": "code",
   "execution_count": 7,
   "id": "27e70983",
   "metadata": {},
   "outputs": [],
   "source": [
    "start = time.time()"
   ]
  },
  {
   "cell_type": "code",
   "execution_count": 8,
   "id": "fee9ba70",
   "metadata": {
    "scrolled": true
   },
   "outputs": [],
   "source": [
    "#yelp.x['vectors'] = yelp.spacy_vectorize(yelp.x) #121 seconds/100,000\n",
    "#vectors = yelp.count_vectorize(yelp.x) #5 seconds/100,000\n",
    "#yelp.x['text'].apply(yelp.nlp) #137/10,000\n",
    "yelp.preprocess_dataset() #95 seconds/100,000 #4636.126925468445 seconds/7 million records"
   ]
  },
  {
   "cell_type": "code",
   "execution_count": 9,
   "id": "3850d570",
   "metadata": {},
   "outputs": [
    {
     "name": "stdout",
     "output_type": "stream",
     "text": [
      "0.010332107543945312\n"
     ]
    }
   ],
   "source": [
    "end = time.time()\n",
    "print(end - start)"
   ]
  },
  {
   "cell_type": "code",
   "execution_count": 10,
   "id": "51d9b32c",
   "metadata": {},
   "outputs": [
    {
     "name": "stderr",
     "output_type": "stream",
     "text": [
      "100%|████████████████████████████████████████████████████████████████████| 10000/10000 [00:07<00:00, 1426.19it/s]"
     ]
    },
    {
     "name": "stdout",
     "output_type": "stream",
     "text": [
      "7.0305564403533936\n"
     ]
    },
    {
     "name": "stderr",
     "output_type": "stream",
     "text": [
      "\n"
     ]
    }
   ],
   "source": [
    "start = time.time()\n",
    "vectors = yelp.process_dataset()\n",
    "end = time.time()\n",
    "print(end - start)"
   ]
  },
  {
   "cell_type": "code",
   "execution_count": 19,
   "id": "63e9fe09",
   "metadata": {},
   "outputs": [
    {
     "data": {
      "text/plain": [
       "array([ 2.59533077e-01,  6.15821958e-01, -2.70504928e+00,  7.73243368e-01,\n",
       "        2.49547029e+00, -3.78035903e-02,  1.60754967e+00,  2.73325276e+00,\n",
       "       -1.16492522e+00,  5.20580709e-01,  4.43332577e+00,  1.18208253e+00,\n",
       "       -3.22358823e+00,  1.87032568e+00,  1.54542553e+00,  1.06399365e-01,\n",
       "        1.84181821e+00, -1.97504425e+00, -1.15630925e+00, -4.67649013e-01,\n",
       "       -3.21891576e-01,  1.21699154e+00, -3.35242212e-01, -1.45724326e-01,\n",
       "       -6.49009228e-01, -1.01037025e+00, -3.70766354e+00,  4.26466465e-02,\n",
       "        7.27801681e-01,  2.22434711e+00,  2.26981997e+00, -5.93068719e-01,\n",
       "        4.39979494e-01, -3.18841720e+00,  5.98777294e-01, -1.22055686e+00,\n",
       "        3.00151050e-01,  1.68816507e+00,  3.62878847e+00,  1.22049916e+00,\n",
       "       -5.60874760e-01,  6.67159259e-01,  1.38542747e+00, -5.39665103e-01,\n",
       "       -1.62107420e+00,  1.55294383e+00,  2.03577852e+00, -2.20076632e+00,\n",
       "        6.83920145e-01,  6.46316111e-01,  2.90640026e-01,  1.32958627e+00,\n",
       "       -3.90061706e-01, -3.47413206e+00, -1.40883422e+00,  7.99779668e-02,\n",
       "       -6.40671730e-01,  1.68852818e+00,  1.76661372e+00,  4.65944052e-01,\n",
       "        1.01733339e+00,  2.67365932e-01, -4.50493485e-01, -2.21760011e+00,\n",
       "        1.62799549e+00,  1.38729250e+00, -3.55811357e+00, -2.35999036e+00,\n",
       "       -3.74411464e-01,  9.25449491e-01,  2.25418970e-01, -5.26106417e-01,\n",
       "       -2.54140049e-01, -9.15818453e-01,  8.98291945e-01,  2.04169798e+00,\n",
       "       -1.55900812e+00, -6.71399057e-01, -1.04780054e+00, -2.97671139e-01,\n",
       "       -3.34213758e+00,  8.92717987e-02,  1.53730798e+00,  1.01734519e+00,\n",
       "        1.09838951e+00,  1.67069305e-02, -4.92294990e-02, -1.79646027e+00,\n",
       "        2.38069728e-01, -7.91566432e-01,  3.93237323e-01,  2.43985057e+00,\n",
       "       -2.18508214e-01, -2.30344582e+00,  2.37611309e-01, -1.00971985e+00,\n",
       "        1.40872979e+00, -2.48789191e+00,  2.45383736e-02,  5.72545826e-02,\n",
       "        1.09497201e+00, -2.62636989e-01,  1.55505073e+00,  2.15887713e+00,\n",
       "       -1.01882458e+00,  2.86175036e+00, -3.19363475e+00, -1.56986535e+00,\n",
       "       -1.13213921e+00, -9.95836914e-01,  1.52372837e+00, -1.72062111e+00,\n",
       "        3.32590461e-01, -1.36335385e+00, -2.96898216e-01,  2.29732251e+00,\n",
       "       -2.16589618e+00, -2.34268975e+00,  1.10740578e+00, -2.91385889e-01,\n",
       "       -1.95075834e+00, -1.36141777e+00, -2.26833868e+00,  3.12125385e-01,\n",
       "       -5.97219467e-01, -2.47911954e+00,  1.93958616e+00, -2.38075256e+00,\n",
       "        2.54617643e+00,  5.18851161e-01, -1.82455075e+00, -5.28424799e-01,\n",
       "        1.98647761e+00, -1.57012057e+00,  4.28247154e-01, -5.88519216e-01,\n",
       "       -1.56792414e+00, -9.04786944e-01,  3.70274234e+00, -2.13980317e+00,\n",
       "       -1.25247395e+00,  3.26738842e-02,  8.34610499e-03,  9.45210755e-01,\n",
       "       -1.21626794e+00, -7.98387349e-01, -3.03099155e+00, -1.48549640e+00,\n",
       "        4.09421712e-01,  1.57952821e+00, -1.81761694e+00,  4.65400159e-01,\n",
       "        1.10191453e+00, -2.06221715e-02, -4.89375979e-01, -9.67947841e-01,\n",
       "        4.54165936e+00,  7.07949162e-01, -7.98692942e-01, -2.35777497e+00,\n",
       "       -4.81904984e-01, -1.84769905e+00, -8.75726461e-01, -4.68799800e-01,\n",
       "       -1.47067237e+00,  3.27029377e-01, -1.29839551e+00,  3.37108344e-01,\n",
       "        1.02803759e-01,  1.33269131e+00,  1.57823837e+00,  1.55925751e+00,\n",
       "        2.30287313e-01,  1.78978711e-01,  4.57902521e-01, -4.79342729e-01,\n",
       "       -1.47486463e-01,  3.52346718e-01, -3.94159816e-02, -1.30138695e+00,\n",
       "       -4.44366664e-01,  1.73540008e+00,  1.05745018e+00, -1.89724013e-01,\n",
       "       -1.59061348e+00,  1.01226604e+00, -9.66238737e-01, -1.39221323e+00,\n",
       "        1.60540402e-01,  2.66728497e+00, -1.77029014e+00,  1.17318535e+00,\n",
       "       -1.48838234e+00, -1.26283801e+00, -6.01080246e-02, -2.18338346e+00,\n",
       "       -2.17379904e+00, -1.47403789e+00, -1.15482211e+00,  9.41966414e-01,\n",
       "       -1.64438999e+00, -1.38609755e+00, -1.11652243e+00, -1.94383883e+00,\n",
       "        1.19795859e+00,  8.28834653e-01, -4.99951303e-01,  3.82906288e-01,\n",
       "       -9.01316628e-02,  4.36794877e-01,  1.13240516e+00,  6.47619665e-01,\n",
       "        5.73921576e-02,  1.80020705e-01, -6.62177622e-01,  1.50600004e+00,\n",
       "        2.66050380e-02, -1.66375422e+00, -1.65785885e+00, -8.57908785e-01,\n",
       "       -1.87097561e+00, -2.16782957e-01, -7.29102321e-05,  5.83606184e-01,\n",
       "       -5.14734209e-01, -1.15243828e+00, -9.97963607e-01,  1.05104113e+00,\n",
       "        7.97589600e-01,  2.35414481e+00,  7.67505646e-01, -1.80863643e+00,\n",
       "        8.73661935e-01, -3.60862046e-01,  7.68567204e-01,  7.46332228e-01,\n",
       "       -1.64107233e-01,  1.59374774e+00, -2.12508962e-01, -5.30887768e-02,\n",
       "       -2.06339931e+00, -7.89070904e-01, -2.04318017e-01,  4.26600635e-01,\n",
       "        1.98556796e-01,  5.21513104e-01, -3.09164381e+00,  1.19888747e+00,\n",
       "        1.00628793e+00,  1.69385552e+00, -4.83806401e-01, -1.06406045e+00,\n",
       "       -4.20002747e+00,  1.02854276e+00, -3.50850895e-02, -2.02090311e+00,\n",
       "        4.48051840e-01,  4.15348649e-01, -4.96450141e-02,  1.48389161e+00,\n",
       "        9.68145505e-02,  3.42699027e+00,  3.02109033e-01,  1.06576240e+00,\n",
       "        1.55275643e+00, -3.54910105e-01,  6.44154668e-01,  2.62172759e-01,\n",
       "       -3.04645419e+00, -2.18175441e-01,  1.02144134e+00, -4.95223761e-01,\n",
       "       -4.94519293e-01, -3.59547734e-01, -8.12077105e-01, -1.49157584e+00,\n",
       "        1.43081093e+00, -1.14876986e+00, -1.74057806e+00,  7.04470456e-01,\n",
       "        9.76840794e-01, -2.63620943e-01,  5.29538728e-02, -5.77959001e-01,\n",
       "        1.30663371e+00, -3.07351679e-01,  2.74752885e-01,  5.77804327e-01,\n",
       "       -3.48437381e+00, -1.47276366e+00,  4.88996178e-01, -1.26972997e+00,\n",
       "        4.10078287e-01, -1.58918130e+00, -1.29927206e+00, -1.20198917e+00,\n",
       "       -7.29374513e-02, -5.23297310e-01, -2.26873207e+00,  9.59547460e-01],\n",
       "      dtype=float32)"
      ]
     },
     "execution_count": 19,
     "metadata": {},
     "output_type": "execute_result"
    }
   ],
   "source": [
    "yelp.x['vectors'][0]"
   ]
  },
  {
   "cell_type": "code",
   "execution_count": null,
   "id": "d41ac79a",
   "metadata": {},
   "outputs": [],
   "source": []
  }
 ],
 "metadata": {
  "kernelspec": {
   "display_name": "Python 3.8 (ipykernel)",
   "language": "python",
   "name": "python3"
  },
  "language_info": {
   "codemirror_mode": {
    "name": "ipython",
    "version": 3
   },
   "file_extension": ".py",
   "mimetype": "text/x-python",
   "name": "python",
   "nbconvert_exporter": "python",
   "pygments_lexer": "ipython3",
   "version": "3.8.16"
  }
 },
 "nbformat": 4,
 "nbformat_minor": 5
}
