{
 "cells": [
  {
   "cell_type": "markdown",
   "id": "a7cf3026",
   "metadata": {},
   "source": [
    "# Used Sites\n",
    "https://towardsdatascience.com/building-a-topic-modeling-pipeline-with-spacy-and-gensim-c5dc03ffc619\n",
    "\n",
    "https://www.shanelynn.ie/word-embeddings-in-python-with-spacy-and-gensim/\n",
    "\n",
    "https://medium.com/@calmscientist/text-data-preprocessing-for-nlp-using-gensim-and-spacy-23347fcf3648\n",
    "\n",
    "Transformers tutorial - https://huggingface.co/course/chapter1/1?fw=pt\n",
    "\n",
    "Transformers pipeline tutorial - https://huggingface.co/docs/transformers/main/en/pipeline_tutorial\n",
    "\n",
    "https://stackoverflow.com/questions/62676136/extract-sentence-embeddings-features-with-pandas-and-spacy\n",
    "\n",
    "https://stackoverflow.com/questions/44395656/applying-spacy-parser-to-pandas-dataframe-w-multiprocessing\n",
    "\n",
    "https://prrao87.github.io/blog/spacy/nlp/performance/2020/05/02/spacy-multiprocess.html\n",
    "\n",
    "https://spacy.io/api/language#pipe"
   ]
  },
  {
   "cell_type": "markdown",
   "id": "d2779230",
   "metadata": {},
   "source": [
    "# Quick access\n",
    "## Files\n",
    "Yelp - http://localhost:8888/edit/Projects/Project02/Yelp.py\n",
    "\n",
    "Yelp_Manager - http://localhost:8888/edit/Projects/Project02/Yelp_Manager.py\n",
    "\n",
    "## Sites\n",
    "Overleaf - https://www.overleaf.com/project/64114be1556eabd7416556c7\n",
    "\n",
    "Transformers tutorial - https://huggingface.co/course/chapter1/1?fw=pt\n",
    "\n",
    "Transformers pipeline tutorial - https://huggingface.co/docs/transformers/main/en/pipeline_tutorial"
   ]
  },
  {
   "cell_type": "code",
   "execution_count": 1,
   "id": "874322a4",
   "metadata": {
    "scrolled": true
   },
   "outputs": [],
   "source": [
    "from Yelp_Manager import *"
   ]
  },
  {
   "cell_type": "code",
   "execution_count": 2,
   "id": "2bcc2b32",
   "metadata": {},
   "outputs": [],
   "source": [
    "device = torch.device('cuda' if torch.cuda.is_available() else 'cpu')"
   ]
  },
  {
   "cell_type": "code",
   "execution_count": 3,
   "id": "3ad508ec",
   "metadata": {},
   "outputs": [
    {
     "name": "stderr",
     "output_type": "stream",
     "text": [
      "Some weights of the model checkpoint at roberta-base were not used when initializing RobertaForSequenceClassification: ['lm_head.dense.bias', 'lm_head.decoder.weight', 'lm_head.layer_norm.bias', 'roberta.pooler.dense.weight', 'roberta.pooler.dense.bias', 'lm_head.layer_norm.weight', 'lm_head.bias', 'lm_head.dense.weight']\n",
      "- This IS expected if you are initializing RobertaForSequenceClassification from the checkpoint of a model trained on another task or with another architecture (e.g. initializing a BertForSequenceClassification model from a BertForPreTraining model).\n",
      "- This IS NOT expected if you are initializing RobertaForSequenceClassification from the checkpoint of a model that you expect to be exactly identical (initializing a BertForSequenceClassification model from a BertForSequenceClassification model).\n",
      "Some weights of RobertaForSequenceClassification were not initialized from the model checkpoint at roberta-base and are newly initialized: ['classifier.out_proj.weight', 'classifier.dense.bias', 'classifier.out_proj.bias', 'classifier.dense.weight']\n",
      "You should probably TRAIN this model on a down-stream task to be able to use it for predictions and inference.\n"
     ]
    }
   ],
   "source": [
    "yelp = Yelp_Manager('./yelp_dataset/yelp_academic_dataset_review.json', nrows=100000)\n",
    "yelp.load_dataset()"
   ]
  },
  {
   "cell_type": "code",
   "execution_count": 4,
   "id": "33cf6fba",
   "metadata": {},
   "outputs": [],
   "source": [
    "#yelp.process_dataset()"
   ]
  },
  {
   "cell_type": "code",
   "execution_count": 5,
   "id": "0317419e",
   "metadata": {},
   "outputs": [],
   "source": [
    "#yelp.x.loc[0, 'text']"
   ]
  },
  {
   "cell_type": "code",
   "execution_count": 6,
   "id": "ba9c1e0a",
   "metadata": {},
   "outputs": [],
   "source": [
    "#yelp.x['text'].apply(yelp.nlp)\n",
    "#yelp.x.loc[0, 'text']"
   ]
  },
  {
   "cell_type": "code",
   "execution_count": 7,
   "id": "b4d99651",
   "metadata": {},
   "outputs": [],
   "source": [
    "# vector = yelp.word_embedding(yelp.x.loc[1, 'text'])\n",
    "# print(vector)"
   ]
  },
  {
   "cell_type": "code",
   "execution_count": 8,
   "id": "75fdd11b",
   "metadata": {},
   "outputs": [
    {
     "data": {
      "text/plain": [
       "100000"
      ]
     },
     "execution_count": 8,
     "metadata": {},
     "output_type": "execute_result"
    }
   ],
   "source": [
    "len(yelp.x)"
   ]
  },
  {
   "cell_type": "code",
   "execution_count": 9,
   "id": "1142f72e",
   "metadata": {},
   "outputs": [],
   "source": [
    "# token = []\n",
    "# count = 0\n",
    "# checkpoint = 1000\n",
    "# for doc in yelp.nlp.pipe(yelp.x['text'].tolist(), n_process=7):\n",
    "#     token.append(doc.vector)\n",
    "#     count += 1\n",
    "#     if count == checkpoint:\n",
    "#         print(count)\n",
    "#         checkpoint += 10000\n",
    "# yelp.x['token'] = token"
   ]
  },
  {
   "cell_type": "code",
   "execution_count": 31,
   "id": "27e70983",
   "metadata": {},
   "outputs": [],
   "source": [
    "import time\n",
    "\n",
    "start = time.time()"
   ]
  },
  {
   "cell_type": "code",
   "execution_count": 32,
   "id": "fee9ba70",
   "metadata": {},
   "outputs": [],
   "source": [
    "#yelp.x['vectors'] = yelp.spacy_vectorize(yelp.x)\n",
    "vectors = yelp.count_vectorize(yelp.x)"
   ]
  },
  {
   "cell_type": "code",
   "execution_count": 33,
   "id": "3850d570",
   "metadata": {},
   "outputs": [
    {
     "name": "stdout",
     "output_type": "stream",
     "text": [
      "4.450847625732422\n"
     ]
    }
   ],
   "source": [
    "end = time.time()\n",
    "print(end - start)"
   ]
  },
  {
   "cell_type": "code",
   "execution_count": 35,
   "id": "3426eb06",
   "metadata": {},
   "outputs": [
    {
     "name": "stdout",
     "output_type": "stream",
     "text": [
      "1\n",
      "1\n",
      "1\n",
      "1\n",
      "1\n",
      "1\n",
      "1\n",
      "1\n",
      "1\n",
      "1\n",
      "1\n",
      "1\n",
      "1\n",
      "1\n",
      "1\n",
      "1\n",
      "1\n",
      "1\n",
      "1\n",
      "1\n",
      "1\n",
      "1\n",
      "1\n",
      "1\n",
      "1\n",
      "1\n",
      "1\n",
      "1\n",
      "1\n",
      "1\n",
      "1\n",
      "1\n",
      "1\n",
      "1\n",
      "1\n",
      "1\n",
      "1\n",
      "1\n",
      "1\n",
      "1\n",
      "1\n",
      "1\n",
      "1\n",
      "1\n",
      "1\n",
      "1\n",
      "1\n",
      "1\n",
      "1\n",
      "1\n",
      "1\n",
      "1\n",
      "1\n"
     ]
    }
   ],
   "source": []
  },
  {
   "cell_type": "code",
   "execution_count": 13,
   "id": "9b192bc5",
   "metadata": {},
   "outputs": [],
   "source": [
    "#classifier = pipeline(\"sentiment-analysis\")"
   ]
  },
  {
   "cell_type": "code",
   "execution_count": 14,
   "id": "edbfc08b",
   "metadata": {},
   "outputs": [],
   "source": [
    "#model = AutoModelForSequenceClassification.from_pretrained(\"roberta-base\")"
   ]
  },
  {
   "cell_type": "code",
   "execution_count": 15,
   "id": "130bb312",
   "metadata": {},
   "outputs": [],
   "source": [
    "#tokenizer = AutoTokenizer.from_pretrained(\"roberta-base\")"
   ]
  }
 ],
 "metadata": {
  "kernelspec": {
   "display_name": "Python 3.8 (ipykernel)",
   "language": "python",
   "name": "python3"
  },
  "language_info": {
   "codemirror_mode": {
    "name": "ipython",
    "version": 3
   },
   "file_extension": ".py",
   "mimetype": "text/x-python",
   "name": "python",
   "nbconvert_exporter": "python",
   "pygments_lexer": "ipython3",
   "version": "3.8.16"
  }
 },
 "nbformat": 4,
 "nbformat_minor": 5
}
