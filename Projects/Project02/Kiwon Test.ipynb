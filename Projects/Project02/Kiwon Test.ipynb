{
 "cells": [
  {
   "cell_type": "markdown",
   "id": "a7cf3026",
   "metadata": {},
   "source": [
    "# Used Sites\n",
    "\n",
    "Transformers tutorial - https://huggingface.co/course/chapter1/1?fw=pt\n",
    "\n",
    "Transformers pipeline tutorial - https://huggingface.co/docs/transformers/main/en/pipeline_tutorial\n",
    "\n",
    "https://stackoverflow.com/questions/62676136/extract-sentence-embeddings-features-with-pandas-and-spacy\n",
    "\n",
    "https://stackoverflow.com/questions/44395656/applying-spacy-parser-to-pandas-dataframe-w-multiprocessing\n",
    "\n",
    "https://prrao87.github.io/blog/spacy/nlp/performance/2020/05/02/spacy-multiprocess.html\n",
    "\n",
    "https://spacy.io/api/language#pipe\n",
    "\n",
    "https://www.nbshare.io/notebook/595607887/Understanding-Word-Embeddings-Using-Spacy-Python/\n",
    "\n",
    "### About Bi_LSTM\n",
    "\n",
    "##### code reference\n",
    "https://pytorch.org/tutorials/beginner/nlp/advanced_tutorial.html\n",
    "\n",
    "##### Hidden Layer\n",
    "https://ai.stackexchange.com/questions/3156/how-to-select-number-of-hidden-layers-and-number-of-memory-cells-in-an-lstm\n",
    "\n",
    "https://stats.stackexchange.com/questions/181/how-to-choose-the-number-of-hidden-layers-and-nodes-in-a-feedforward-neural-netw/136542#136542\n",
    "\n",
    "https://stackoverflow.com/questions/63294347/difference-between-hidden-dimension-and-n-layers-in-rnn-using-pytorch\n",
    "\n",
    "##### word embedding to tensor\n",
    "https://medium.com/@martinpella/how-to-use-pre-trained-word-embeddings-in-pytorch-71ca59249f76\n",
    "\n",
    "##### Pytorch\n",
    "https://pytorch.org/docs/stable/generated/torch.nn.LSTM.html\n",
    "\n",
    "https://towardsdatascience.com/lstm-text-classification-using-pytorch-2c6c657f8fc0\n",
    "\n",
    "https://www.kaggle.com/code/arunmohan003/sentiment-analysis-using-lstm-pytorch/notebook\n",
    "\n",
    "https://www.kaggle.com/code/mlwhiz/bilstm-pytorch-and-keras\n",
    "\n",
    "https://discuss.pytorch.org/t/a-model-with-multiple-outputs/10440"
   ]
  },
  {
   "cell_type": "markdown",
   "id": "d2779230",
   "metadata": {},
   "source": [
    "# Quick access\n",
    "## Files\n",
    "Yelp - http://localhost:8888/edit/Projects/Project02/Yelp.py\n",
    "\n",
    "Yelp_Manager - http://localhost:8888/edit/Projects/Project02/Yelp_Manager.py\n",
    "\n",
    "## Sites\n",
    "Overleaf - https://www.overleaf.com/project/64114be1556eabd7416556c7"
   ]
  },
  {
   "cell_type": "code",
   "execution_count": 1,
   "id": "874322a4",
   "metadata": {
    "scrolled": true
   },
   "outputs": [],
   "source": [
    "from Yelp_Manager import *"
   ]
  },
  {
   "cell_type": "code",
   "execution_count": 2,
   "id": "96f0227c",
   "metadata": {},
   "outputs": [],
   "source": [
    "start = time.time()"
   ]
  },
  {
   "cell_type": "code",
   "execution_count": 3,
   "id": "3ad508ec",
   "metadata": {},
   "outputs": [],
   "source": [
    "yelp = Yelp_Manager(nrows = 10000)\n",
    "yelp.initialize() #194 seconds/7 million rows #5.5 seconds/100,000 rows"
   ]
  },
  {
   "cell_type": "code",
   "execution_count": 4,
   "id": "217993ee",
   "metadata": {},
   "outputs": [
    {
     "name": "stdout",
     "output_type": "stream",
     "text": [
      "2.811424732208252\n"
     ]
    }
   ],
   "source": [
    "end = time.time()\n",
    "print(end - start)"
   ]
  },
  {
   "cell_type": "code",
   "execution_count": 5,
   "id": "c42f9ffd",
   "metadata": {},
   "outputs": [
    {
     "data": {
      "text/html": [
       "<div>\n",
       "<style scoped>\n",
       "    .dataframe tbody tr th:only-of-type {\n",
       "        vertical-align: middle;\n",
       "    }\n",
       "\n",
       "    .dataframe tbody tr th {\n",
       "        vertical-align: top;\n",
       "    }\n",
       "\n",
       "    .dataframe thead th {\n",
       "        text-align: right;\n",
       "    }\n",
       "</style>\n",
       "<table border=\"1\" class=\"dataframe\">\n",
       "  <thead>\n",
       "    <tr style=\"text-align: right;\">\n",
       "      <th></th>\n",
       "      <th>stars</th>\n",
       "      <th>useful</th>\n",
       "      <th>funny</th>\n",
       "      <th>cool</th>\n",
       "      <th>text</th>\n",
       "    </tr>\n",
       "  </thead>\n",
       "  <tbody>\n",
       "    <tr>\n",
       "      <th>0</th>\n",
       "      <td>3</td>\n",
       "      <td>0</td>\n",
       "      <td>0</td>\n",
       "      <td>0</td>\n",
       "      <td>If you decide to eat here, just be aware it is...</td>\n",
       "    </tr>\n",
       "    <tr>\n",
       "      <th>1</th>\n",
       "      <td>5</td>\n",
       "      <td>1</td>\n",
       "      <td>0</td>\n",
       "      <td>1</td>\n",
       "      <td>I've taken a lot of spin classes over the year...</td>\n",
       "    </tr>\n",
       "    <tr>\n",
       "      <th>2</th>\n",
       "      <td>3</td>\n",
       "      <td>0</td>\n",
       "      <td>0</td>\n",
       "      <td>0</td>\n",
       "      <td>Family diner. Had the buffet. Eclectic assortm...</td>\n",
       "    </tr>\n",
       "    <tr>\n",
       "      <th>3</th>\n",
       "      <td>5</td>\n",
       "      <td>1</td>\n",
       "      <td>0</td>\n",
       "      <td>1</td>\n",
       "      <td>Wow!  Yummy, different,  delicious.   Our favo...</td>\n",
       "    </tr>\n",
       "    <tr>\n",
       "      <th>4</th>\n",
       "      <td>4</td>\n",
       "      <td>1</td>\n",
       "      <td>0</td>\n",
       "      <td>1</td>\n",
       "      <td>Cute interior and owner (?) gave us tour of up...</td>\n",
       "    </tr>\n",
       "  </tbody>\n",
       "</table>\n",
       "</div>"
      ],
      "text/plain": [
       "   stars  useful  funny  cool  \\\n",
       "0      3       0      0     0   \n",
       "1      5       1      0     1   \n",
       "2      3       0      0     0   \n",
       "3      5       1      0     1   \n",
       "4      4       1      0     1   \n",
       "\n",
       "                                                text  \n",
       "0  If you decide to eat here, just be aware it is...  \n",
       "1  I've taken a lot of spin classes over the year...  \n",
       "2  Family diner. Had the buffet. Eclectic assortm...  \n",
       "3  Wow!  Yummy, different,  delicious.   Our favo...  \n",
       "4  Cute interior and owner (?) gave us tour of up...  "
      ]
     },
     "execution_count": 5,
     "metadata": {},
     "output_type": "execute_result"
    }
   ],
   "source": [
    "yelp.yelp.head()"
   ]
  },
  {
   "cell_type": "code",
   "execution_count": 6,
   "id": "ba9c1e0a",
   "metadata": {},
   "outputs": [],
   "source": [
    "#yelp.x['text'].apply(yelp.nlp)\n",
    "#yelp.x.loc[0, 'text']"
   ]
  },
  {
   "cell_type": "code",
   "execution_count": 7,
   "id": "27e70983",
   "metadata": {},
   "outputs": [],
   "source": [
    "start = time.time()"
   ]
  },
  {
   "cell_type": "code",
   "execution_count": 8,
   "id": "fee9ba70",
   "metadata": {
    "scrolled": true
   },
   "outputs": [],
   "source": [
    "#yelp.x['vectors'] = yelp.spacy_vectorize(yelp.x) #121 seconds/100,000\n",
    "#vectors = yelp.count_vectorize(yelp.x) #5 seconds/100,000\n",
    "#yelp.x['text'].apply(yelp.nlp) #137/10,000\n",
    "yelp.preprocess_dataset() #95 seconds/100,000 #4636.126925468445 seconds/7 million records"
   ]
  },
  {
   "cell_type": "code",
   "execution_count": 9,
   "id": "3850d570",
   "metadata": {},
   "outputs": [
    {
     "name": "stdout",
     "output_type": "stream",
     "text": [
      "0.010332107543945312\n"
     ]
    }
   ],
   "source": [
    "end = time.time()\n",
    "print(end - start)"
   ]
  },
  {
   "cell_type": "code",
   "execution_count": 10,
   "id": "51d9b32c",
   "metadata": {},
   "outputs": [
    {
     "name": "stderr",
     "output_type": "stream",
     "text": [
      "100%|████████████████████████████████████████████████████████████████████| 10000/10000 [00:07<00:00, 1426.19it/s]"
     ]
    },
    {
     "name": "stdout",
     "output_type": "stream",
     "text": [
      "7.0305564403533936\n"
     ]
    },
    {
     "name": "stderr",
     "output_type": "stream",
     "text": [
      "\n"
     ]
    }
   ],
   "source": [
    "start = time.time()\n",
    "vectors = yelp.process_dataset()\n",
    "end = time.time()\n",
    "print(end - start)"
   ]
  },
  {
   "cell_type": "code",
   "execution_count": null,
   "id": "d41ac79a",
   "metadata": {},
   "outputs": [],
   "source": []
  }
 ],
 "metadata": {
  "kernelspec": {
   "display_name": "Python 3.8 (ipykernel)",
   "language": "python",
   "name": "python3"
  },
  "language_info": {
   "codemirror_mode": {
    "name": "ipython",
    "version": 3
   },
   "file_extension": ".py",
   "mimetype": "text/x-python",
   "name": "python",
   "nbconvert_exporter": "python",
   "pygments_lexer": "ipython3",
   "version": "3.8.16"
  }
 },
 "nbformat": 4,
 "nbformat_minor": 5
}
