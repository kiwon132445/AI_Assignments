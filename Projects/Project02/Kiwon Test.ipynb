{
 "cells": [
  {
   "cell_type": "markdown",
   "id": "a7cf3026",
   "metadata": {},
   "source": [
    "# Used Sites\n",
    "\n",
    "Transformers tutorial - https://huggingface.co/course/chapter1/1?fw=pt\n",
    "\n",
    "Transformers pipeline tutorial - https://huggingface.co/docs/transformers/main/en/pipeline_tutorial\n",
    "\n",
    "https://stackoverflow.com/questions/62676136/extract-sentence-embeddings-features-with-pandas-and-spacy\n",
    "\n",
    "https://stackoverflow.com/questions/44395656/applying-spacy-parser-to-pandas-dataframe-w-multiprocessing\n",
    "\n",
    "https://prrao87.github.io/blog/spacy/nlp/performance/2020/05/02/spacy-multiprocess.html\n",
    "\n",
    "https://spacy.io/api/language#pipe\n",
    "\n",
    "https://www.nbshare.io/notebook/595607887/Understanding-Word-Embeddings-Using-Spacy-Python/"
   ]
  },
  {
   "cell_type": "markdown",
   "id": "d2779230",
   "metadata": {},
   "source": [
    "# Quick access\n",
    "## Files\n",
    "Yelp - http://localhost:8888/edit/Projects/Project02/Yelp.py\n",
    "\n",
    "Yelp_Manager - http://localhost:8888/edit/Projects/Project02/Yelp_Manager.py\n",
    "\n",
    "## Sites\n",
    "Overleaf - https://www.overleaf.com/project/64114be1556eabd7416556c7\n",
    "\n",
    "Transformers tutorial - https://huggingface.co/course/chapter1/1?fw=pt\n",
    "\n",
    "Transformers pipeline tutorial - https://huggingface.co/docs/transformers/main/en/pipeline_tutorial"
   ]
  },
  {
   "cell_type": "code",
   "execution_count": 2,
   "id": "874322a4",
   "metadata": {
    "scrolled": true
   },
   "outputs": [],
   "source": [
    "from Yelp_Manager import *"
   ]
  },
  {
   "cell_type": "code",
   "execution_count": 3,
   "id": "96f0227c",
   "metadata": {},
   "outputs": [],
   "source": [
    "start = time.time()"
   ]
  },
  {
   "cell_type": "code",
   "execution_count": 4,
   "id": "3ad508ec",
   "metadata": {},
   "outputs": [],
   "source": [
    "yelp = Yelp_Manager(preprocessed=False)\n",
    "yelp.initialize() #194 seconds/7 million rows #5.5 seconds/100,000 rows"
   ]
  },
  {
   "cell_type": "code",
   "execution_count": 5,
   "id": "217993ee",
   "metadata": {},
   "outputs": [
    {
     "name": "stdout",
     "output_type": "stream",
     "text": [
      "174.64839029312134\n"
     ]
    }
   ],
   "source": [
    "end = time.time()\n",
    "print(end - start)"
   ]
  },
  {
   "cell_type": "code",
   "execution_count": 6,
   "id": "c42f9ffd",
   "metadata": {},
   "outputs": [
    {
     "data": {
      "text/html": [
       "<div>\n",
       "<style scoped>\n",
       "    .dataframe tbody tr th:only-of-type {\n",
       "        vertical-align: middle;\n",
       "    }\n",
       "\n",
       "    .dataframe tbody tr th {\n",
       "        vertical-align: top;\n",
       "    }\n",
       "\n",
       "    .dataframe thead th {\n",
       "        text-align: right;\n",
       "    }\n",
       "</style>\n",
       "<table border=\"1\" class=\"dataframe\">\n",
       "  <thead>\n",
       "    <tr style=\"text-align: right;\">\n",
       "      <th></th>\n",
       "      <th>stars</th>\n",
       "      <th>useful</th>\n",
       "      <th>funny</th>\n",
       "      <th>cool</th>\n",
       "      <th>text</th>\n",
       "    </tr>\n",
       "  </thead>\n",
       "  <tbody>\n",
       "    <tr>\n",
       "      <th>0</th>\n",
       "      <td>3</td>\n",
       "      <td>0</td>\n",
       "      <td>0</td>\n",
       "      <td>0</td>\n",
       "      <td>If you decide to eat here, just be aware it is...</td>\n",
       "    </tr>\n",
       "    <tr>\n",
       "      <th>1</th>\n",
       "      <td>5</td>\n",
       "      <td>1</td>\n",
       "      <td>0</td>\n",
       "      <td>1</td>\n",
       "      <td>I've taken a lot of spin classes over the year...</td>\n",
       "    </tr>\n",
       "    <tr>\n",
       "      <th>2</th>\n",
       "      <td>3</td>\n",
       "      <td>0</td>\n",
       "      <td>0</td>\n",
       "      <td>0</td>\n",
       "      <td>Family diner. Had the buffet. Eclectic assortm...</td>\n",
       "    </tr>\n",
       "    <tr>\n",
       "      <th>3</th>\n",
       "      <td>5</td>\n",
       "      <td>1</td>\n",
       "      <td>0</td>\n",
       "      <td>1</td>\n",
       "      <td>Wow!  Yummy, different,  delicious.   Our favo...</td>\n",
       "    </tr>\n",
       "    <tr>\n",
       "      <th>4</th>\n",
       "      <td>4</td>\n",
       "      <td>1</td>\n",
       "      <td>0</td>\n",
       "      <td>1</td>\n",
       "      <td>Cute interior and owner (?) gave us tour of up...</td>\n",
       "    </tr>\n",
       "  </tbody>\n",
       "</table>\n",
       "</div>"
      ],
      "text/plain": [
       "   stars  useful  funny  cool  \\\n",
       "0      3       0      0     0   \n",
       "1      5       1      0     1   \n",
       "2      3       0      0     0   \n",
       "3      5       1      0     1   \n",
       "4      4       1      0     1   \n",
       "\n",
       "                                                text  \n",
       "0  If you decide to eat here, just be aware it is...  \n",
       "1  I've taken a lot of spin classes over the year...  \n",
       "2  Family diner. Had the buffet. Eclectic assortm...  \n",
       "3  Wow!  Yummy, different,  delicious.   Our favo...  \n",
       "4  Cute interior and owner (?) gave us tour of up...  "
      ]
     },
     "execution_count": 6,
     "metadata": {},
     "output_type": "execute_result"
    }
   ],
   "source": [
    "yelp.yelp.head()"
   ]
  },
  {
   "cell_type": "code",
   "execution_count": 7,
   "id": "ba9c1e0a",
   "metadata": {},
   "outputs": [],
   "source": [
    "#yelp.x['text'].apply(yelp.nlp)\n",
    "#yelp.x.loc[0, 'text']"
   ]
  },
  {
   "cell_type": "code",
   "execution_count": 8,
   "id": "27e70983",
   "metadata": {},
   "outputs": [],
   "source": [
    "start = time.time()"
   ]
  },
  {
   "cell_type": "code",
   "execution_count": 9,
   "id": "fee9ba70",
   "metadata": {
    "scrolled": true
   },
   "outputs": [
    {
     "name": "stdout",
     "output_type": "stream",
     "text": [
      "Remaining preprocess data: 10280  Time past: 4564.729180097581555\r"
     ]
    }
   ],
   "source": [
    "#yelp.x['vectors'] = yelp.spacy_vectorize(yelp.x) #121 seconds/100,000\n",
    "#vectors = yelp.count_vectorize(yelp.x) #5 seconds/100,000\n",
    "#yelp.x['text'].apply(yelp.nlp) #137/10,000\n",
    "yelp.preprocess_dataset() #95 seconds/100,000 #4636.126925468445 seconds/7 million records"
   ]
  },
  {
   "cell_type": "code",
   "execution_count": 10,
   "id": "3850d570",
   "metadata": {},
   "outputs": [
    {
     "name": "stdout",
     "output_type": "stream",
     "text": [
      "4636.126925468445\n"
     ]
    }
   ],
   "source": [
    "end = time.time()\n",
    "print(end - start)"
   ]
  },
  {
   "cell_type": "code",
   "execution_count": 16,
   "id": "72c37522",
   "metadata": {},
   "outputs": [
    {
     "data": {
      "text/html": [
       "<div>\n",
       "<style scoped>\n",
       "    .dataframe tbody tr th:only-of-type {\n",
       "        vertical-align: middle;\n",
       "    }\n",
       "\n",
       "    .dataframe tbody tr th {\n",
       "        vertical-align: top;\n",
       "    }\n",
       "\n",
       "    .dataframe thead th {\n",
       "        text-align: right;\n",
       "    }\n",
       "</style>\n",
       "<table border=\"1\" class=\"dataframe\">\n",
       "  <thead>\n",
       "    <tr style=\"text-align: right;\">\n",
       "      <th></th>\n",
       "      <th>text</th>\n",
       "    </tr>\n",
       "  </thead>\n",
       "  <tbody>\n",
       "    <tr>\n",
       "      <th>0</th>\n",
       "      <td>decide eat aware going 2 hours beginning end t...</td>\n",
       "    </tr>\n",
       "    <tr>\n",
       "      <th>1</th>\n",
       "      <td>taken lot spin classes years compares classes ...</td>\n",
       "    </tr>\n",
       "    <tr>\n",
       "      <th>2</th>\n",
       "      <td>family diner buffet eclectic assortment large ...</td>\n",
       "    </tr>\n",
       "    <tr>\n",
       "      <th>3</th>\n",
       "      <td>wow yummy different delicious favorite lamb cu...</td>\n",
       "    </tr>\n",
       "    <tr>\n",
       "      <th>4</th>\n",
       "      <td>cute interior owner gave tour upcoming patio r...</td>\n",
       "    </tr>\n",
       "    <tr>\n",
       "      <th>...</th>\n",
       "      <td>...</td>\n",
       "    </tr>\n",
       "    <tr>\n",
       "      <th>6990275</th>\n",
       "      <td>latest addition services iccu apple pay iccu d...</td>\n",
       "    </tr>\n",
       "    <tr>\n",
       "      <th>6990276</th>\n",
       "      <td>spot offers great affordable east weekend padd...</td>\n",
       "    </tr>\n",
       "    <tr>\n",
       "      <th>6990277</th>\n",
       "      <td>home depot won needed lot demential lumber war...</td>\n",
       "    </tr>\n",
       "    <tr>\n",
       "      <th>6990278</th>\n",
       "      <td>feeling like ignoring calorie counting indulgi...</td>\n",
       "    </tr>\n",
       "    <tr>\n",
       "      <th>6990279</th>\n",
       "      <td>located walking district nashville bit way mis...</td>\n",
       "    </tr>\n",
       "  </tbody>\n",
       "</table>\n",
       "<p>6990280 rows × 1 columns</p>\n",
       "</div>"
      ],
      "text/plain": [
       "                                                      text\n",
       "0        decide eat aware going 2 hours beginning end t...\n",
       "1        taken lot spin classes years compares classes ...\n",
       "2        family diner buffet eclectic assortment large ...\n",
       "3        wow yummy different delicious favorite lamb cu...\n",
       "4        cute interior owner gave tour upcoming patio r...\n",
       "...                                                    ...\n",
       "6990275  latest addition services iccu apple pay iccu d...\n",
       "6990276  spot offers great affordable east weekend padd...\n",
       "6990277  home depot won needed lot demential lumber war...\n",
       "6990278  feeling like ignoring calorie counting indulgi...\n",
       "6990279  located walking district nashville bit way mis...\n",
       "\n",
       "[6990280 rows x 1 columns]"
      ]
     },
     "execution_count": 16,
     "metadata": {},
     "output_type": "execute_result"
    }
   ],
   "source": [
    "yelp.x"
   ]
  },
  {
   "cell_type": "code",
   "execution_count": 17,
   "id": "af8f03db",
   "metadata": {},
   "outputs": [],
   "source": [
    "#available variables\n",
    "# yelp.x, yelp.y\n",
    "# yelp.X_train, yelp.y_train\n",
    "# yelp.X_valid, yelp.y_valid\n",
    "# yelp.X_test, yelp.y_test\n",
    "# yelp.count_vectorize(whateverdataset['text'])"
   ]
  },
  {
   "cell_type": "code",
   "execution_count": 18,
   "id": "f06e5e5b",
   "metadata": {},
   "outputs": [
    {
     "data": {
      "text/html": [
       "<div>\n",
       "<style scoped>\n",
       "    .dataframe tbody tr th:only-of-type {\n",
       "        vertical-align: middle;\n",
       "    }\n",
       "\n",
       "    .dataframe tbody tr th {\n",
       "        vertical-align: top;\n",
       "    }\n",
       "\n",
       "    .dataframe thead th {\n",
       "        text-align: right;\n",
       "    }\n",
       "</style>\n",
       "<table border=\"1\" class=\"dataframe\">\n",
       "  <thead>\n",
       "    <tr style=\"text-align: right;\">\n",
       "      <th></th>\n",
       "      <th>text</th>\n",
       "    </tr>\n",
       "  </thead>\n",
       "  <tbody>\n",
       "    <tr>\n",
       "      <th>0</th>\n",
       "      <td>decide eat aware going 2 hours beginning end t...</td>\n",
       "    </tr>\n",
       "    <tr>\n",
       "      <th>1</th>\n",
       "      <td>taken lot spin classes years compares classes ...</td>\n",
       "    </tr>\n",
       "    <tr>\n",
       "      <th>2</th>\n",
       "      <td>family diner buffet eclectic assortment large ...</td>\n",
       "    </tr>\n",
       "    <tr>\n",
       "      <th>3</th>\n",
       "      <td>wow yummy different delicious favorite lamb cu...</td>\n",
       "    </tr>\n",
       "    <tr>\n",
       "      <th>4</th>\n",
       "      <td>cute interior owner gave tour upcoming patio r...</td>\n",
       "    </tr>\n",
       "    <tr>\n",
       "      <th>...</th>\n",
       "      <td>...</td>\n",
       "    </tr>\n",
       "    <tr>\n",
       "      <th>6990275</th>\n",
       "      <td>latest addition services iccu apple pay iccu d...</td>\n",
       "    </tr>\n",
       "    <tr>\n",
       "      <th>6990276</th>\n",
       "      <td>spot offers great affordable east weekend padd...</td>\n",
       "    </tr>\n",
       "    <tr>\n",
       "      <th>6990277</th>\n",
       "      <td>home depot won needed lot demential lumber war...</td>\n",
       "    </tr>\n",
       "    <tr>\n",
       "      <th>6990278</th>\n",
       "      <td>feeling like ignoring calorie counting indulgi...</td>\n",
       "    </tr>\n",
       "    <tr>\n",
       "      <th>6990279</th>\n",
       "      <td>located walking district nashville bit way mis...</td>\n",
       "    </tr>\n",
       "  </tbody>\n",
       "</table>\n",
       "<p>6990280 rows × 1 columns</p>\n",
       "</div>"
      ],
      "text/plain": [
       "                                                      text\n",
       "0        decide eat aware going 2 hours beginning end t...\n",
       "1        taken lot spin classes years compares classes ...\n",
       "2        family diner buffet eclectic assortment large ...\n",
       "3        wow yummy different delicious favorite lamb cu...\n",
       "4        cute interior owner gave tour upcoming patio r...\n",
       "...                                                    ...\n",
       "6990275  latest addition services iccu apple pay iccu d...\n",
       "6990276  spot offers great affordable east weekend padd...\n",
       "6990277  home depot won needed lot demential lumber war...\n",
       "6990278  feeling like ignoring calorie counting indulgi...\n",
       "6990279  located walking district nashville bit way mis...\n",
       "\n",
       "[6990280 rows x 1 columns]"
      ]
     },
     "execution_count": 18,
     "metadata": {},
     "output_type": "execute_result"
    }
   ],
   "source": [
    "yelp.x"
   ]
  },
  {
   "cell_type": "code",
   "execution_count": null,
   "id": "67a5cb98",
   "metadata": {},
   "outputs": [],
   "source": []
  }
 ],
 "metadata": {
  "kernelspec": {
   "display_name": "Python 3.8 (ipykernel)",
   "language": "python",
   "name": "python3"
  },
  "language_info": {
   "codemirror_mode": {
    "name": "ipython",
    "version": 3
   },
   "file_extension": ".py",
   "mimetype": "text/x-python",
   "name": "python",
   "nbconvert_exporter": "python",
   "pygments_lexer": "ipython3",
   "version": "3.8.16"
  }
 },
 "nbformat": 4,
 "nbformat_minor": 5
}
