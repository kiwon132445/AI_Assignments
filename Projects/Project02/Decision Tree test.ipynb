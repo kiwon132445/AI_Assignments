{
 "cells": [
  {
   "cell_type": "markdown",
   "id": "d430c869",
   "metadata": {},
   "source": [
    "# Default run code\n",
    "## Prerequisite:\n",
    "- yelp_academic_dataset_review(word_embedded).json must be in the **Save** folder"
   ]
  },
  {
   "cell_type": "code",
   "execution_count": 1,
   "id": "77e26284",
   "metadata": {},
   "outputs": [],
   "source": [
    "from Yelp_Manager import *\n",
    "# Customize\n",
    "# Yelp_Manager(filepath='./yelp_dataset/yelp_academic_dataset_review.json', model=\"\", experiment=\"\" nrows=0, preprocessed=True)\n",
    "    # filepath - for location of dataset file\n",
    "    # model - for model name (not used)\n",
    "    # experiment - for experiment name (not used)\n",
    "    # nrows - number of records you want to get from the dataset\n",
    "    # preprocessed - if preprocessed have been done already (which I did)\n",
    "    \n",
    "yelp = Yelp_Manager()"
   ]
  },
  {
   "cell_type": "code",
   "execution_count": 2,
   "id": "8e36e5da",
   "metadata": {},
   "outputs": [],
   "source": [
    "# Loads the file and converts content into useable datatype\n",
    "yelp.initialize()"
   ]
  },
  {
   "cell_type": "code",
   "execution_count": 3,
   "id": "c9d790a5",
   "metadata": {},
   "outputs": [],
   "source": [
    "# Preprocess the data if it wasn't already, split the x and y\n",
    "yelp.preprocess_dataset()"
   ]
  },
  {
   "cell_type": "code",
   "execution_count": 4,
   "id": "dbce5ffd",
   "metadata": {},
   "outputs": [
    {
     "data": {
      "text/html": [
       "<div>\n",
       "<style scoped>\n",
       "    .dataframe tbody tr th:only-of-type {\n",
       "        vertical-align: middle;\n",
       "    }\n",
       "\n",
       "    .dataframe tbody tr th {\n",
       "        vertical-align: top;\n",
       "    }\n",
       "\n",
       "    .dataframe thead th {\n",
       "        text-align: right;\n",
       "    }\n",
       "</style>\n",
       "<table border=\"1\" class=\"dataframe\">\n",
       "  <thead>\n",
       "    <tr style=\"text-align: right;\">\n",
       "      <th></th>\n",
       "      <th>text</th>\n",
       "    </tr>\n",
       "  </thead>\n",
       "  <tbody>\n",
       "    <tr>\n",
       "      <th>0</th>\n",
       "      <td>decide eat aware going 2 hours beginning end t...</td>\n",
       "    </tr>\n",
       "    <tr>\n",
       "      <th>1</th>\n",
       "      <td>taken lot spin classes years compares classes ...</td>\n",
       "    </tr>\n",
       "    <tr>\n",
       "      <th>2</th>\n",
       "      <td>family diner buffet eclectic assortment large ...</td>\n",
       "    </tr>\n",
       "    <tr>\n",
       "      <th>3</th>\n",
       "      <td>wow yummy different delicious favorite lamb cu...</td>\n",
       "    </tr>\n",
       "    <tr>\n",
       "      <th>4</th>\n",
       "      <td>cute interior owner gave tour upcoming patio r...</td>\n",
       "    </tr>\n",
       "    <tr>\n",
       "      <th>...</th>\n",
       "      <td>...</td>\n",
       "    </tr>\n",
       "    <tr>\n",
       "      <th>6990275</th>\n",
       "      <td>latest addition services iccu apple pay iccu d...</td>\n",
       "    </tr>\n",
       "    <tr>\n",
       "      <th>6990276</th>\n",
       "      <td>spot offers great affordable east weekend padd...</td>\n",
       "    </tr>\n",
       "    <tr>\n",
       "      <th>6990277</th>\n",
       "      <td>home depot won needed lot demential lumber war...</td>\n",
       "    </tr>\n",
       "    <tr>\n",
       "      <th>6990278</th>\n",
       "      <td>feeling like ignoring calorie counting indulgi...</td>\n",
       "    </tr>\n",
       "    <tr>\n",
       "      <th>6990279</th>\n",
       "      <td>located walking district nashville bit way mis...</td>\n",
       "    </tr>\n",
       "  </tbody>\n",
       "</table>\n",
       "<p>6990280 rows × 1 columns</p>\n",
       "</div>"
      ],
      "text/plain": [
       "                                                      text\n",
       "0        decide eat aware going 2 hours beginning end t...\n",
       "1        taken lot spin classes years compares classes ...\n",
       "2        family diner buffet eclectic assortment large ...\n",
       "3        wow yummy different delicious favorite lamb cu...\n",
       "4        cute interior owner gave tour upcoming patio r...\n",
       "...                                                    ...\n",
       "6990275  latest addition services iccu apple pay iccu d...\n",
       "6990276  spot offers great affordable east weekend padd...\n",
       "6990277  home depot won needed lot demential lumber war...\n",
       "6990278  feeling like ignoring calorie counting indulgi...\n",
       "6990279  located walking district nashville bit way mis...\n",
       "\n",
       "[6990280 rows x 1 columns]"
      ]
     },
     "execution_count": 4,
     "metadata": {},
     "output_type": "execute_result"
    }
   ],
   "source": [
    "yelp.x"
   ]
  },
  {
   "cell_type": "code",
   "execution_count": 5,
   "id": "d119a5b7",
   "metadata": {},
   "outputs": [],
   "source": [
    "yelp.x = yelp.count_vectorize(yelp.x['text'])\n",
    "yelp.y = yelp.y.drop(columns=['useful', 'funny', 'cool'])"
   ]
  },
  {
   "cell_type": "code",
   "execution_count": 6,
   "id": "fb836e92",
   "metadata": {},
   "outputs": [
    {
     "name": "stdout",
     "output_type": "stream",
     "text": [
      "  (0, 246337)\t1\n",
      "  (0, 223592)\t1\n",
      "  (0, 247113)\t2\n",
      "  (0, 386651)\t1\n",
      "  (0, 188265)\t1\n",
      "  (0, 323916)\t1\n",
      "  (0, 94800)\t1\n",
      "  (0, 159881)\t1\n",
      "  (0, 229333)\t1\n",
      "  (0, 328935)\t1\n",
      "  (0, 571144)\t2\n",
      "  (0, 250841)\t1\n",
      "  (0, 249219)\t1\n",
      "  (0, 290594)\t1\n",
      "  (0, 217637)\t1\n",
      "  (0, 441414)\t2\n",
      "  (0, 606173)\t1\n",
      "  (0, 333348)\t1\n",
      "  (0, 497173)\t1\n",
      "  (0, 508603)\t1\n",
      "  (0, 108339)\t1\n",
      "  (0, 367308)\t1\n",
      "  (0, 333007)\t1\n",
      "  (0, 206732)\t1\n",
      "  (0, 523639)\t1\n",
      "  :\t:\n",
      "  (5592223, 486494)\t1\n",
      "  (5592223, 556166)\t1\n",
      "  (5592223, 530729)\t1\n",
      "  (5592223, 104146)\t1\n",
      "  (5592223, 91976)\t1\n",
      "  (5592223, 285173)\t1\n",
      "  (5592223, 243456)\t1\n",
      "  (5592223, 424969)\t1\n",
      "  (5592223, 106838)\t2\n",
      "  (5592223, 558314)\t1\n",
      "  (5592223, 457107)\t1\n",
      "  (5592223, 546175)\t2\n",
      "  (5592223, 517553)\t1\n",
      "  (5592223, 44720)\t1\n",
      "  (5592223, 92883)\t1\n",
      "  (5592223, 605987)\t1\n",
      "  (5592223, 230896)\t1\n",
      "  (5592223, 4103)\t1\n",
      "  (5592223, 564178)\t1\n",
      "  (5592223, 560453)\t1\n",
      "  (5592223, 312747)\t1\n",
      "  (5592223, 543757)\t1\n",
      "  (5592223, 109284)\t1\n",
      "  (5592223, 162221)\t1\n",
      "  (5592223, 537356)\t1\n"
     ]
    }
   ],
   "source": [
    "# Split the data into training, validation, and test sets\n",
    "yelp.process_dataset()\n",
    "print(yelp.X_train)"
   ]
  },
  {
   "cell_type": "code",
   "execution_count": null,
   "id": "f9c2bf90",
   "metadata": {},
   "outputs": [],
   "source": [
    "from sklearn.tree import DecisionTreeClassifier\n",
    "from sklearn import metrics\n",
    "\n",
    "dtc = DecisionTreeClassifier()\n",
    "dtc = dtc.fit(yelp.X_train,yelp.y_train)\n",
    "y_pred = dtc.predict(yelp.X_test)\n",
    "\n",
    "print(yelp.X_train)"
   ]
  },
  {
   "cell_type": "code",
   "execution_count": null,
   "id": "e2f12956",
   "metadata": {},
   "outputs": [],
   "source": [
    "from sklearn.metrics import classification_report\n",
    "# print(\"Accuracy:\",metrics.accuracy_score(y_remaining, y_pred))\n",
    "\n",
    "print(classification_report(yelp.y_test, y_pred))"
   ]
  },
  {
   "cell_type": "code",
   "execution_count": null,
   "id": "c20f9365",
   "metadata": {},
   "outputs": [],
   "source": [
    "filename = \"./Save/\" + \"DTC\" + \".sav\"\n",
    "pickle.dump(dtc, open(filename, 'wb'))"
   ]
  },
  {
   "cell_type": "code",
   "execution_count": null,
   "id": "b447c802",
   "metadata": {},
   "outputs": [],
   "source": [
    "from sklearn.naive_bayes import GaussianNB\n",
    "\n",
    "nb = GaussianNB()\n",
    "nb.fit(yelp.X_train, yelp.y_train)"
   ]
  }
 ],
 "metadata": {
  "kernelspec": {
   "display_name": "Python 3.8 (ipykernel)",
   "language": "python",
   "name": "python3"
  },
  "language_info": {
   "codemirror_mode": {
    "name": "ipython",
    "version": 3
   },
   "file_extension": ".py",
   "mimetype": "text/x-python",
   "name": "python",
   "nbconvert_exporter": "python",
   "pygments_lexer": "ipython3",
   "version": "3.8.16"
  }
 },
 "nbformat": 4,
 "nbformat_minor": 5
}
